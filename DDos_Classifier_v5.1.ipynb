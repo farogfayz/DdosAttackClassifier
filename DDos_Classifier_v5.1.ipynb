{
 "cells": [
  {
   "cell_type": "code",
   "execution_count": 21,
   "metadata": {
    "executionInfo": {
     "elapsed": 55154,
     "status": "ok",
     "timestamp": 1722767461075,
     "user": {
      "displayName": "Harsh Jaiswal",
      "userId": "02937308297490251557"
     },
     "user_tz": -330
    },
    "id": "yrZ1N--u3L5a"
   },
   "outputs": [],
   "source": [
    "# DDoS attacks classifier:\n",
    "#train on CIC19-17 and test on 15\n",
    "\n",
    "\n",
    "import pandas as pd\n",
    "import numpy as np\n",
    "\n",
    "# Suppress specific warnings thats not important:\n",
    "import warnings\n",
    "from sklearn.exceptions import UndefinedMetricWarning\n",
    "warnings.filterwarnings(\"ignore\", category=UndefinedMetricWarning)\n",
    "\n",
    "from tabulate import tabulate\n",
    "from sklearn.model_selection import train_test_split, cross_val_score\n",
    "from sklearn.preprocessing import StandardScaler, LabelEncoder\n",
    "from sklearn.metrics import classification_report, accuracy_score, f1_score, confusion_matrix\n",
    "\n",
    "# models used in the code:\n",
    "from sklearn.linear_model import LogisticRegression\n",
    "from sklearn.ensemble import RandomForestClassifier\n",
    "from sklearn.neural_network import MLPClassifier\n",
    "from sklearn.tree import DecisionTreeClassifier\n",
    "from sklearn.neighbors import KNeighborsClassifier\n",
    "\n",
    "from sklearn.impute import SimpleImputer\n",
    "from sklearn.preprocessing import StandardScaler\n",
    "import matplotlib.pyplot as plt\n",
    "import seaborn as sns\n",
    "\n",
    "#  Train datasets:\n",
    "data1_portmap = pd.read_csv(\"https://ddosciu.s3.us-east-2.amazonaws.com/Portmap.csv\", low_memory=False)\n",
    "data1_ldap = pd.read_csv(\"https://ddosciu.s3.us-east-2.amazonaws.com/LDAP.csv\" ,low_memory=False)\n",
    "data2 = pd.read_csv(\"https://ddosciu.s3.us-east-2.amazonaws.com/Friday-WorkingHours-Afternoon-DDos.pcap_ISCX.csv\", low_memory=False)\n",
    "# Test datasets:\n",
    "data3 = pd.read_csv(\"https://ddosciu.s3.us-east-2.amazonaws.com/UNSW-NB15.csv\", low_memory=False)\n",
    "# Concatenate data1_portmap and data1_ldap:\n",
    "data1 = pd.concat([data1_portmap, data1_ldap], ignore_index=True)"
   ]
  },
  {
   "cell_type": "code",
   "execution_count": 22,
   "metadata": {
    "tags": []
   },
   "outputs": [
    {
     "data": {
      "text/html": [
       "<div>\n",
       "<style scoped>\n",
       "    .dataframe tbody tr th:only-of-type {\n",
       "        vertical-align: middle;\n",
       "    }\n",
       "\n",
       "    .dataframe tbody tr th {\n",
       "        vertical-align: top;\n",
       "    }\n",
       "\n",
       "    .dataframe thead th {\n",
       "        text-align: right;\n",
       "    }\n",
       "</style>\n",
       "<table border=\"1\" class=\"dataframe\">\n",
       "  <thead>\n",
       "    <tr style=\"text-align: right;\">\n",
       "      <th></th>\n",
       "      <th>Unnamed: 0</th>\n",
       "      <th>Flow ID</th>\n",
       "      <th>Source IP</th>\n",
       "      <th>Source Port</th>\n",
       "      <th>Destination IP</th>\n",
       "      <th>Destination Port</th>\n",
       "      <th>Protocol</th>\n",
       "      <th>Timestamp</th>\n",
       "      <th>Flow Duration</th>\n",
       "      <th>Total Fwd Packets</th>\n",
       "      <th>...</th>\n",
       "      <th>Active Std</th>\n",
       "      <th>Active Max</th>\n",
       "      <th>Active Min</th>\n",
       "      <th>Idle Mean</th>\n",
       "      <th>Idle Std</th>\n",
       "      <th>Idle Max</th>\n",
       "      <th>Idle Min</th>\n",
       "      <th>SimillarHTTP</th>\n",
       "      <th>Inbound</th>\n",
       "      <th>Label</th>\n",
       "    </tr>\n",
       "  </thead>\n",
       "  <tbody>\n",
       "    <tr>\n",
       "      <th>0</th>\n",
       "      <td>24</td>\n",
       "      <td>192.168.50.254-224.0.0.5-0-0-0</td>\n",
       "      <td>192.168.50.254</td>\n",
       "      <td>0</td>\n",
       "      <td>224.0.0.5</td>\n",
       "      <td>0</td>\n",
       "      <td>0</td>\n",
       "      <td>2018-11-03 09:18:16.964447</td>\n",
       "      <td>114456999</td>\n",
       "      <td>45</td>\n",
       "      <td>...</td>\n",
       "      <td>28337.112288</td>\n",
       "      <td>98168.0</td>\n",
       "      <td>3.0</td>\n",
       "      <td>9529897.25</td>\n",
       "      <td>351582.631269</td>\n",
       "      <td>10001143.0</td>\n",
       "      <td>9048097.0</td>\n",
       "      <td>0</td>\n",
       "      <td>0</td>\n",
       "      <td>BENIGN</td>\n",
       "    </tr>\n",
       "    <tr>\n",
       "      <th>1</th>\n",
       "      <td>26</td>\n",
       "      <td>192.168.50.253-224.0.0.5-0-0-0</td>\n",
       "      <td>192.168.50.253</td>\n",
       "      <td>0</td>\n",
       "      <td>224.0.0.5</td>\n",
       "      <td>0</td>\n",
       "      <td>0</td>\n",
       "      <td>2018-11-03 09:18:18.506537</td>\n",
       "      <td>114347504</td>\n",
       "      <td>56</td>\n",
       "      <td>...</td>\n",
       "      <td>121314.911865</td>\n",
       "      <td>420255.0</td>\n",
       "      <td>4.0</td>\n",
       "      <td>9493929.75</td>\n",
       "      <td>351541.079539</td>\n",
       "      <td>9978130.0</td>\n",
       "      <td>8820294.0</td>\n",
       "      <td>0</td>\n",
       "      <td>0</td>\n",
       "      <td>BENIGN</td>\n",
       "    </tr>\n",
       "    <tr>\n",
       "      <th>2</th>\n",
       "      <td>176563</td>\n",
       "      <td>172.217.10.98-192.168.50.6-443-54799-6</td>\n",
       "      <td>192.168.50.6</td>\n",
       "      <td>54799</td>\n",
       "      <td>172.217.10.98</td>\n",
       "      <td>443</td>\n",
       "      <td>6</td>\n",
       "      <td>2018-11-03 09:18:18.610576</td>\n",
       "      <td>36435473</td>\n",
       "      <td>6</td>\n",
       "      <td>...</td>\n",
       "      <td>0.000000</td>\n",
       "      <td>62416.0</td>\n",
       "      <td>62416.0</td>\n",
       "      <td>36373056.00</td>\n",
       "      <td>0.000000</td>\n",
       "      <td>36373056.0</td>\n",
       "      <td>36373056.0</td>\n",
       "      <td>0</td>\n",
       "      <td>0</td>\n",
       "      <td>BENIGN</td>\n",
       "    </tr>\n",
       "    <tr>\n",
       "      <th>3</th>\n",
       "      <td>50762</td>\n",
       "      <td>172.217.7.2-192.168.50.6-443-54800-6</td>\n",
       "      <td>192.168.50.6</td>\n",
       "      <td>54800</td>\n",
       "      <td>172.217.7.2</td>\n",
       "      <td>443</td>\n",
       "      <td>6</td>\n",
       "      <td>2018-11-03 09:18:18.610579</td>\n",
       "      <td>36434705</td>\n",
       "      <td>6</td>\n",
       "      <td>...</td>\n",
       "      <td>0.000000</td>\n",
       "      <td>62413.0</td>\n",
       "      <td>62413.0</td>\n",
       "      <td>36372291.00</td>\n",
       "      <td>0.000000</td>\n",
       "      <td>36372291.0</td>\n",
       "      <td>36372291.0</td>\n",
       "      <td>0</td>\n",
       "      <td>0</td>\n",
       "      <td>BENIGN</td>\n",
       "    </tr>\n",
       "    <tr>\n",
       "      <th>4</th>\n",
       "      <td>87149</td>\n",
       "      <td>172.217.10.98-192.168.50.6-443-54801-6</td>\n",
       "      <td>192.168.50.6</td>\n",
       "      <td>54801</td>\n",
       "      <td>172.217.10.98</td>\n",
       "      <td>443</td>\n",
       "      <td>6</td>\n",
       "      <td>2018-11-03 09:18:18.610581</td>\n",
       "      <td>36434626</td>\n",
       "      <td>6</td>\n",
       "      <td>...</td>\n",
       "      <td>0.000000</td>\n",
       "      <td>62409.0</td>\n",
       "      <td>62409.0</td>\n",
       "      <td>36372216.00</td>\n",
       "      <td>0.000000</td>\n",
       "      <td>36372216.0</td>\n",
       "      <td>36372216.0</td>\n",
       "      <td>0</td>\n",
       "      <td>0</td>\n",
       "      <td>BENIGN</td>\n",
       "    </tr>\n",
       "  </tbody>\n",
       "</table>\n",
       "<p>5 rows × 88 columns</p>\n",
       "</div>"
      ],
      "text/plain": [
       "   Unnamed: 0                                 Flow ID       Source IP  \\\n",
       "0          24          192.168.50.254-224.0.0.5-0-0-0  192.168.50.254   \n",
       "1          26          192.168.50.253-224.0.0.5-0-0-0  192.168.50.253   \n",
       "2      176563  172.217.10.98-192.168.50.6-443-54799-6    192.168.50.6   \n",
       "3       50762    172.217.7.2-192.168.50.6-443-54800-6    192.168.50.6   \n",
       "4       87149  172.217.10.98-192.168.50.6-443-54801-6    192.168.50.6   \n",
       "\n",
       "    Source Port  Destination IP   Destination Port   Protocol  \\\n",
       "0             0       224.0.0.5                  0          0   \n",
       "1             0       224.0.0.5                  0          0   \n",
       "2         54799   172.217.10.98                443          6   \n",
       "3         54800     172.217.7.2                443          6   \n",
       "4         54801   172.217.10.98                443          6   \n",
       "\n",
       "                    Timestamp   Flow Duration   Total Fwd Packets  ...  \\\n",
       "0  2018-11-03 09:18:16.964447       114456999                  45  ...   \n",
       "1  2018-11-03 09:18:18.506537       114347504                  56  ...   \n",
       "2  2018-11-03 09:18:18.610576        36435473                   6  ...   \n",
       "3  2018-11-03 09:18:18.610579        36434705                   6  ...   \n",
       "4  2018-11-03 09:18:18.610581        36434626                   6  ...   \n",
       "\n",
       "      Active Std   Active Max   Active Min    Idle Mean       Idle Std  \\\n",
       "0   28337.112288      98168.0          3.0   9529897.25  351582.631269   \n",
       "1  121314.911865     420255.0          4.0   9493929.75  351541.079539   \n",
       "2       0.000000      62416.0      62416.0  36373056.00       0.000000   \n",
       "3       0.000000      62413.0      62413.0  36372291.00       0.000000   \n",
       "4       0.000000      62409.0      62409.0  36372216.00       0.000000   \n",
       "\n",
       "     Idle Max    Idle Min  SimillarHTTP   Inbound   Label  \n",
       "0  10001143.0   9048097.0             0         0  BENIGN  \n",
       "1   9978130.0   8820294.0             0         0  BENIGN  \n",
       "2  36373056.0  36373056.0             0         0  BENIGN  \n",
       "3  36372291.0  36372291.0             0         0  BENIGN  \n",
       "4  36372216.0  36372216.0             0         0  BENIGN  \n",
       "\n",
       "[5 rows x 88 columns]"
      ]
     },
     "execution_count": 22,
     "metadata": {},
     "output_type": "execute_result"
    }
   ],
   "source": [
    "data1.head(5)"
   ]
  },
  {
   "cell_type": "code",
   "execution_count": 23,
   "metadata": {
    "tags": []
   },
   "outputs": [
    {
     "data": {
      "text/plain": [
       "Index(['Unnamed: 0', 'Flow ID', ' Source IP', ' Source Port',\n",
       "       ' Destination IP', ' Destination Port', ' Protocol', ' Timestamp',\n",
       "       ' Flow Duration', ' Total Fwd Packets', ' Total Backward Packets',\n",
       "       'Total Length of Fwd Packets', ' Total Length of Bwd Packets',\n",
       "       ' Fwd Packet Length Max', ' Fwd Packet Length Min',\n",
       "       ' Fwd Packet Length Mean', ' Fwd Packet Length Std',\n",
       "       'Bwd Packet Length Max', ' Bwd Packet Length Min',\n",
       "       ' Bwd Packet Length Mean', ' Bwd Packet Length Std', 'Flow Bytes/s',\n",
       "       ' Flow Packets/s', ' Flow IAT Mean', ' Flow IAT Std', ' Flow IAT Max',\n",
       "       ' Flow IAT Min', 'Fwd IAT Total', ' Fwd IAT Mean', ' Fwd IAT Std',\n",
       "       ' Fwd IAT Max', ' Fwd IAT Min', 'Bwd IAT Total', ' Bwd IAT Mean',\n",
       "       ' Bwd IAT Std', ' Bwd IAT Max', ' Bwd IAT Min', 'Fwd PSH Flags',\n",
       "       ' Bwd PSH Flags', ' Fwd URG Flags', ' Bwd URG Flags',\n",
       "       ' Fwd Header Length', ' Bwd Header Length', 'Fwd Packets/s',\n",
       "       ' Bwd Packets/s', ' Min Packet Length', ' Max Packet Length',\n",
       "       ' Packet Length Mean', ' Packet Length Std', ' Packet Length Variance',\n",
       "       'FIN Flag Count', ' SYN Flag Count', ' RST Flag Count',\n",
       "       ' PSH Flag Count', ' ACK Flag Count', ' URG Flag Count',\n",
       "       ' CWE Flag Count', ' ECE Flag Count', ' Down/Up Ratio',\n",
       "       ' Average Packet Size', ' Avg Fwd Segment Size',\n",
       "       ' Avg Bwd Segment Size', ' Fwd Header Length.1', 'Fwd Avg Bytes/Bulk',\n",
       "       ' Fwd Avg Packets/Bulk', ' Fwd Avg Bulk Rate', ' Bwd Avg Bytes/Bulk',\n",
       "       ' Bwd Avg Packets/Bulk', 'Bwd Avg Bulk Rate', 'Subflow Fwd Packets',\n",
       "       ' Subflow Fwd Bytes', ' Subflow Bwd Packets', ' Subflow Bwd Bytes',\n",
       "       'Init_Win_bytes_forward', ' Init_Win_bytes_backward',\n",
       "       ' act_data_pkt_fwd', ' min_seg_size_forward', 'Active Mean',\n",
       "       ' Active Std', ' Active Max', ' Active Min', 'Idle Mean', ' Idle Std',\n",
       "       ' Idle Max', ' Idle Min', 'SimillarHTTP', ' Inbound', ' Label'],\n",
       "      dtype='object')"
      ]
     },
     "execution_count": 23,
     "metadata": {},
     "output_type": "execute_result"
    }
   ],
   "source": [
    "data1.columns"
   ]
  },
  {
   "cell_type": "code",
   "execution_count": 24,
   "metadata": {
    "tags": []
   },
   "outputs": [
    {
     "data": {
      "text/plain": [
       " Label\n",
       "LDAP       1905191\n",
       "NetBIOS     202919\n",
       "Portmap     186960\n",
       "BENIGN        9858\n",
       "Name: count, dtype: int64"
      ]
     },
     "execution_count": 24,
     "metadata": {},
     "output_type": "execute_result"
    }
   ],
   "source": [
    "data1[' Label'].value_counts()"
   ]
  },
  {
   "cell_type": "code",
   "execution_count": 25,
   "metadata": {},
   "outputs": [
    {
     "data": {
      "text/html": [
       "<div>\n",
       "<style scoped>\n",
       "    .dataframe tbody tr th:only-of-type {\n",
       "        vertical-align: middle;\n",
       "    }\n",
       "\n",
       "    .dataframe tbody tr th {\n",
       "        vertical-align: top;\n",
       "    }\n",
       "\n",
       "    .dataframe thead th {\n",
       "        text-align: right;\n",
       "    }\n",
       "</style>\n",
       "<table border=\"1\" class=\"dataframe\">\n",
       "  <thead>\n",
       "    <tr style=\"text-align: right;\">\n",
       "      <th></th>\n",
       "      <th>Flow ID</th>\n",
       "      <th>Source IP</th>\n",
       "      <th>Source Port</th>\n",
       "      <th>Destination IP</th>\n",
       "      <th>Destination Port</th>\n",
       "      <th>Protocol</th>\n",
       "      <th>Timestamp</th>\n",
       "      <th>Flow Duration</th>\n",
       "      <th>Total Fwd Packets</th>\n",
       "      <th>Total Backward Packets</th>\n",
       "      <th>...</th>\n",
       "      <th>min_seg_size_forward</th>\n",
       "      <th>Active Mean</th>\n",
       "      <th>Active Std</th>\n",
       "      <th>Active Max</th>\n",
       "      <th>Active Min</th>\n",
       "      <th>Idle Mean</th>\n",
       "      <th>Idle Std</th>\n",
       "      <th>Idle Max</th>\n",
       "      <th>Idle Min</th>\n",
       "      <th>Label</th>\n",
       "    </tr>\n",
       "  </thead>\n",
       "  <tbody>\n",
       "    <tr>\n",
       "      <th>0</th>\n",
       "      <td>192.168.10.5-104.16.207.165-54865-443-6</td>\n",
       "      <td>104.16.207.165</td>\n",
       "      <td>443</td>\n",
       "      <td>192.168.10.5</td>\n",
       "      <td>54865</td>\n",
       "      <td>6</td>\n",
       "      <td>7/7/2017 3:30</td>\n",
       "      <td>3</td>\n",
       "      <td>2</td>\n",
       "      <td>0</td>\n",
       "      <td>...</td>\n",
       "      <td>20</td>\n",
       "      <td>0.0</td>\n",
       "      <td>0.0</td>\n",
       "      <td>0</td>\n",
       "      <td>0</td>\n",
       "      <td>0.0</td>\n",
       "      <td>0.0</td>\n",
       "      <td>0</td>\n",
       "      <td>0</td>\n",
       "      <td>BENIGN</td>\n",
       "    </tr>\n",
       "    <tr>\n",
       "      <th>1</th>\n",
       "      <td>192.168.10.5-104.16.28.216-55054-80-6</td>\n",
       "      <td>104.16.28.216</td>\n",
       "      <td>80</td>\n",
       "      <td>192.168.10.5</td>\n",
       "      <td>55054</td>\n",
       "      <td>6</td>\n",
       "      <td>7/7/2017 3:30</td>\n",
       "      <td>109</td>\n",
       "      <td>1</td>\n",
       "      <td>1</td>\n",
       "      <td>...</td>\n",
       "      <td>20</td>\n",
       "      <td>0.0</td>\n",
       "      <td>0.0</td>\n",
       "      <td>0</td>\n",
       "      <td>0</td>\n",
       "      <td>0.0</td>\n",
       "      <td>0.0</td>\n",
       "      <td>0</td>\n",
       "      <td>0</td>\n",
       "      <td>BENIGN</td>\n",
       "    </tr>\n",
       "    <tr>\n",
       "      <th>2</th>\n",
       "      <td>192.168.10.5-104.16.28.216-55055-80-6</td>\n",
       "      <td>104.16.28.216</td>\n",
       "      <td>80</td>\n",
       "      <td>192.168.10.5</td>\n",
       "      <td>55055</td>\n",
       "      <td>6</td>\n",
       "      <td>7/7/2017 3:30</td>\n",
       "      <td>52</td>\n",
       "      <td>1</td>\n",
       "      <td>1</td>\n",
       "      <td>...</td>\n",
       "      <td>20</td>\n",
       "      <td>0.0</td>\n",
       "      <td>0.0</td>\n",
       "      <td>0</td>\n",
       "      <td>0</td>\n",
       "      <td>0.0</td>\n",
       "      <td>0.0</td>\n",
       "      <td>0</td>\n",
       "      <td>0</td>\n",
       "      <td>BENIGN</td>\n",
       "    </tr>\n",
       "    <tr>\n",
       "      <th>3</th>\n",
       "      <td>192.168.10.16-104.17.241.25-46236-443-6</td>\n",
       "      <td>104.17.241.25</td>\n",
       "      <td>443</td>\n",
       "      <td>192.168.10.16</td>\n",
       "      <td>46236</td>\n",
       "      <td>6</td>\n",
       "      <td>7/7/2017 3:30</td>\n",
       "      <td>34</td>\n",
       "      <td>1</td>\n",
       "      <td>1</td>\n",
       "      <td>...</td>\n",
       "      <td>20</td>\n",
       "      <td>0.0</td>\n",
       "      <td>0.0</td>\n",
       "      <td>0</td>\n",
       "      <td>0</td>\n",
       "      <td>0.0</td>\n",
       "      <td>0.0</td>\n",
       "      <td>0</td>\n",
       "      <td>0</td>\n",
       "      <td>BENIGN</td>\n",
       "    </tr>\n",
       "    <tr>\n",
       "      <th>4</th>\n",
       "      <td>192.168.10.5-104.19.196.102-54863-443-6</td>\n",
       "      <td>104.19.196.102</td>\n",
       "      <td>443</td>\n",
       "      <td>192.168.10.5</td>\n",
       "      <td>54863</td>\n",
       "      <td>6</td>\n",
       "      <td>7/7/2017 3:30</td>\n",
       "      <td>3</td>\n",
       "      <td>2</td>\n",
       "      <td>0</td>\n",
       "      <td>...</td>\n",
       "      <td>20</td>\n",
       "      <td>0.0</td>\n",
       "      <td>0.0</td>\n",
       "      <td>0</td>\n",
       "      <td>0</td>\n",
       "      <td>0.0</td>\n",
       "      <td>0.0</td>\n",
       "      <td>0</td>\n",
       "      <td>0</td>\n",
       "      <td>BENIGN</td>\n",
       "    </tr>\n",
       "  </tbody>\n",
       "</table>\n",
       "<p>5 rows × 85 columns</p>\n",
       "</div>"
      ],
      "text/plain": [
       "                                   Flow ID       Source IP   Source Port  \\\n",
       "0  192.168.10.5-104.16.207.165-54865-443-6  104.16.207.165           443   \n",
       "1    192.168.10.5-104.16.28.216-55054-80-6   104.16.28.216            80   \n",
       "2    192.168.10.5-104.16.28.216-55055-80-6   104.16.28.216            80   \n",
       "3  192.168.10.16-104.17.241.25-46236-443-6   104.17.241.25           443   \n",
       "4  192.168.10.5-104.19.196.102-54863-443-6  104.19.196.102           443   \n",
       "\n",
       "   Destination IP   Destination Port   Protocol      Timestamp  \\\n",
       "0    192.168.10.5              54865          6  7/7/2017 3:30   \n",
       "1    192.168.10.5              55054          6  7/7/2017 3:30   \n",
       "2    192.168.10.5              55055          6  7/7/2017 3:30   \n",
       "3   192.168.10.16              46236          6  7/7/2017 3:30   \n",
       "4    192.168.10.5              54863          6  7/7/2017 3:30   \n",
       "\n",
       "    Flow Duration   Total Fwd Packets   Total Backward Packets  ...  \\\n",
       "0               3                   2                        0  ...   \n",
       "1             109                   1                        1  ...   \n",
       "2              52                   1                        1  ...   \n",
       "3              34                   1                        1  ...   \n",
       "4               3                   2                        0  ...   \n",
       "\n",
       "    min_seg_size_forward  Active Mean   Active Std   Active Max   Active Min  \\\n",
       "0                     20          0.0          0.0            0            0   \n",
       "1                     20          0.0          0.0            0            0   \n",
       "2                     20          0.0          0.0            0            0   \n",
       "3                     20          0.0          0.0            0            0   \n",
       "4                     20          0.0          0.0            0            0   \n",
       "\n",
       "   Idle Mean   Idle Std   Idle Max   Idle Min   Label  \n",
       "0        0.0        0.0          0          0  BENIGN  \n",
       "1        0.0        0.0          0          0  BENIGN  \n",
       "2        0.0        0.0          0          0  BENIGN  \n",
       "3        0.0        0.0          0          0  BENIGN  \n",
       "4        0.0        0.0          0          0  BENIGN  \n",
       "\n",
       "[5 rows x 85 columns]"
      ]
     },
     "execution_count": 25,
     "metadata": {},
     "output_type": "execute_result"
    }
   ],
   "source": [
    "data2.head(5)"
   ]
  },
  {
   "cell_type": "code",
   "execution_count": 26,
   "metadata": {},
   "outputs": [
    {
     "data": {
      "text/plain": [
       "Index(['Flow ID', ' Source IP', ' Source Port', ' Destination IP',\n",
       "       ' Destination Port', ' Protocol', ' Timestamp', ' Flow Duration',\n",
       "       ' Total Fwd Packets', ' Total Backward Packets',\n",
       "       'Total Length of Fwd Packets', ' Total Length of Bwd Packets',\n",
       "       ' Fwd Packet Length Max', ' Fwd Packet Length Min',\n",
       "       ' Fwd Packet Length Mean', ' Fwd Packet Length Std',\n",
       "       'Bwd Packet Length Max', ' Bwd Packet Length Min',\n",
       "       ' Bwd Packet Length Mean', ' Bwd Packet Length Std', 'Flow Bytes/s',\n",
       "       ' Flow Packets/s', ' Flow IAT Mean', ' Flow IAT Std', ' Flow IAT Max',\n",
       "       ' Flow IAT Min', 'Fwd IAT Total', ' Fwd IAT Mean', ' Fwd IAT Std',\n",
       "       ' Fwd IAT Max', ' Fwd IAT Min', 'Bwd IAT Total', ' Bwd IAT Mean',\n",
       "       ' Bwd IAT Std', ' Bwd IAT Max', ' Bwd IAT Min', 'Fwd PSH Flags',\n",
       "       ' Bwd PSH Flags', ' Fwd URG Flags', ' Bwd URG Flags',\n",
       "       ' Fwd Header Length', ' Bwd Header Length', 'Fwd Packets/s',\n",
       "       ' Bwd Packets/s', ' Min Packet Length', ' Max Packet Length',\n",
       "       ' Packet Length Mean', ' Packet Length Std', ' Packet Length Variance',\n",
       "       'FIN Flag Count', ' SYN Flag Count', ' RST Flag Count',\n",
       "       ' PSH Flag Count', ' ACK Flag Count', ' URG Flag Count',\n",
       "       ' CWE Flag Count', ' ECE Flag Count', ' Down/Up Ratio',\n",
       "       ' Average Packet Size', ' Avg Fwd Segment Size',\n",
       "       ' Avg Bwd Segment Size', ' Fwd Header Length.1', 'Fwd Avg Bytes/Bulk',\n",
       "       ' Fwd Avg Packets/Bulk', ' Fwd Avg Bulk Rate', ' Bwd Avg Bytes/Bulk',\n",
       "       ' Bwd Avg Packets/Bulk', 'Bwd Avg Bulk Rate', 'Subflow Fwd Packets',\n",
       "       ' Subflow Fwd Bytes', ' Subflow Bwd Packets', ' Subflow Bwd Bytes',\n",
       "       'Init_Win_bytes_forward', ' Init_Win_bytes_backward',\n",
       "       ' act_data_pkt_fwd', ' min_seg_size_forward', 'Active Mean',\n",
       "       ' Active Std', ' Active Max', ' Active Min', 'Idle Mean', ' Idle Std',\n",
       "       ' Idle Max', ' Idle Min', ' Label'],\n",
       "      dtype='object')"
      ]
     },
     "execution_count": 26,
     "metadata": {},
     "output_type": "execute_result"
    }
   ],
   "source": [
    "data2.columns"
   ]
  },
  {
   "cell_type": "code",
   "execution_count": 27,
   "metadata": {
    "tags": []
   },
   "outputs": [
    {
     "data": {
      "text/plain": [
       " Label\n",
       "DDoS      128027\n",
       "BENIGN     97718\n",
       "Name: count, dtype: int64"
      ]
     },
     "execution_count": 27,
     "metadata": {},
     "output_type": "execute_result"
    }
   ],
   "source": [
    "data2[' Label'].value_counts()"
   ]
  },
  {
   "cell_type": "code",
   "execution_count": 28,
   "metadata": {},
   "outputs": [
    {
     "data": {
      "text/html": [
       "<div>\n",
       "<style scoped>\n",
       "    .dataframe tbody tr th:only-of-type {\n",
       "        vertical-align: middle;\n",
       "    }\n",
       "\n",
       "    .dataframe tbody tr th {\n",
       "        vertical-align: top;\n",
       "    }\n",
       "\n",
       "    .dataframe thead th {\n",
       "        text-align: right;\n",
       "    }\n",
       "</style>\n",
       "<table border=\"1\" class=\"dataframe\">\n",
       "  <thead>\n",
       "    <tr style=\"text-align: right;\">\n",
       "      <th></th>\n",
       "      <th>Flow Duration</th>\n",
       "      <th>Total Fwd Packet</th>\n",
       "      <th>Total Bwd packets</th>\n",
       "      <th>Total Length of Fwd Packet</th>\n",
       "      <th>Total Length of Bwd Packet</th>\n",
       "      <th>Fwd Packet Length Max</th>\n",
       "      <th>Fwd Packet Length Min</th>\n",
       "      <th>Fwd Packet Length Mean</th>\n",
       "      <th>Fwd Packet Length Std</th>\n",
       "      <th>Bwd Packet Length Max</th>\n",
       "      <th>...</th>\n",
       "      <th>Fwd Seg Size Min</th>\n",
       "      <th>Active Mean</th>\n",
       "      <th>Active Std</th>\n",
       "      <th>Active Max</th>\n",
       "      <th>Active Min</th>\n",
       "      <th>Idle Mean</th>\n",
       "      <th>Idle Std</th>\n",
       "      <th>Idle Max</th>\n",
       "      <th>Idle Min</th>\n",
       "      <th>Label</th>\n",
       "    </tr>\n",
       "  </thead>\n",
       "  <tbody>\n",
       "    <tr>\n",
       "      <th>0</th>\n",
       "      <td>214392</td>\n",
       "      <td>9</td>\n",
       "      <td>21</td>\n",
       "      <td>388</td>\n",
       "      <td>24564</td>\n",
       "      <td>194</td>\n",
       "      <td>0</td>\n",
       "      <td>43.111111</td>\n",
       "      <td>85.545959</td>\n",
       "      <td>1460</td>\n",
       "      <td>...</td>\n",
       "      <td>20</td>\n",
       "      <td>0.0</td>\n",
       "      <td>0.0</td>\n",
       "      <td>0</td>\n",
       "      <td>0</td>\n",
       "      <td>0.0</td>\n",
       "      <td>0.0</td>\n",
       "      <td>0</td>\n",
       "      <td>0</td>\n",
       "      <td>4</td>\n",
       "    </tr>\n",
       "    <tr>\n",
       "      <th>1</th>\n",
       "      <td>2376792</td>\n",
       "      <td>9</td>\n",
       "      <td>3</td>\n",
       "      <td>752</td>\n",
       "      <td>0</td>\n",
       "      <td>188</td>\n",
       "      <td>0</td>\n",
       "      <td>83.555556</td>\n",
       "      <td>99.084700</td>\n",
       "      <td>0</td>\n",
       "      <td>...</td>\n",
       "      <td>20</td>\n",
       "      <td>0.0</td>\n",
       "      <td>0.0</td>\n",
       "      <td>0</td>\n",
       "      <td>0</td>\n",
       "      <td>0.0</td>\n",
       "      <td>0.0</td>\n",
       "      <td>0</td>\n",
       "      <td>0</td>\n",
       "      <td>7</td>\n",
       "    </tr>\n",
       "    <tr>\n",
       "      <th>2</th>\n",
       "      <td>131350</td>\n",
       "      <td>10</td>\n",
       "      <td>3</td>\n",
       "      <td>7564</td>\n",
       "      <td>0</td>\n",
       "      <td>1460</td>\n",
       "      <td>0</td>\n",
       "      <td>756.400000</td>\n",
       "      <td>690.497277</td>\n",
       "      <td>0</td>\n",
       "      <td>...</td>\n",
       "      <td>20</td>\n",
       "      <td>0.0</td>\n",
       "      <td>0.0</td>\n",
       "      <td>0</td>\n",
       "      <td>0</td>\n",
       "      <td>0.0</td>\n",
       "      <td>0.0</td>\n",
       "      <td>0</td>\n",
       "      <td>0</td>\n",
       "      <td>4</td>\n",
       "    </tr>\n",
       "    <tr>\n",
       "      <th>3</th>\n",
       "      <td>164796</td>\n",
       "      <td>6</td>\n",
       "      <td>3</td>\n",
       "      <td>770</td>\n",
       "      <td>0</td>\n",
       "      <td>385</td>\n",
       "      <td>0</td>\n",
       "      <td>128.333333</td>\n",
       "      <td>198.813145</td>\n",
       "      <td>0</td>\n",
       "      <td>...</td>\n",
       "      <td>20</td>\n",
       "      <td>0.0</td>\n",
       "      <td>0.0</td>\n",
       "      <td>0</td>\n",
       "      <td>0</td>\n",
       "      <td>0.0</td>\n",
       "      <td>0.0</td>\n",
       "      <td>0</td>\n",
       "      <td>0</td>\n",
       "      <td>3</td>\n",
       "    </tr>\n",
       "    <tr>\n",
       "      <th>4</th>\n",
       "      <td>163418</td>\n",
       "      <td>6</td>\n",
       "      <td>3</td>\n",
       "      <td>400</td>\n",
       "      <td>0</td>\n",
       "      <td>200</td>\n",
       "      <td>0</td>\n",
       "      <td>66.666667</td>\n",
       "      <td>103.279556</td>\n",
       "      <td>0</td>\n",
       "      <td>...</td>\n",
       "      <td>20</td>\n",
       "      <td>0.0</td>\n",
       "      <td>0.0</td>\n",
       "      <td>0</td>\n",
       "      <td>0</td>\n",
       "      <td>0.0</td>\n",
       "      <td>0.0</td>\n",
       "      <td>0</td>\n",
       "      <td>0</td>\n",
       "      <td>6</td>\n",
       "    </tr>\n",
       "  </tbody>\n",
       "</table>\n",
       "<p>5 rows × 77 columns</p>\n",
       "</div>"
      ],
      "text/plain": [
       "   Flow Duration  Total Fwd Packet  Total Bwd packets  \\\n",
       "0         214392                 9                 21   \n",
       "1        2376792                 9                  3   \n",
       "2         131350                10                  3   \n",
       "3         164796                 6                  3   \n",
       "4         163418                 6                  3   \n",
       "\n",
       "   Total Length of Fwd Packet  Total Length of Bwd Packet  \\\n",
       "0                         388                       24564   \n",
       "1                         752                           0   \n",
       "2                        7564                           0   \n",
       "3                         770                           0   \n",
       "4                         400                           0   \n",
       "\n",
       "   Fwd Packet Length Max  Fwd Packet Length Min  Fwd Packet Length Mean  \\\n",
       "0                    194                      0               43.111111   \n",
       "1                    188                      0               83.555556   \n",
       "2                   1460                      0              756.400000   \n",
       "3                    385                      0              128.333333   \n",
       "4                    200                      0               66.666667   \n",
       "\n",
       "   Fwd Packet Length Std  Bwd Packet Length Max  ...  Fwd Seg Size Min  \\\n",
       "0              85.545959                   1460  ...                20   \n",
       "1              99.084700                      0  ...                20   \n",
       "2             690.497277                      0  ...                20   \n",
       "3             198.813145                      0  ...                20   \n",
       "4             103.279556                      0  ...                20   \n",
       "\n",
       "   Active Mean  Active Std  Active Max  Active Min  Idle Mean  Idle Std  \\\n",
       "0          0.0         0.0           0           0        0.0       0.0   \n",
       "1          0.0         0.0           0           0        0.0       0.0   \n",
       "2          0.0         0.0           0           0        0.0       0.0   \n",
       "3          0.0         0.0           0           0        0.0       0.0   \n",
       "4          0.0         0.0           0           0        0.0       0.0   \n",
       "\n",
       "   Idle Max  Idle Min  Label  \n",
       "0         0         0      4  \n",
       "1         0         0      7  \n",
       "2         0         0      4  \n",
       "3         0         0      3  \n",
       "4         0         0      6  \n",
       "\n",
       "[5 rows x 77 columns]"
      ]
     },
     "execution_count": 28,
     "metadata": {},
     "output_type": "execute_result"
    }
   ],
   "source": [
    "data3.head(5)"
   ]
  },
  {
   "cell_type": "code",
   "execution_count": 29,
   "metadata": {},
   "outputs": [
    {
     "data": {
      "text/plain": [
       "Index(['Flow Duration', 'Total Fwd Packet', 'Total Bwd packets',\n",
       "       'Total Length of Fwd Packet', 'Total Length of Bwd Packet',\n",
       "       'Fwd Packet Length Max', 'Fwd Packet Length Min',\n",
       "       'Fwd Packet Length Mean', 'Fwd Packet Length Std',\n",
       "       'Bwd Packet Length Max', 'Bwd Packet Length Min',\n",
       "       'Bwd Packet Length Mean', 'Bwd Packet Length Std', 'Flow Bytes/s',\n",
       "       'Flow Packets/s', 'Flow IAT Mean', 'Flow IAT Std', 'Flow IAT Max',\n",
       "       'Flow IAT Min', 'Fwd IAT Total', 'Fwd IAT Mean', 'Fwd IAT Std',\n",
       "       'Fwd IAT Max', 'Fwd IAT Min', 'Bwd IAT Total', 'Bwd IAT Mean',\n",
       "       'Bwd IAT Std', 'Bwd IAT Max', 'Bwd IAT Min', 'Fwd PSH Flags',\n",
       "       'Bwd PSH Flags', 'Fwd URG Flags', 'Bwd URG Flags', 'Fwd Header Length',\n",
       "       'Bwd Header Length', 'Fwd Packets/s', 'Bwd Packets/s',\n",
       "       'Packet Length Min', 'Packet Length Max', 'Packet Length Mean',\n",
       "       'Packet Length Std', 'Packet Length Variance', 'FIN Flag Count',\n",
       "       'SYN Flag Count', 'RST Flag Count', 'PSH Flag Count', 'ACK Flag Count',\n",
       "       'URG Flag Count', 'CWR Flag Count', 'ECE Flag Count', 'Down/Up Ratio',\n",
       "       'Average Packet Size', 'Fwd Segment Size Avg', 'Bwd Segment Size Avg',\n",
       "       'Fwd Bytes/Bulk Avg', 'Fwd Packet/Bulk Avg', 'Fwd Bulk Rate Avg',\n",
       "       'Bwd Bytes/Bulk Avg', 'Bwd Packet/Bulk Avg', 'Bwd Bulk Rate Avg',\n",
       "       'Subflow Fwd Packets', 'Subflow Fwd Bytes', 'Subflow Bwd Packets',\n",
       "       'Subflow Bwd Bytes', 'FWD Init Win Bytes', 'Bwd Init Win Bytes',\n",
       "       'Fwd Act Data Pkts', 'Fwd Seg Size Min', 'Active Mean', 'Active Std',\n",
       "       'Active Max', 'Active Min', 'Idle Mean', 'Idle Std', 'Idle Max',\n",
       "       'Idle Min', 'Label'],\n",
       "      dtype='object')"
      ]
     },
     "execution_count": 29,
     "metadata": {},
     "output_type": "execute_result"
    }
   ],
   "source": [
    "data3.columns"
   ]
  },
  {
   "cell_type": "code",
   "execution_count": 30,
   "metadata": {
    "tags": []
   },
   "outputs": [
    {
     "data": {
      "text/plain": [
       "Label\n",
       "0    358332\n",
       "4     30951\n",
       "5     29613\n",
       "7     16735\n",
       "6      4632\n",
       "3      4467\n",
       "8      2102\n",
       "2       452\n",
       "1       385\n",
       "9       246\n",
       "Name: count, dtype: int64"
      ]
     },
     "execution_count": 30,
     "metadata": {},
     "output_type": "execute_result"
    }
   ],
   "source": [
    "data3['Label'].value_counts()"
   ]
  },
  {
   "cell_type": "code",
   "execution_count": 31,
   "metadata": {
    "executionInfo": {
     "elapsed": 490,
     "status": "ok",
     "timestamp": 1722767466910,
     "user": {
      "displayName": "Harsh Jaiswal",
      "userId": "02937308297490251557"
     },
     "user_tz": -330
    },
    "id": "loH1Xd8qsdZl"
   },
   "outputs": [],
   "source": [
    "# Define the features to focus on:\n",
    "features = [\n",
    "    ' Flow Duration', ' Total Fwd Packets', ' Total Backward Packets',\n",
    "    'Total Length of Fwd Packets', ' Total Length of Bwd Packets',\n",
    "    'Flow Bytes/s', ' Flow Packets/s', ' Flow IAT Mean', ' Flow IAT Std',\n",
    "    ' Fwd IAT Mean', ' Fwd IAT Std', 'Fwd Packets/s', ' Bwd Packets/s',\n",
    "    ' SYN Flag Count', ' RST Flag Count', ' ACK Flag Count', ' PSH Flag Count',\n",
    "    ' Avg Fwd Segment Size', ' Avg Bwd Segment Size', 'Init_Win_bytes_forward',\n",
    "    ' Init_Win_bytes_backward', ' act_data_pkt_fwd', 'Active Mean', 'Idle Mean'\n",
    "]"
   ]
  },
  {
   "cell_type": "code",
   "execution_count": 32,
   "metadata": {
    "executionInfo": {
     "elapsed": 3,
     "status": "ok",
     "timestamp": 1722767468962,
     "user": {
      "displayName": "Harsh Jaiswal",
      "userId": "02937308297490251557"
     },
     "user_tz": -330
    },
    "id": "JYIkflzcjtna"
   },
   "outputs": [],
   "source": [
    "# Define the old and new column names:\n",
    "old_columns = [\n",
    "    'Flow Duration', 'Total Fwd Packet', 'Total Bwd packets',\n",
    "    'Total Length of Fwd Packet', 'Total Length of Bwd Packet',\n",
    "    'Flow Bytes/s','Flow Packets/s', 'Flow IAT Mean', 'Flow IAT Std',\n",
    "    'Fwd IAT Mean', 'Fwd IAT Std','Fwd Packets/s', 'Bwd Packets/s',\n",
    "    'SYN Flag Count', 'RST Flag Count', 'ACK Flag Count', 'PSH Flag Count',\n",
    "    'Avg Fwd Segment Size','Avg Bwd Segment Size', 'FWD Init Win Bytes',\n",
    "    'Bwd Init Win Bytes','Fwd Act Data Pkts', 'Active Mean', 'Idle Mean','Fwd Segment Size Avg',\n",
    "       'Bwd Segment Size Avg',\n",
    "]\n",
    "\n",
    "new_columns = [\n",
    "    ' Flow Duration', ' Total Fwd Packets', ' Total Backward Packets',\n",
    "    'Total Length of Fwd Packets', ' Total Length of Bwd Packets',\n",
    "    'Flow Bytes/s', ' Flow Packets/s', ' Flow IAT Mean', ' Flow IAT Std',\n",
    "    ' Fwd IAT Mean', ' Fwd IAT Std', 'Fwd Packets/s', ' Bwd Packets/s',\n",
    "    ' SYN Flag Count', ' RST Flag Count', ' ACK Flag Count', ' PSH Flag Count',\n",
    "    ' Avg Fwd Segment Size', ' Avg Bwd Segment Size', 'Init_Win_bytes_forward',\n",
    "    ' Init_Win_bytes_backward', ' act_data_pkt_fwd', 'Active Mean', 'Idle Mean',' Avg Fwd Segment Size', ' Avg Bwd Segment Size'\n",
    "]\n",
    "\n",
    "# Create a dictionary for renaming columns:\n",
    "rename_dict = dict(zip(old_columns, new_columns))\n",
    "\n",
    "# Rename columns:\n",
    "data3.rename(columns=rename_dict, inplace=True)"
   ]
  },
  {
   "cell_type": "code",
   "execution_count": 33,
   "metadata": {
    "executionInfo": {
     "elapsed": 605,
     "status": "ok",
     "timestamp": 1722767472662,
     "user": {
      "displayName": "Harsh Jaiswal",
      "userId": "02937308297490251557"
     },
     "user_tz": -330
    },
    "id": "_0WZ2Hx8m6BA"
   },
   "outputs": [],
   "source": [
    "# Select only the extracted features from each dataset:\n",
    "data1 = data1[features + [' Label']]\n",
    "data2 = data2[features + [' Label']]\n",
    "data3 = data3[features + ['Label']]"
   ]
  },
  {
   "cell_type": "code",
   "execution_count": 34,
   "metadata": {
    "executionInfo": {
     "elapsed": 2,
     "status": "ok",
     "timestamp": 1722767474288,
     "user": {
      "displayName": "Harsh Jaiswal",
      "userId": "02937308297490251557"
     },
     "user_tz": -330
    },
    "id": "_r6AMPSJnLXX"
   },
   "outputs": [],
   "source": [
    "# Custom labeling function:\n",
    "def custom_labeling(dataset, dataset_name):\n",
    "    if dataset_name == 'CIC-DDoS2019':\n",
    "        dataset[' Label'] = dataset[' Label'].apply(lambda x: 0 if x == 'BENIGN' else 1)\n",
    "    elif dataset_name == 'CIC-IDS2017':\n",
    "        dataset[' Label'] = dataset[' Label'].apply(lambda x: 0 if x == 'BENIGN' else 1)\n",
    "    elif dataset_name == 'UNSW-NB15':\n",
    "        dataset['Label'] = dataset['Label'].apply(lambda x: 3 if x == 3 else 0)\n",
    "    return dataset"
   ]
  },
  {
   "cell_type": "code",
   "execution_count": 35,
   "metadata": {
    "executionInfo": {
     "elapsed": 719,
     "status": "ok",
     "timestamp": 1722767477459,
     "user": {
      "displayName": "Harsh Jaiswal",
      "userId": "02937308297490251557"
     },
     "user_tz": -330
    },
    "id": "KK9nEkdipeKE"
   },
   "outputs": [],
   "source": [
    "# Apply custom labeling:\n",
    "data1 = custom_labeling(data1, 'CIC-DDoS2019')\n",
    "data2 = custom_labeling(data2, 'CIC-IDS2017')\n",
    "data3 = custom_labeling(data3, 'UNSW-NB15')"
   ]
  },
  {
   "cell_type": "code",
   "execution_count": 36,
   "metadata": {
    "executionInfo": {
     "elapsed": 524,
     "status": "ok",
     "timestamp": 1722767479989,
     "user": {
      "displayName": "Harsh Jaiswal",
      "userId": "02937308297490251557"
     },
     "user_tz": -330
    },
    "id": "L-0Tzr3AtnvS"
   },
   "outputs": [],
   "source": [
    "# Combine data1 and data2 for training:\n",
    "training_data = pd.concat([data1, data2], ignore_index=True)"
   ]
  },
  {
   "cell_type": "code",
   "execution_count": 37,
   "metadata": {
    "executionInfo": {
     "elapsed": 4,
     "status": "ok",
     "timestamp": 1722767482393,
     "user": {
      "displayName": "Harsh Jaiswal",
      "userId": "02937308297490251557"
     },
     "user_tz": -330
    },
    "id": "8HEmLcgQtuMC"
   },
   "outputs": [],
   "source": [
    "def preprocess_data(data):\n",
    "    # Separate features and target:\n",
    "    X = data.drop([' Label', 'Label'], axis=1, errors='ignore')\n",
    "    y = data[' Label'] if ' Label' in data.columns else data['Label']\n",
    "\n",
    "    # Replace infinite values with NaN:\n",
    "    X = X.replace([np.inf, -np.inf], np.nan)\n",
    "\n",
    "    # Handle missing and NaN values:\n",
    "    X = X.fillna(X.mean())\n",
    "\n",
    "    # Scale features:\n",
    "    scaler = StandardScaler()\n",
    "    X = scaler.fit_transform(X)\n",
    "\n",
    "    return X, y"
   ]
  },
  {
   "cell_type": "code",
   "execution_count": 38,
   "metadata": {
    "executionInfo": {
     "elapsed": 3785,
     "status": "ok",
     "timestamp": 1722767488002,
     "user": {
      "displayName": "Harsh Jaiswal",
      "userId": "02937308297490251557"
     },
     "user_tz": -330
    },
    "id": "fsWUBaXOvT4r"
   },
   "outputs": [],
   "source": [
    "X1, y1 = preprocess_data(data1)\n",
    "X2, y2 = preprocess_data(data2)\n",
    "X3, y3 = preprocess_data(data3)"
   ]
  },
  {
   "cell_type": "code",
   "execution_count": 39,
   "metadata": {
    "executionInfo": {
     "elapsed": 2,
     "status": "ok",
     "timestamp": 1722767488002,
     "user": {
      "displayName": "Harsh Jaiswal",
      "userId": "02937308297490251557"
     },
     "user_tz": -330
    },
    "id": "83IOMAIptx5J"
   },
   "outputs": [],
   "source": [
    "# Combine data1 and data2 for training:\n",
    "X_train = np.vstack((X1, X2))\n",
    "y_train = np.concatenate((y1, y2))\n",
    "\n",
    "# Use data3 for testing:\n",
    "X_test, y_test = X3, y3"
   ]
  },
  {
   "cell_type": "code",
   "execution_count": 40,
   "metadata": {
    "colab": {
     "base_uri": "https://localhost:8080/"
    },
    "executionInfo": {
     "elapsed": 192558,
     "status": "ok",
     "timestamp": 1722767681452,
     "user": {
      "displayName": "Harsh Jaiswal",
      "userId": "02937308297490251557"
     },
     "user_tz": -330
    },
    "id": "WPsU9CgiuXE_",
    "outputId": "58a2d15f-b9d0-4ba3-b79c-a925dea5f841",
    "tags": []
   },
   "outputs": [
    {
     "name": "stdout",
     "output_type": "stream",
     "text": [
      "Logistic Regression:\n",
      "Accuracy: 0.10318475603630153\n",
      "F1 score: 0.1866824163977122\n",
      "              precision    recall  f1-score   support\n",
      "\n",
      "           0       0.99      0.10      0.19    443448\n",
      "           1       0.00      0.00      0.00         0\n",
      "           3       0.00      0.00      0.00      4467\n",
      "\n",
      "    accuracy                           0.10    447915\n",
      "   macro avg       0.33      0.03      0.06    447915\n",
      "weighted avg       0.98      0.10      0.19    447915\n",
      "\n",
      "Confusion Matrix:\n",
      "[[ 46218 397230      0]\n",
      " [     0      0      0]\n",
      " [   547   3920      0]]\n",
      "\n",
      "\n",
      "Random Forest:\n",
      "Accuracy: 0.9900271256823281\n",
      "F1 score: 0.9850656776859193\n",
      "              precision    recall  f1-score   support\n",
      "\n",
      "           0       0.99      1.00      0.99    443448\n",
      "           3       0.00      0.00      0.00      4467\n",
      "\n",
      "    accuracy                           0.99    447915\n",
      "   macro avg       0.50      0.50      0.50    447915\n",
      "weighted avg       0.98      0.99      0.99    447915\n",
      "\n",
      "Confusion Matrix:\n",
      "[[443448      0]\n",
      " [  4467      0]]\n",
      "\n",
      "\n",
      "KNN:\n",
      "Accuracy: 0.5950481676210888\n",
      "F1 score: 0.7413139370513427\n",
      "              precision    recall  f1-score   support\n",
      "\n",
      "           0       0.99      0.60      0.75    443448\n",
      "           1       0.00      0.00      0.00         0\n",
      "           3       0.00      0.00      0.00      4467\n",
      "\n",
      "    accuracy                           0.60    447915\n",
      "   macro avg       0.33      0.20      0.25    447915\n",
      "weighted avg       0.98      0.60      0.74    447915\n",
      "\n",
      "Confusion Matrix:\n",
      "[[266531 176917      0]\n",
      " [     0      0      0]\n",
      " [  1927   2540      0]]\n",
      "\n",
      "\n",
      "Decision Tree:\n",
      "Accuracy: 0.822443990489267\n",
      "F1 score: 0.8935899502855859\n",
      "              precision    recall  f1-score   support\n",
      "\n",
      "           0       0.99      0.83      0.90    443448\n",
      "           1       0.00      0.00      0.00         0\n",
      "           3       0.00      0.00      0.00      4467\n",
      "\n",
      "    accuracy                           0.82    447915\n",
      "   macro avg       0.33      0.28      0.30    447915\n",
      "weighted avg       0.98      0.82      0.89    447915\n",
      "\n",
      "Confusion Matrix:\n",
      "[[368385  75063      0]\n",
      " [     0      0      0]\n",
      " [  4450     17      0]]\n",
      "\n",
      "\n",
      "Neural Network (MLP):\n",
      "Accuracy: 0.39834343569650493\n",
      "F1 score: 0.5649725496912584\n",
      "              precision    recall  f1-score   support\n",
      "\n",
      "           0       0.98      0.40      0.57    443448\n",
      "           1       0.00      0.00      0.00         0\n",
      "           3       0.00      0.00      0.00      4467\n",
      "\n",
      "    accuracy                           0.40    447915\n",
      "   macro avg       0.33      0.13      0.19    447915\n",
      "weighted avg       0.97      0.40      0.56    447915\n",
      "\n",
      "Confusion Matrix:\n",
      "[[178424 265024      0]\n",
      " [     0      0      0]\n",
      " [  3449   1018      0]]\n",
      "\n",
      "\n"
     ]
    },
    {
     "data": {
      "text/plain": [
       "<Figure size 1000x600 with 0 Axes>"
      ]
     },
     "metadata": {},
     "output_type": "display_data"
    },
    {
     "data": {
      "image/png": "[encoded data removed]",
      "text/plain": [
       "<Figure size 640x480 with 1 Axes>"
      ]
     },
     "metadata": {},
     "output_type": "display_data"
    },
    {
     "data": {
      "image/png": "[encoded data removed]",
      "text/plain": [
       "<Figure size 600x300 with 2 Axes>"
      ]
     },
     "metadata": {},
     "output_type": "display_data"
    },
    {
     "data": {
      "image/png": "[encoded data removed]",
      "text/plain": [
       "<Figure size 600x300 with 2 Axes>"
      ]
     },
     "metadata": {},
     "output_type": "display_data"
    },
    {
     "data": {
      "image/png": "[encoded data removed]",
      "text/plain": [
       "<Figure size 600x300 with 2 Axes>"
      ]
     },
     "metadata": {},
     "output_type": "display_data"
    },
    {
     "data": {
      "image/png": "[encoded data removed]",
      "text/plain": [
       "<Figure size 600x300 with 2 Axes>"
      ]
     },
     "metadata": {},
     "output_type": "display_data"
    },
    {
     "data": {
      "image/png": "[encoded data removed]",
      "text/plain": [
       "<Figure size 600x300 with 2 Axes>"
      ]
     },
     "metadata": {},
     "output_type": "display_data"
    },
    {
     "name": "stdout",
     "output_type": "stream",
     "text": [
      "\n",
      "Model Performance Table:\n",
      "+----+----------------------+------------+\n",
      "|    | Model                |   Accuracy |\n",
      "+====+======================+============+\n",
      "|  0 | Logistic Regression  |   0.103185 |\n",
      "+----+----------------------+------------+\n",
      "|  1 | Random Forest        |   0.990027 |\n",
      "+----+----------------------+------------+\n",
      "|  2 | KNN                  |   0.595048 |\n",
      "+----+----------------------+------------+\n",
      "|  3 | Decision Tree        |   0.822444 |\n",
      "+----+----------------------+------------+\n",
      "|  4 | Neural Network (MLP) |   0.398343 |\n",
      "+----+----------------------+------------+\n"
     ]
    }
   ],
   "source": [
    "# Train and evaluate models\n",
    "models = {\n",
    "    \"Logistic Regression\": LogisticRegression(max_iter=1000),\n",
    "    \"Random Forest\": RandomForestClassifier(),\n",
    "    \"KNN\": KNeighborsClassifier(),\n",
    "    \"Decision Tree\": DecisionTreeClassifier(random_state=42),\n",
    "    \"Neural Network (MLP)\": MLPClassifier(\n",
    "        hidden_layer_sizes=(100,),  # Adjust the number of neurons in the hidden layer\n",
    "        activation=\"relu\",  # Common activation function\n",
    "        solver=\"adam\",  # Good default optimizer\n",
    "        max_iter=200,  # Adjust if needed for convergence\n",
    "        random_state=42,\n",
    "    )\n",
    "\n",
    "}\n",
    "##\n",
    "results = []\n",
    "\n",
    "for name, model in models.items():\n",
    "    model.fit(X_train, y_train)\n",
    "    y_pred = model.predict(X_test)\n",
    "\n",
    "    accuracy = accuracy_score(y_test, y_pred)\n",
    "    f1 = f1_score(y_test, y_pred, average='weighted')\n",
    "    class_report = classification_report(y_test, y_pred, output_dict=True)\n",
    "    conf_matrix = confusion_matrix(y_test, y_pred)\n",
    "\n",
    "    results.append({\n",
    "        \"Model\": name,\n",
    "        \"Accuracy\": accuracy,\n",
    "        \"F1 Score\": f1,\n",
    "        \"Classification Report\": class_report,\n",
    "        \"Confusion Matrix\": conf_matrix\n",
    "    })\n",
    "\n",
    "    print(f\"{name}:\")\n",
    "    print(f\"Accuracy: {accuracy}\")\n",
    "    print(f\"F1 score: {f1}\")\n",
    "    print(classification_report(y_test, y_pred))\n",
    "    print(\"Confusion Matrix:\")\n",
    "    print(conf_matrix)\n",
    "    print(\"\\n\")\n",
    "\n",
    "# Convert results to DataFrame for plotting\n",
    "results_df = pd.DataFrame(results)\n",
    "\n",
    "# Plot results\n",
    "plt.figure(figsize=(10, 6))\n",
    "results_df.plot(x='Model', y=['Accuracy', 'F1 Score'], kind='bar')\n",
    "plt.title('Model Performance Comparison')\n",
    "plt.ylabel('Score')\n",
    "plt.ylim(0, 1)\n",
    "plt.legend(loc='lower right')\n",
    "plt.tight_layout()\n",
    "plt.show()\n",
    "\n",
    "# Plot confusion matrices\n",
    "for result in results:\n",
    "    plt.figure(figsize=(6, 3))\n",
    "    sns.heatmap(result['Confusion Matrix'], annot=True, fmt='d', cmap='Blues')\n",
    "    plt.title(f\"Confusion Matrix for {result['Model']}\")\n",
    "    plt.xlabel('Predicted')\n",
    "    plt.ylabel('Actual')\n",
    "    plt.show()\n",
    "\n",
    "# Create a table to show model performance\n",
    "performance_table = results_df[[\"Model\", \"Accuracy\"]]\n",
    "print(\"\\nModel Performance Table:\")\n",
    "print(tabulate(performance_table, headers='keys', tablefmt='grid'))"
   ]
  },
  {
   "cell_type": "code",
   "execution_count": 41,
   "metadata": {
    "executionInfo": {
     "elapsed": 904,
     "status": "ok",
     "timestamp": 1722767757669,
     "user": {
      "displayName": "Harsh Jaiswal",
      "userId": "02937308297490251557"
     },
     "user_tz": -330
    },
    "id": "5kfA8qnTxaRk",
    "tags": []
   },
   "outputs": [],
   "source": [
    "# Create a DataFrame with the results\n",
    "results_df = pd.DataFrame(results)"
   ]
  }
 ],
 "metadata": {
  "accelerator": "TPU",
  "colab": {
   "authorship_tag": "ABX9TyMAyZzSi69g6/wWov3UDaZS",
   "gpuType": "V28",
   "provenance": []
  },
  "kernelspec": {
   "display_name": "conda_python3",
   "language": "python",
   "name": "conda_python3"
  },
  "language_info": {
   "codemirror_mode": {
    "name": "ipython",
    "version": 3
   },
   "file_extension": ".py",
   "mimetype": "text/x-python",
   "name": "python",
   "nbconvert_exporter": "python",
   "pygments_lexer": "ipython3",
   "version": "3.10.14"
  }
 },
 "nbformat": 4,
 "nbformat_minor": 4
}
