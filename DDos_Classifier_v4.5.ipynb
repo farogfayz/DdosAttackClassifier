{
 "cells": [
  {
   "cell_type": "markdown",
   "metadata": {
    "id": "urkkDPRZ3kiK",
    "tags": []
   },
   "source": [
    "# Load and Train the desire testing dataset files."
   ]
  },
  {
   "cell_type": "code",
   "execution_count": 1,
   "metadata": {
    "colab": {
     "base_uri": "https://localhost:8080/"
    },
    "id": "Be-80uIesm83",
    "outputId": "efb70b8e-0adc-4e98-bb4c-75443c2ceb2c",
    "tags": []
   },
   "outputs": [
    {
     "name": "stderr",
     "output_type": "stream",
     "text": [
      "/tmp/ipykernel_9291/32133707.py:13: DtypeWarning: Columns (85) have mixed types. Specify dtype option on import or set low_memory=False.\n",
      "  data = pd.read_csv(\"https://ddosciu.s3.us-east-2.amazonaws.com/Portmap.csv\")\n"
     ]
    }
   ],
   "source": [
    "import pandas as pd\n",
    "import numpy as np\n",
    "from sklearn.model_selection import train_test_split\n",
    "from sklearn.preprocessing import StandardScaler, LabelEncoder\n",
    "from sklearn.metrics import classification_report, accuracy_score, f1_score\n",
    "from sklearn.linear_model import LogisticRegression\n",
    "from sklearn.ensemble import RandomForestClassifier\n",
    "from sklearn.svm import SVC\n",
    "\n",
    "# data = pd.read_csv('https://ddosciu.s3.us-east-2.amazonaws.com/CSVs/UNB/Portmap.csv')\n",
    "# data = pd.read_csv('https://unsw-my.sharepoint.com/:x:/r/personal/z5025758_ad_unsw_edu_au/_layouts/15/Doc.aspx?sourcedoc=%7B2A810F6A-CC3D-4D98-909E-37489D8DAF98%7D&file=UNSW_NB15_testing-set.csv&action=default&mobileredirect=true')\n",
    "##CIC-DDoS2019 DataSet\n",
    "data = pd.read_csv(\"https://ddosciu.s3.us-east-2.amazonaws.com/Portmap.csv\")\n",
    "##UNSW-NB15 DataSet\n",
    "data_2 = pd.read_csv(\"https://ddosciu.s3.us-east-2.amazonaws.com/UNSW-NB15_4.csv\")\n",
    "##CIC-IDS2017 DataSet\n",
    "data_3 = pd.read_csv(\"https://ddosciu.s3.us-east-2.amazonaws.com/Friday-WorkingHours-Afternoon-DDos.pcap_ISCX.csv\")"
   ]
  },
  {
   "cell_type": "markdown",
   "metadata": {
    "id": "SvmFf5QQMATU",
    "tags": []
   },
   "source": [
    "# Pre-process the data"
   ]
  },
  {
   "cell_type": "markdown",
   "metadata": {
    "id": "SMPU8utHMMvF",
    "tags": []
   },
   "source": [
    "## Dataset1 Preprocessing"
   ]
  },
  {
   "cell_type": "code",
   "execution_count": 2,
   "metadata": {
    "colab": {
     "base_uri": "https://localhost:8080/",
     "height": 226
    },
    "id": "9Q4GgIqjLt1N",
    "outputId": "aed421e2-28f8-4c09-b868-5536dafb26ef"
   },
   "outputs": [
    {
     "data": {
      "text/html": [
       "<div>\n",
       "<style scoped>\n",
       "    .dataframe tbody tr th:only-of-type {\n",
       "        vertical-align: middle;\n",
       "    }\n",
       "\n",
       "    .dataframe tbody tr th {\n",
       "        vertical-align: top;\n",
       "    }\n",
       "\n",
       "    .dataframe thead th {\n",
       "        text-align: right;\n",
       "    }\n",
       "</style>\n",
       "<table border=\"1\" class=\"dataframe\">\n",
       "  <thead>\n",
       "    <tr style=\"text-align: right;\">\n",
       "      <th></th>\n",
       "      <th>Unnamed: 0</th>\n",
       "      <th>Flow ID</th>\n",
       "      <th>Source IP</th>\n",
       "      <th>Source Port</th>\n",
       "      <th>Destination IP</th>\n",
       "      <th>Destination Port</th>\n",
       "      <th>Protocol</th>\n",
       "      <th>Timestamp</th>\n",
       "      <th>Flow Duration</th>\n",
       "      <th>Total Fwd Packets</th>\n",
       "      <th>...</th>\n",
       "      <th>Active Std</th>\n",
       "      <th>Active Max</th>\n",
       "      <th>Active Min</th>\n",
       "      <th>Idle Mean</th>\n",
       "      <th>Idle Std</th>\n",
       "      <th>Idle Max</th>\n",
       "      <th>Idle Min</th>\n",
       "      <th>SimillarHTTP</th>\n",
       "      <th>Inbound</th>\n",
       "      <th>Label</th>\n",
       "    </tr>\n",
       "  </thead>\n",
       "  <tbody>\n",
       "    <tr>\n",
       "      <th>0</th>\n",
       "      <td>24</td>\n",
       "      <td>192.168.50.254-224.0.0.5-0-0-0</td>\n",
       "      <td>192.168.50.254</td>\n",
       "      <td>0</td>\n",
       "      <td>224.0.0.5</td>\n",
       "      <td>0</td>\n",
       "      <td>0</td>\n",
       "      <td>2018-11-03 09:18:16.964447</td>\n",
       "      <td>114456999</td>\n",
       "      <td>45</td>\n",
       "      <td>...</td>\n",
       "      <td>28337.112288</td>\n",
       "      <td>98168.0</td>\n",
       "      <td>3.0</td>\n",
       "      <td>9529897.25</td>\n",
       "      <td>351582.631269</td>\n",
       "      <td>10001143.0</td>\n",
       "      <td>9048097.0</td>\n",
       "      <td>0</td>\n",
       "      <td>0</td>\n",
       "      <td>BENIGN</td>\n",
       "    </tr>\n",
       "    <tr>\n",
       "      <th>1</th>\n",
       "      <td>26</td>\n",
       "      <td>192.168.50.253-224.0.0.5-0-0-0</td>\n",
       "      <td>192.168.50.253</td>\n",
       "      <td>0</td>\n",
       "      <td>224.0.0.5</td>\n",
       "      <td>0</td>\n",
       "      <td>0</td>\n",
       "      <td>2018-11-03 09:18:18.506537</td>\n",
       "      <td>114347504</td>\n",
       "      <td>56</td>\n",
       "      <td>...</td>\n",
       "      <td>121314.911865</td>\n",
       "      <td>420255.0</td>\n",
       "      <td>4.0</td>\n",
       "      <td>9493929.75</td>\n",
       "      <td>351541.079539</td>\n",
       "      <td>9978130.0</td>\n",
       "      <td>8820294.0</td>\n",
       "      <td>0</td>\n",
       "      <td>0</td>\n",
       "      <td>BENIGN</td>\n",
       "    </tr>\n",
       "    <tr>\n",
       "      <th>2</th>\n",
       "      <td>176563</td>\n",
       "      <td>172.217.10.98-192.168.50.6-443-54799-6</td>\n",
       "      <td>192.168.50.6</td>\n",
       "      <td>54799</td>\n",
       "      <td>172.217.10.98</td>\n",
       "      <td>443</td>\n",
       "      <td>6</td>\n",
       "      <td>2018-11-03 09:18:18.610576</td>\n",
       "      <td>36435473</td>\n",
       "      <td>6</td>\n",
       "      <td>...</td>\n",
       "      <td>0.000000</td>\n",
       "      <td>62416.0</td>\n",
       "      <td>62416.0</td>\n",
       "      <td>36373056.00</td>\n",
       "      <td>0.000000</td>\n",
       "      <td>36373056.0</td>\n",
       "      <td>36373056.0</td>\n",
       "      <td>0</td>\n",
       "      <td>0</td>\n",
       "      <td>BENIGN</td>\n",
       "    </tr>\n",
       "    <tr>\n",
       "      <th>3</th>\n",
       "      <td>50762</td>\n",
       "      <td>172.217.7.2-192.168.50.6-443-54800-6</td>\n",
       "      <td>192.168.50.6</td>\n",
       "      <td>54800</td>\n",
       "      <td>172.217.7.2</td>\n",
       "      <td>443</td>\n",
       "      <td>6</td>\n",
       "      <td>2018-11-03 09:18:18.610579</td>\n",
       "      <td>36434705</td>\n",
       "      <td>6</td>\n",
       "      <td>...</td>\n",
       "      <td>0.000000</td>\n",
       "      <td>62413.0</td>\n",
       "      <td>62413.0</td>\n",
       "      <td>36372291.00</td>\n",
       "      <td>0.000000</td>\n",
       "      <td>36372291.0</td>\n",
       "      <td>36372291.0</td>\n",
       "      <td>0</td>\n",
       "      <td>0</td>\n",
       "      <td>BENIGN</td>\n",
       "    </tr>\n",
       "    <tr>\n",
       "      <th>4</th>\n",
       "      <td>87149</td>\n",
       "      <td>172.217.10.98-192.168.50.6-443-54801-6</td>\n",
       "      <td>192.168.50.6</td>\n",
       "      <td>54801</td>\n",
       "      <td>172.217.10.98</td>\n",
       "      <td>443</td>\n",
       "      <td>6</td>\n",
       "      <td>2018-11-03 09:18:18.610581</td>\n",
       "      <td>36434626</td>\n",
       "      <td>6</td>\n",
       "      <td>...</td>\n",
       "      <td>0.000000</td>\n",
       "      <td>62409.0</td>\n",
       "      <td>62409.0</td>\n",
       "      <td>36372216.00</td>\n",
       "      <td>0.000000</td>\n",
       "      <td>36372216.0</td>\n",
       "      <td>36372216.0</td>\n",
       "      <td>0</td>\n",
       "      <td>0</td>\n",
       "      <td>BENIGN</td>\n",
       "    </tr>\n",
       "  </tbody>\n",
       "</table>\n",
       "<p>5 rows × 88 columns</p>\n",
       "</div>"
      ],
      "text/plain": [
       "   Unnamed: 0                                 Flow ID       Source IP  \\\n",
       "0          24          192.168.50.254-224.0.0.5-0-0-0  192.168.50.254   \n",
       "1          26          192.168.50.253-224.0.0.5-0-0-0  192.168.50.253   \n",
       "2      176563  172.217.10.98-192.168.50.6-443-54799-6    192.168.50.6   \n",
       "3       50762    172.217.7.2-192.168.50.6-443-54800-6    192.168.50.6   \n",
       "4       87149  172.217.10.98-192.168.50.6-443-54801-6    192.168.50.6   \n",
       "\n",
       "    Source Port  Destination IP   Destination Port   Protocol  \\\n",
       "0             0       224.0.0.5                  0          0   \n",
       "1             0       224.0.0.5                  0          0   \n",
       "2         54799   172.217.10.98                443          6   \n",
       "3         54800     172.217.7.2                443          6   \n",
       "4         54801   172.217.10.98                443          6   \n",
       "\n",
       "                    Timestamp   Flow Duration   Total Fwd Packets  ...  \\\n",
       "0  2018-11-03 09:18:16.964447       114456999                  45  ...   \n",
       "1  2018-11-03 09:18:18.506537       114347504                  56  ...   \n",
       "2  2018-11-03 09:18:18.610576        36435473                   6  ...   \n",
       "3  2018-11-03 09:18:18.610579        36434705                   6  ...   \n",
       "4  2018-11-03 09:18:18.610581        36434626                   6  ...   \n",
       "\n",
       "      Active Std   Active Max   Active Min    Idle Mean       Idle Std  \\\n",
       "0   28337.112288      98168.0          3.0   9529897.25  351582.631269   \n",
       "1  121314.911865     420255.0          4.0   9493929.75  351541.079539   \n",
       "2       0.000000      62416.0      62416.0  36373056.00       0.000000   \n",
       "3       0.000000      62413.0      62413.0  36372291.00       0.000000   \n",
       "4       0.000000      62409.0      62409.0  36372216.00       0.000000   \n",
       "\n",
       "     Idle Max    Idle Min  SimillarHTTP   Inbound   Label  \n",
       "0  10001143.0   9048097.0             0         0  BENIGN  \n",
       "1   9978130.0   8820294.0             0         0  BENIGN  \n",
       "2  36373056.0  36373056.0             0         0  BENIGN  \n",
       "3  36372291.0  36372291.0             0         0  BENIGN  \n",
       "4  36372216.0  36372216.0             0         0  BENIGN  \n",
       "\n",
       "[5 rows x 88 columns]"
      ]
     },
     "execution_count": 2,
     "metadata": {},
     "output_type": "execute_result"
    }
   ],
   "source": [
    "data.head(5)"
   ]
  },
  {
   "cell_type": "code",
   "execution_count": 3,
   "metadata": {
    "id": "1zvZB0tfSSyF"
   },
   "outputs": [
    {
     "data": {
      "text/plain": [
       "Index(['Unnamed: 0', 'Flow ID', ' Source IP', ' Source Port',\n",
       "       ' Destination IP', ' Destination Port', ' Protocol', ' Timestamp',\n",
       "       ' Flow Duration', ' Total Fwd Packets', ' Total Backward Packets',\n",
       "       'Total Length of Fwd Packets', ' Total Length of Bwd Packets',\n",
       "       ' Fwd Packet Length Max', ' Fwd Packet Length Min',\n",
       "       ' Fwd Packet Length Mean', ' Fwd Packet Length Std',\n",
       "       'Bwd Packet Length Max', ' Bwd Packet Length Min',\n",
       "       ' Bwd Packet Length Mean', ' Bwd Packet Length Std', 'Flow Bytes/s',\n",
       "       ' Flow Packets/s', ' Flow IAT Mean', ' Flow IAT Std', ' Flow IAT Max',\n",
       "       ' Flow IAT Min', 'Fwd IAT Total', ' Fwd IAT Mean', ' Fwd IAT Std',\n",
       "       ' Fwd IAT Max', ' Fwd IAT Min', 'Bwd IAT Total', ' Bwd IAT Mean',\n",
       "       ' Bwd IAT Std', ' Bwd IAT Max', ' Bwd IAT Min', 'Fwd PSH Flags',\n",
       "       ' Bwd PSH Flags', ' Fwd URG Flags', ' Bwd URG Flags',\n",
       "       ' Fwd Header Length', ' Bwd Header Length', 'Fwd Packets/s',\n",
       "       ' Bwd Packets/s', ' Min Packet Length', ' Max Packet Length',\n",
       "       ' Packet Length Mean', ' Packet Length Std', ' Packet Length Variance',\n",
       "       'FIN Flag Count', ' SYN Flag Count', ' RST Flag Count',\n",
       "       ' PSH Flag Count', ' ACK Flag Count', ' URG Flag Count',\n",
       "       ' CWE Flag Count', ' ECE Flag Count', ' Down/Up Ratio',\n",
       "       ' Average Packet Size', ' Avg Fwd Segment Size',\n",
       "       ' Avg Bwd Segment Size', ' Fwd Header Length.1', 'Fwd Avg Bytes/Bulk',\n",
       "       ' Fwd Avg Packets/Bulk', ' Fwd Avg Bulk Rate', ' Bwd Avg Bytes/Bulk',\n",
       "       ' Bwd Avg Packets/Bulk', 'Bwd Avg Bulk Rate', 'Subflow Fwd Packets',\n",
       "       ' Subflow Fwd Bytes', ' Subflow Bwd Packets', ' Subflow Bwd Bytes',\n",
       "       'Init_Win_bytes_forward', ' Init_Win_bytes_backward',\n",
       "       ' act_data_pkt_fwd', ' min_seg_size_forward', 'Active Mean',\n",
       "       ' Active Std', ' Active Max', ' Active Min', 'Idle Mean', ' Idle Std',\n",
       "       ' Idle Max', ' Idle Min', 'SimillarHTTP', ' Inbound', ' Label'],\n",
       "      dtype='object')"
      ]
     },
     "execution_count": 3,
     "metadata": {},
     "output_type": "execute_result"
    }
   ],
   "source": [
    "data.columns"
   ]
  },
  {
   "cell_type": "code",
   "execution_count": 4,
   "metadata": {
    "id": "Am30-F0PhEXd"
   },
   "outputs": [
    {
     "data": {
      "text/html": [
       "<div>\n",
       "<style scoped>\n",
       "    .dataframe tbody tr th:only-of-type {\n",
       "        vertical-align: middle;\n",
       "    }\n",
       "\n",
       "    .dataframe tbody tr th {\n",
       "        vertical-align: top;\n",
       "    }\n",
       "\n",
       "    .dataframe thead th {\n",
       "        text-align: right;\n",
       "    }\n",
       "</style>\n",
       "<table border=\"1\" class=\"dataframe\">\n",
       "  <thead>\n",
       "    <tr style=\"text-align: right;\">\n",
       "      <th></th>\n",
       "      <th>Source IP</th>\n",
       "      <th>Source Port</th>\n",
       "      <th>Destination IP</th>\n",
       "      <th>Destination Port</th>\n",
       "      <th>Flow Duration</th>\n",
       "      <th>Total Fwd Packets</th>\n",
       "      <th>Total Backward Packets</th>\n",
       "      <th>Total Length of Fwd Packets</th>\n",
       "      <th>Total Length of Bwd Packets</th>\n",
       "      <th>Label</th>\n",
       "    </tr>\n",
       "  </thead>\n",
       "  <tbody>\n",
       "    <tr>\n",
       "      <th>0</th>\n",
       "      <td>192.168.50.254</td>\n",
       "      <td>0</td>\n",
       "      <td>224.0.0.5</td>\n",
       "      <td>0</td>\n",
       "      <td>114456999</td>\n",
       "      <td>45</td>\n",
       "      <td>0</td>\n",
       "      <td>0.0</td>\n",
       "      <td>0.0</td>\n",
       "      <td>0</td>\n",
       "    </tr>\n",
       "    <tr>\n",
       "      <th>1</th>\n",
       "      <td>192.168.50.253</td>\n",
       "      <td>0</td>\n",
       "      <td>224.0.0.5</td>\n",
       "      <td>0</td>\n",
       "      <td>114347504</td>\n",
       "      <td>56</td>\n",
       "      <td>0</td>\n",
       "      <td>0.0</td>\n",
       "      <td>0.0</td>\n",
       "      <td>0</td>\n",
       "    </tr>\n",
       "    <tr>\n",
       "      <th>2</th>\n",
       "      <td>192.168.50.6</td>\n",
       "      <td>54799</td>\n",
       "      <td>172.217.10.98</td>\n",
       "      <td>443</td>\n",
       "      <td>36435473</td>\n",
       "      <td>6</td>\n",
       "      <td>2</td>\n",
       "      <td>116.0</td>\n",
       "      <td>92.0</td>\n",
       "      <td>0</td>\n",
       "    </tr>\n",
       "    <tr>\n",
       "      <th>3</th>\n",
       "      <td>192.168.50.6</td>\n",
       "      <td>54800</td>\n",
       "      <td>172.217.7.2</td>\n",
       "      <td>443</td>\n",
       "      <td>36434705</td>\n",
       "      <td>6</td>\n",
       "      <td>2</td>\n",
       "      <td>116.0</td>\n",
       "      <td>92.0</td>\n",
       "      <td>0</td>\n",
       "    </tr>\n",
       "    <tr>\n",
       "      <th>4</th>\n",
       "      <td>192.168.50.6</td>\n",
       "      <td>54801</td>\n",
       "      <td>172.217.10.98</td>\n",
       "      <td>443</td>\n",
       "      <td>36434626</td>\n",
       "      <td>6</td>\n",
       "      <td>2</td>\n",
       "      <td>116.0</td>\n",
       "      <td>92.0</td>\n",
       "      <td>0</td>\n",
       "    </tr>\n",
       "  </tbody>\n",
       "</table>\n",
       "</div>"
      ],
      "text/plain": [
       "        Source IP   Source Port  Destination IP   Destination Port  \\\n",
       "0  192.168.50.254             0       224.0.0.5                  0   \n",
       "1  192.168.50.253             0       224.0.0.5                  0   \n",
       "2    192.168.50.6         54799   172.217.10.98                443   \n",
       "3    192.168.50.6         54800     172.217.7.2                443   \n",
       "4    192.168.50.6         54801   172.217.10.98                443   \n",
       "\n",
       "    Flow Duration   Total Fwd Packets   Total Backward Packets  \\\n",
       "0       114456999                  45                        0   \n",
       "1       114347504                  56                        0   \n",
       "2        36435473                   6                        2   \n",
       "3        36434705                   6                        2   \n",
       "4        36434626                   6                        2   \n",
       "\n",
       "   Total Length of Fwd Packets   Total Length of Bwd Packets   Label  \n",
       "0                          0.0                           0.0       0  \n",
       "1                          0.0                           0.0       0  \n",
       "2                        116.0                          92.0       0  \n",
       "3                        116.0                          92.0       0  \n",
       "4                        116.0                          92.0       0  "
      ]
     },
     "execution_count": 4,
     "metadata": {},
     "output_type": "execute_result"
    }
   ],
   "source": [
    "data = data[[' Source IP', ' Source Port',' Destination IP', ' Destination Port',\n",
    "       ' Flow Duration', ' Total Fwd Packets', ' Total Backward Packets',\n",
    "       'Total Length of Fwd Packets', ' Total Length of Bwd Packets',' Label']]\n",
    "\n",
    "# Map labels in data_1 to binary\n",
    "data[' Label'] = data[' Label'].map({\n",
    "    'BENIGN': 0,\n",
    "    'Portmap': 1})\n",
    "\n",
    "data.head()"
   ]
  },
  {
   "cell_type": "code",
   "execution_count": 5,
   "metadata": {
    "id": "ETVxFV9obG4U"
   },
   "outputs": [
    {
     "data": {
      "text/plain": [
       "1    186960\n",
       "0      4734\n",
       "Name:  Label, dtype: int64"
      ]
     },
     "execution_count": 5,
     "metadata": {},
     "output_type": "execute_result"
    }
   ],
   "source": [
    "data[' Label'].value_counts()"
   ]
  },
  {
   "cell_type": "code",
   "execution_count": 6,
   "metadata": {
    "id": "ciHA5fClpP6_"
   },
   "outputs": [
    {
     "name": "stdout",
     "output_type": "stream",
     "text": [
      "Number of unique labels in the balanced data: 2\n",
      "Frequency of each unique label in the balanced data:\n",
      "1    150000\n",
      "0    150000\n",
      "Name:  Label, dtype: int64\n",
      "Frequency of each unique label in the original data:\n",
      "1    186960\n",
      "0      4734\n",
      "Name:  Label, dtype: int64\n"
     ]
    }
   ],
   "source": [
    "import pandas as pd\n",
    "from sklearn.utils import resample\n",
    "\n",
    "# Set the desired number of majority class samples\n",
    "num_majority_samples = 150000  # Adjust this number as needed\n",
    "\n",
    "# Get the minority class label\n",
    "minority_class = data[' Label'].value_counts().idxmin()\n",
    "\n",
    "# Separate majority and minority class samples\n",
    "majority_samples = data[data[' Label'] != minority_class]\n",
    "minority_samples = data[data[' Label'] == minority_class]\n",
    "\n",
    "# Sample the majority class samples\n",
    "majority_samples_sampled = majority_samples.sample(num_majority_samples, random_state=42)\n",
    "\n",
    "# Upsample the minority class samples\n",
    "minority_samples_upsampled = resample(\n",
    "    minority_samples,\n",
    "    replace=True,  # Sample with replacement\n",
    "    n_samples=num_majority_samples,  # Match the number of majority samples\n",
    "    random_state=42  # Reproducible results\n",
    ")\n",
    "# Combine the sampled majority class samples and upsampled minority class samples\n",
    "balanced_data = pd.concat([majority_samples_sampled, minority_samples_upsampled], axis=0)\n",
    "# Shuffle the balanced dataset\n",
    "balanced_data = balanced_data.sample(frac=1, random_state=42).reset_index(drop=True)\n",
    "# Print some information about the balanced dataset\n",
    "balanced_data.head()\n",
    "num_unique_labels = balanced_data[' Label'].nunique()\n",
    "print(\"Number of unique labels in the balanced data:\", num_unique_labels)\n",
    "label_frequency = balanced_data[' Label'].value_counts()\n",
    "print(\"Frequency of each unique label in the balanced data:\")\n",
    "print(label_frequency)\n",
    "label_frequency_data = data[' Label'].value_counts()\n",
    "print(\"Frequency of each unique label in the original data:\")\n",
    "print(label_frequency_data)"
   ]
  },
  {
   "cell_type": "code",
   "execution_count": 7,
   "metadata": {
    "id": "NzNu3IMeaYH-"
   },
   "outputs": [],
   "source": [
    "data=balanced_data.copy()"
   ]
  },
  {
   "cell_type": "markdown",
   "metadata": {
    "id": "S3n-wgNGMWH3",
    "tags": []
   },
   "source": [
    "## Dataset2 Preprocessing"
   ]
  },
  {
   "cell_type": "code",
   "execution_count": 8,
   "metadata": {
    "id": "UeX0y2rTACvI",
    "tags": []
   },
   "outputs": [
    {
     "data": {
      "text/plain": [
       "Index(['srcip', 'sport', 'dstip', 'dsport', 'proto', 'state', 'dur', 'sbytes',\n",
       "       'dbytes', 'sttl', 'dttl', 'sloss', 'dloss', 'service', 'Sload', 'Dload',\n",
       "       'Spkts', 'Dpkts', 'swin', 'dwin', 'stcpb', 'dtcpb', 'smeansz',\n",
       "       'dmeansz', 'trans_depth', 'res_bdy_len', 'Sjit', 'Djit', 'Stime',\n",
       "       'Ltime', 'Sintpkt', 'Dintpkt', 'tcprtt', 'synack', 'ackdat',\n",
       "       'is_sm_ips_ports', 'ct_state_ttl', 'ct_flw_http_mthd', 'is_ftp_login',\n",
       "       'ct_ftp_cmd', 'ct_srv_src', 'ct_srv_dst', 'ct_dst_ltm', 'ct_src_ ltm',\n",
       "       'ct_src_dport_ltm', 'ct_dst_sport_ltm', 'ct_dst_src_ltm', 'attack_cat',\n",
       "       'Label'],\n",
       "      dtype='object')"
      ]
     },
     "execution_count": 8,
     "metadata": {},
     "output_type": "execute_result"
    }
   ],
   "source": [
    "data_2.columns"
   ]
  },
  {
   "cell_type": "code",
   "execution_count": 9,
   "metadata": {
    "id": "Cd0L_ETF4p_B"
   },
   "outputs": [
    {
     "data": {
      "text/html": [
       "<div>\n",
       "<style scoped>\n",
       "    .dataframe tbody tr th:only-of-type {\n",
       "        vertical-align: middle;\n",
       "    }\n",
       "\n",
       "    .dataframe tbody tr th {\n",
       "        vertical-align: top;\n",
       "    }\n",
       "\n",
       "    .dataframe thead th {\n",
       "        text-align: right;\n",
       "    }\n",
       "</style>\n",
       "<table border=\"1\" class=\"dataframe\">\n",
       "  <thead>\n",
       "    <tr style=\"text-align: right;\">\n",
       "      <th></th>\n",
       "      <th>srcip</th>\n",
       "      <th>sport</th>\n",
       "      <th>dstip</th>\n",
       "      <th>dsport</th>\n",
       "      <th>proto</th>\n",
       "      <th>state</th>\n",
       "      <th>dur</th>\n",
       "      <th>sbytes</th>\n",
       "      <th>dbytes</th>\n",
       "      <th>sttl</th>\n",
       "      <th>...</th>\n",
       "      <th>ct_ftp_cmd</th>\n",
       "      <th>ct_srv_src</th>\n",
       "      <th>ct_srv_dst</th>\n",
       "      <th>ct_dst_ltm</th>\n",
       "      <th>ct_src_ ltm</th>\n",
       "      <th>ct_src_dport_ltm</th>\n",
       "      <th>ct_dst_sport_ltm</th>\n",
       "      <th>ct_dst_src_ltm</th>\n",
       "      <th>attack_cat</th>\n",
       "      <th>Label</th>\n",
       "    </tr>\n",
       "  </thead>\n",
       "  <tbody>\n",
       "    <tr>\n",
       "      <th>0</th>\n",
       "      <td>59.166.0.9</td>\n",
       "      <td>7045</td>\n",
       "      <td>149.171.126.7</td>\n",
       "      <td>25</td>\n",
       "      <td>tcp</td>\n",
       "      <td>FIN</td>\n",
       "      <td>0.201886</td>\n",
       "      <td>37552</td>\n",
       "      <td>3380</td>\n",
       "      <td>31</td>\n",
       "      <td>...</td>\n",
       "      <td></td>\n",
       "      <td>2</td>\n",
       "      <td>2</td>\n",
       "      <td>7</td>\n",
       "      <td>4</td>\n",
       "      <td>1</td>\n",
       "      <td>1</td>\n",
       "      <td>3</td>\n",
       "      <td>NaN</td>\n",
       "      <td>0</td>\n",
       "    </tr>\n",
       "    <tr>\n",
       "      <th>1</th>\n",
       "      <td>59.166.0.9</td>\n",
       "      <td>9685</td>\n",
       "      <td>149.171.126.2</td>\n",
       "      <td>80</td>\n",
       "      <td>tcp</td>\n",
       "      <td>FIN</td>\n",
       "      <td>5.864748</td>\n",
       "      <td>19410</td>\n",
       "      <td>1087890</td>\n",
       "      <td>31</td>\n",
       "      <td>...</td>\n",
       "      <td></td>\n",
       "      <td>3</td>\n",
       "      <td>1</td>\n",
       "      <td>4</td>\n",
       "      <td>4</td>\n",
       "      <td>1</td>\n",
       "      <td>1</td>\n",
       "      <td>1</td>\n",
       "      <td>NaN</td>\n",
       "      <td>0</td>\n",
       "    </tr>\n",
       "    <tr>\n",
       "      <th>2</th>\n",
       "      <td>59.166.0.2</td>\n",
       "      <td>1421</td>\n",
       "      <td>149.171.126.4</td>\n",
       "      <td>53</td>\n",
       "      <td>udp</td>\n",
       "      <td>CON</td>\n",
       "      <td>0.001391</td>\n",
       "      <td>146</td>\n",
       "      <td>178</td>\n",
       "      <td>31</td>\n",
       "      <td>...</td>\n",
       "      <td></td>\n",
       "      <td>3</td>\n",
       "      <td>5</td>\n",
       "      <td>2</td>\n",
       "      <td>7</td>\n",
       "      <td>1</td>\n",
       "      <td>1</td>\n",
       "      <td>4</td>\n",
       "      <td>NaN</td>\n",
       "      <td>0</td>\n",
       "    </tr>\n",
       "    <tr>\n",
       "      <th>3</th>\n",
       "      <td>59.166.0.2</td>\n",
       "      <td>21553</td>\n",
       "      <td>149.171.126.2</td>\n",
       "      <td>25</td>\n",
       "      <td>tcp</td>\n",
       "      <td>FIN</td>\n",
       "      <td>0.053948</td>\n",
       "      <td>37812</td>\n",
       "      <td>3380</td>\n",
       "      <td>31</td>\n",
       "      <td>...</td>\n",
       "      <td></td>\n",
       "      <td>1</td>\n",
       "      <td>1</td>\n",
       "      <td>4</td>\n",
       "      <td>7</td>\n",
       "      <td>1</td>\n",
       "      <td>1</td>\n",
       "      <td>3</td>\n",
       "      <td>NaN</td>\n",
       "      <td>0</td>\n",
       "    </tr>\n",
       "    <tr>\n",
       "      <th>4</th>\n",
       "      <td>59.166.0.8</td>\n",
       "      <td>45212</td>\n",
       "      <td>149.171.126.4</td>\n",
       "      <td>53</td>\n",
       "      <td>udp</td>\n",
       "      <td>CON</td>\n",
       "      <td>0.000953</td>\n",
       "      <td>146</td>\n",
       "      <td>178</td>\n",
       "      <td>31</td>\n",
       "      <td>...</td>\n",
       "      <td></td>\n",
       "      <td>2</td>\n",
       "      <td>5</td>\n",
       "      <td>2</td>\n",
       "      <td>1</td>\n",
       "      <td>1</td>\n",
       "      <td>1</td>\n",
       "      <td>2</td>\n",
       "      <td>NaN</td>\n",
       "      <td>0</td>\n",
       "    </tr>\n",
       "    <tr>\n",
       "      <th>...</th>\n",
       "      <td>...</td>\n",
       "      <td>...</td>\n",
       "      <td>...</td>\n",
       "      <td>...</td>\n",
       "      <td>...</td>\n",
       "      <td>...</td>\n",
       "      <td>...</td>\n",
       "      <td>...</td>\n",
       "      <td>...</td>\n",
       "      <td>...</td>\n",
       "      <td>...</td>\n",
       "      <td>...</td>\n",
       "      <td>...</td>\n",
       "      <td>...</td>\n",
       "      <td>...</td>\n",
       "      <td>...</td>\n",
       "      <td>...</td>\n",
       "      <td>...</td>\n",
       "      <td>...</td>\n",
       "      <td>...</td>\n",
       "      <td>...</td>\n",
       "    </tr>\n",
       "    <tr>\n",
       "      <th>195</th>\n",
       "      <td>175.45.176.0</td>\n",
       "      <td>9910</td>\n",
       "      <td>149.171.126.10</td>\n",
       "      <td>80</td>\n",
       "      <td>tcp</td>\n",
       "      <td>FIN</td>\n",
       "      <td>0.230763</td>\n",
       "      <td>756</td>\n",
       "      <td>1356</td>\n",
       "      <td>62</td>\n",
       "      <td>...</td>\n",
       "      <td></td>\n",
       "      <td>1</td>\n",
       "      <td>1</td>\n",
       "      <td>1</td>\n",
       "      <td>1</td>\n",
       "      <td>1</td>\n",
       "      <td>1</td>\n",
       "      <td>1</td>\n",
       "      <td>Exploits</td>\n",
       "      <td>1</td>\n",
       "    </tr>\n",
       "    <tr>\n",
       "      <th>196</th>\n",
       "      <td>59.166.0.3</td>\n",
       "      <td>53256</td>\n",
       "      <td>149.171.126.2</td>\n",
       "      <td>57469</td>\n",
       "      <td>tcp</td>\n",
       "      <td>FIN</td>\n",
       "      <td>0.291809</td>\n",
       "      <td>4862</td>\n",
       "      <td>82782</td>\n",
       "      <td>31</td>\n",
       "      <td>...</td>\n",
       "      <td></td>\n",
       "      <td>4</td>\n",
       "      <td>10</td>\n",
       "      <td>1</td>\n",
       "      <td>2</td>\n",
       "      <td>1</td>\n",
       "      <td>1</td>\n",
       "      <td>1</td>\n",
       "      <td>NaN</td>\n",
       "      <td>0</td>\n",
       "    </tr>\n",
       "    <tr>\n",
       "      <th>197</th>\n",
       "      <td>59.166.0.5</td>\n",
       "      <td>20197</td>\n",
       "      <td>149.171.126.6</td>\n",
       "      <td>111</td>\n",
       "      <td>udp</td>\n",
       "      <td>CON</td>\n",
       "      <td>0.004321</td>\n",
       "      <td>568</td>\n",
       "      <td>320</td>\n",
       "      <td>31</td>\n",
       "      <td>...</td>\n",
       "      <td></td>\n",
       "      <td>6</td>\n",
       "      <td>8</td>\n",
       "      <td>4</td>\n",
       "      <td>4</td>\n",
       "      <td>1</td>\n",
       "      <td>1</td>\n",
       "      <td>3</td>\n",
       "      <td>NaN</td>\n",
       "      <td>0</td>\n",
       "    </tr>\n",
       "    <tr>\n",
       "      <th>198</th>\n",
       "      <td>59.166.0.5</td>\n",
       "      <td>22425</td>\n",
       "      <td>149.171.126.6</td>\n",
       "      <td>65261</td>\n",
       "      <td>tcp</td>\n",
       "      <td>FIN</td>\n",
       "      <td>0.309355</td>\n",
       "      <td>4400</td>\n",
       "      <td>2976</td>\n",
       "      <td>31</td>\n",
       "      <td>...</td>\n",
       "      <td></td>\n",
       "      <td>6</td>\n",
       "      <td>8</td>\n",
       "      <td>4</td>\n",
       "      <td>4</td>\n",
       "      <td>1</td>\n",
       "      <td>1</td>\n",
       "      <td>3</td>\n",
       "      <td>NaN</td>\n",
       "      <td>0</td>\n",
       "    </tr>\n",
       "    <tr>\n",
       "      <th>199</th>\n",
       "      <td>59.166.0.7</td>\n",
       "      <td>19878</td>\n",
       "      <td>149.171.126.4</td>\n",
       "      <td>17834</td>\n",
       "      <td>tcp</td>\n",
       "      <td>FIN</td>\n",
       "      <td>0.019767</td>\n",
       "      <td>2646</td>\n",
       "      <td>25564</td>\n",
       "      <td>31</td>\n",
       "      <td>...</td>\n",
       "      <td></td>\n",
       "      <td>12</td>\n",
       "      <td>4</td>\n",
       "      <td>3</td>\n",
       "      <td>4</td>\n",
       "      <td>1</td>\n",
       "      <td>1</td>\n",
       "      <td>2</td>\n",
       "      <td>NaN</td>\n",
       "      <td>0</td>\n",
       "    </tr>\n",
       "  </tbody>\n",
       "</table>\n",
       "<p>200 rows × 49 columns</p>\n",
       "</div>"
      ],
      "text/plain": [
       "            srcip  sport           dstip dsport proto state       dur  sbytes  \\\n",
       "0      59.166.0.9   7045   149.171.126.7     25   tcp   FIN  0.201886   37552   \n",
       "1      59.166.0.9   9685   149.171.126.2     80   tcp   FIN  5.864748   19410   \n",
       "2      59.166.0.2   1421   149.171.126.4     53   udp   CON  0.001391     146   \n",
       "3      59.166.0.2  21553   149.171.126.2     25   tcp   FIN  0.053948   37812   \n",
       "4      59.166.0.8  45212   149.171.126.4     53   udp   CON  0.000953     146   \n",
       "..            ...    ...             ...    ...   ...   ...       ...     ...   \n",
       "195  175.45.176.0   9910  149.171.126.10     80   tcp   FIN  0.230763     756   \n",
       "196    59.166.0.3  53256   149.171.126.2  57469   tcp   FIN  0.291809    4862   \n",
       "197    59.166.0.5  20197   149.171.126.6    111   udp   CON  0.004321     568   \n",
       "198    59.166.0.5  22425   149.171.126.6  65261   tcp   FIN  0.309355    4400   \n",
       "199    59.166.0.7  19878   149.171.126.4  17834   tcp   FIN  0.019767    2646   \n",
       "\n",
       "      dbytes  sttl  ...  ct_ftp_cmd  ct_srv_src  ct_srv_dst ct_dst_ltm  \\\n",
       "0       3380    31  ...                       2           2          7   \n",
       "1    1087890    31  ...                       3           1          4   \n",
       "2        178    31  ...                       3           5          2   \n",
       "3       3380    31  ...                       1           1          4   \n",
       "4        178    31  ...                       2           5          2   \n",
       "..       ...   ...  ...         ...         ...         ...        ...   \n",
       "195     1356    62  ...                       1           1          1   \n",
       "196    82782    31  ...                       4          10          1   \n",
       "197      320    31  ...                       6           8          4   \n",
       "198     2976    31  ...                       6           8          4   \n",
       "199    25564    31  ...                      12           4          3   \n",
       "\n",
       "     ct_src_ ltm  ct_src_dport_ltm  ct_dst_sport_ltm  ct_dst_src_ltm  \\\n",
       "0              4                 1                 1               3   \n",
       "1              4                 1                 1               1   \n",
       "2              7                 1                 1               4   \n",
       "3              7                 1                 1               3   \n",
       "4              1                 1                 1               2   \n",
       "..           ...               ...               ...             ...   \n",
       "195            1                 1                 1               1   \n",
       "196            2                 1                 1               1   \n",
       "197            4                 1                 1               3   \n",
       "198            4                 1                 1               3   \n",
       "199            4                 1                 1               2   \n",
       "\n",
       "     attack_cat  Label  \n",
       "0           NaN      0  \n",
       "1           NaN      0  \n",
       "2           NaN      0  \n",
       "3           NaN      0  \n",
       "4           NaN      0  \n",
       "..          ...    ...  \n",
       "195    Exploits      1  \n",
       "196         NaN      0  \n",
       "197         NaN      0  \n",
       "198         NaN      0  \n",
       "199         NaN      0  \n",
       "\n",
       "[200 rows x 49 columns]"
      ]
     },
     "execution_count": 9,
     "metadata": {},
     "output_type": "execute_result"
    }
   ],
   "source": [
    "data_2[:200]"
   ]
  },
  {
   "cell_type": "code",
   "execution_count": 10,
   "metadata": {
    "id": "mMKKWtauAN-z"
   },
   "outputs": [
    {
     "data": {
      "text/plain": [
       "0    351150\n",
       "1     88894\n",
       "Name: Label, dtype: int64"
      ]
     },
     "execution_count": 10,
     "metadata": {},
     "output_type": "execute_result"
    }
   ],
   "source": [
    "data_2['Label'].value_counts()"
   ]
  },
  {
   "cell_type": "code",
   "execution_count": 11,
   "metadata": {
    "id": "oaEigChD5lZ4"
   },
   "outputs": [
    {
     "name": "stdout",
     "output_type": "stream",
     "text": [
      "{'Worms', 'DoS', ' Fuzzers ', 'Backdoor', ' Shellcode ', nan, 'Generic', ' Reconnaissance ', 'Analysis', 'Exploits'}\n",
      "Normal    351150\n",
      "DoS         4907\n",
      "Name: attack_cat, dtype: int64\n"
     ]
    }
   ],
   "source": [
    "# Print unique values in 'attack_cat' column\n",
    "print(set(data_2['attack_cat']))\n",
    "\n",
    "# Replace NaN values with 'Normal'\n",
    "data_2['attack_cat'].fillna('Normal', inplace=True)\n",
    "\n",
    "# Filter data_2 to keep only 'DoS' and 'Normal' rows\n",
    "data_2 = data_2[data_2['attack_cat'].isin(['DoS', 'Normal'])]\n",
    "\n",
    "# Verify the filtering\n",
    "print(data_2['attack_cat'].value_counts())"
   ]
  },
  {
   "cell_type": "code",
   "execution_count": 12,
   "metadata": {
    "id": "NaFrbWLxfbm-"
   },
   "outputs": [
    {
     "data": {
      "text/html": [
       "<div>\n",
       "<style scoped>\n",
       "    .dataframe tbody tr th:only-of-type {\n",
       "        vertical-align: middle;\n",
       "    }\n",
       "\n",
       "    .dataframe tbody tr th {\n",
       "        vertical-align: top;\n",
       "    }\n",
       "\n",
       "    .dataframe thead th {\n",
       "        text-align: right;\n",
       "    }\n",
       "</style>\n",
       "<table border=\"1\" class=\"dataframe\">\n",
       "  <thead>\n",
       "    <tr style=\"text-align: right;\">\n",
       "      <th></th>\n",
       "      <th>srcip</th>\n",
       "      <th>sport</th>\n",
       "      <th>dstip</th>\n",
       "      <th>dsport</th>\n",
       "      <th>dur</th>\n",
       "      <th>Spkts</th>\n",
       "      <th>Dpkts</th>\n",
       "      <th>sbytes</th>\n",
       "      <th>dbytes</th>\n",
       "      <th>Label</th>\n",
       "    </tr>\n",
       "  </thead>\n",
       "  <tbody>\n",
       "    <tr>\n",
       "      <th>0</th>\n",
       "      <td>59.166.0.9</td>\n",
       "      <td>7045</td>\n",
       "      <td>149.171.126.7</td>\n",
       "      <td>25</td>\n",
       "      <td>0.201886</td>\n",
       "      <td>52</td>\n",
       "      <td>42</td>\n",
       "      <td>37552</td>\n",
       "      <td>3380</td>\n",
       "      <td>0</td>\n",
       "    </tr>\n",
       "    <tr>\n",
       "      <th>1</th>\n",
       "      <td>59.166.0.9</td>\n",
       "      <td>9685</td>\n",
       "      <td>149.171.126.2</td>\n",
       "      <td>80</td>\n",
       "      <td>5.864748</td>\n",
       "      <td>364</td>\n",
       "      <td>746</td>\n",
       "      <td>19410</td>\n",
       "      <td>1087890</td>\n",
       "      <td>0</td>\n",
       "    </tr>\n",
       "    <tr>\n",
       "      <th>2</th>\n",
       "      <td>59.166.0.2</td>\n",
       "      <td>1421</td>\n",
       "      <td>149.171.126.4</td>\n",
       "      <td>53</td>\n",
       "      <td>0.001391</td>\n",
       "      <td>2</td>\n",
       "      <td>2</td>\n",
       "      <td>146</td>\n",
       "      <td>178</td>\n",
       "      <td>0</td>\n",
       "    </tr>\n",
       "    <tr>\n",
       "      <th>3</th>\n",
       "      <td>59.166.0.2</td>\n",
       "      <td>21553</td>\n",
       "      <td>149.171.126.2</td>\n",
       "      <td>25</td>\n",
       "      <td>0.053948</td>\n",
       "      <td>54</td>\n",
       "      <td>42</td>\n",
       "      <td>37812</td>\n",
       "      <td>3380</td>\n",
       "      <td>0</td>\n",
       "    </tr>\n",
       "    <tr>\n",
       "      <th>4</th>\n",
       "      <td>59.166.0.8</td>\n",
       "      <td>45212</td>\n",
       "      <td>149.171.126.4</td>\n",
       "      <td>53</td>\n",
       "      <td>0.000953</td>\n",
       "      <td>2</td>\n",
       "      <td>2</td>\n",
       "      <td>146</td>\n",
       "      <td>178</td>\n",
       "      <td>0</td>\n",
       "    </tr>\n",
       "    <tr>\n",
       "      <th>...</th>\n",
       "      <td>...</td>\n",
       "      <td>...</td>\n",
       "      <td>...</td>\n",
       "      <td>...</td>\n",
       "      <td>...</td>\n",
       "      <td>...</td>\n",
       "      <td>...</td>\n",
       "      <td>...</td>\n",
       "      <td>...</td>\n",
       "      <td>...</td>\n",
       "    </tr>\n",
       "    <tr>\n",
       "      <th>440038</th>\n",
       "      <td>59.166.0.1</td>\n",
       "      <td>38606</td>\n",
       "      <td>149.171.126.9</td>\n",
       "      <td>80</td>\n",
       "      <td>0.564998</td>\n",
       "      <td>262</td>\n",
       "      <td>526</td>\n",
       "      <td>14106</td>\n",
       "      <td>772406</td>\n",
       "      <td>0</td>\n",
       "    </tr>\n",
       "    <tr>\n",
       "      <th>440039</th>\n",
       "      <td>59.166.0.5</td>\n",
       "      <td>33094</td>\n",
       "      <td>149.171.126.7</td>\n",
       "      <td>43433</td>\n",
       "      <td>0.087306</td>\n",
       "      <td>6</td>\n",
       "      <td>8</td>\n",
       "      <td>320</td>\n",
       "      <td>1828</td>\n",
       "      <td>0</td>\n",
       "    </tr>\n",
       "    <tr>\n",
       "      <th>440040</th>\n",
       "      <td>59.166.0.7</td>\n",
       "      <td>20848</td>\n",
       "      <td>149.171.126.4</td>\n",
       "      <td>21</td>\n",
       "      <td>0.365058</td>\n",
       "      <td>8</td>\n",
       "      <td>6</td>\n",
       "      <td>456</td>\n",
       "      <td>346</td>\n",
       "      <td>0</td>\n",
       "    </tr>\n",
       "    <tr>\n",
       "      <th>440041</th>\n",
       "      <td>59.166.0.3</td>\n",
       "      <td>21511</td>\n",
       "      <td>149.171.126.9</td>\n",
       "      <td>21</td>\n",
       "      <td>6.335154</td>\n",
       "      <td>32</td>\n",
       "      <td>30</td>\n",
       "      <td>1802</td>\n",
       "      <td>2088</td>\n",
       "      <td>0</td>\n",
       "    </tr>\n",
       "    <tr>\n",
       "      <th>440042</th>\n",
       "      <td>59.166.0.9</td>\n",
       "      <td>35433</td>\n",
       "      <td>149.171.126.0</td>\n",
       "      <td>80</td>\n",
       "      <td>2.200934</td>\n",
       "      <td>58</td>\n",
       "      <td>116</td>\n",
       "      <td>3498</td>\n",
       "      <td>166054</td>\n",
       "      <td>0</td>\n",
       "    </tr>\n",
       "  </tbody>\n",
       "</table>\n",
       "<p>356057 rows × 10 columns</p>\n",
       "</div>"
      ],
      "text/plain": [
       "             srcip  sport          dstip dsport       dur  Spkts  Dpkts  \\\n",
       "0       59.166.0.9   7045  149.171.126.7     25  0.201886     52     42   \n",
       "1       59.166.0.9   9685  149.171.126.2     80  5.864748    364    746   \n",
       "2       59.166.0.2   1421  149.171.126.4     53  0.001391      2      2   \n",
       "3       59.166.0.2  21553  149.171.126.2     25  0.053948     54     42   \n",
       "4       59.166.0.8  45212  149.171.126.4     53  0.000953      2      2   \n",
       "...            ...    ...            ...    ...       ...    ...    ...   \n",
       "440038  59.166.0.1  38606  149.171.126.9     80  0.564998    262    526   \n",
       "440039  59.166.0.5  33094  149.171.126.7  43433  0.087306      6      8   \n",
       "440040  59.166.0.7  20848  149.171.126.4     21  0.365058      8      6   \n",
       "440041  59.166.0.3  21511  149.171.126.9     21  6.335154     32     30   \n",
       "440042  59.166.0.9  35433  149.171.126.0     80  2.200934     58    116   \n",
       "\n",
       "        sbytes   dbytes  Label  \n",
       "0        37552     3380      0  \n",
       "1        19410  1087890      0  \n",
       "2          146      178      0  \n",
       "3        37812     3380      0  \n",
       "4          146      178      0  \n",
       "...        ...      ...    ...  \n",
       "440038   14106   772406      0  \n",
       "440039     320     1828      0  \n",
       "440040     456      346      0  \n",
       "440041    1802     2088      0  \n",
       "440042    3498   166054      0  \n",
       "\n",
       "[356057 rows x 10 columns]"
      ]
     },
     "execution_count": 12,
     "metadata": {},
     "output_type": "execute_result"
    }
   ],
   "source": [
    "data_2= data_2[['srcip', 'sport', 'dstip', 'dsport','dur',  'Spkts', 'Dpkts', 'sbytes',\n",
    "       'dbytes', 'Label']]\n",
    "data_2"
   ]
  },
  {
   "cell_type": "code",
   "execution_count": 13,
   "metadata": {
    "id": "gcYCffhU32nC"
   },
   "outputs": [
    {
     "data": {
      "text/plain": [
       "0    351150\n",
       "1      4907\n",
       "Name: Label, dtype: int64"
      ]
     },
     "execution_count": 13,
     "metadata": {},
     "output_type": "execute_result"
    }
   ],
   "source": [
    "data_2['Label'].value_counts()"
   ]
  },
  {
   "cell_type": "code",
   "execution_count": 14,
   "metadata": {
    "id": "ubkGgDbgO_j5",
    "tags": []
   },
   "outputs": [
    {
     "name": "stdout",
     "output_type": "stream",
     "text": [
      "Number of unique labels in the balanced data: 2\n",
      "Frequency of each unique label in the balanced data:\n",
      "0    15000\n",
      "1    15000\n",
      "Name: Label, dtype: int64\n",
      "Frequency of each unique label in the original data:\n",
      "0    351150\n",
      "1      4907\n",
      "Name: Label, dtype: int64\n"
     ]
    }
   ],
   "source": [
    "import pandas as pd\n",
    "from sklearn.utils import resample\n",
    "\n",
    "# Set the desired number of majority class samples\n",
    "num_majority_samples = 15000  # Adjust this number as needed\n",
    "\n",
    "# Get the minority class label\n",
    "minority_class = data_2['Label'].value_counts().idxmin()\n",
    "\n",
    "# Separate majority and minority class samples\n",
    "majority_samples = data_2[data_2['Label'] != minority_class]\n",
    "minority_samples = data_2[data_2['Label'] == minority_class]\n",
    "\n",
    "# Sample the majority class samples\n",
    "majority_samples_sampled = majority_samples.sample(num_majority_samples, random_state=42)\n",
    "\n",
    "# Upsample the minority class samples\n",
    "minority_samples_upsampled = resample(\n",
    "    minority_samples,\n",
    "    replace=True,  # Sample with replacement\n",
    "    n_samples=num_majority_samples,  # Match the number of majority samples\n",
    "    random_state=42  # Reproducible results\n",
    ")\n",
    "\n",
    "# Combine the sampled majority class samples and upsampled minority class samples\n",
    "balanced_data_2 = pd.concat([majority_samples_sampled, minority_samples_upsampled], axis=0)\n",
    "\n",
    "# Shuffle the balanced dataset\n",
    "balanced_data_2 = balanced_data_2.sample(frac=1, random_state=42).reset_index(drop=True)\n",
    "\n",
    "# Print some information about the balanced dataset\n",
    "balanced_data.head()\n",
    "num_unique_labels = balanced_data_2['Label'].nunique()\n",
    "print(\"Number of unique labels in the balanced data:\", num_unique_labels)\n",
    "label_frequency = balanced_data_2['Label'].value_counts()\n",
    "print(\"Frequency of each unique label in the balanced data:\")\n",
    "print(label_frequency)\n",
    "label_frequency_data = data_2['Label'].value_counts()\n",
    "print(\"Frequency of each unique label in the original data:\")\n",
    "print(label_frequency_data)"
   ]
  },
  {
   "cell_type": "code",
   "execution_count": 15,
   "metadata": {
    "id": "OY28Y2JfO__L",
    "tags": []
   },
   "outputs": [],
   "source": [
    "data_2 =  balanced_data_2.copy()"
   ]
  },
  {
   "cell_type": "markdown",
   "metadata": {
    "id": "xOuY2pwhMc6G",
    "tags": []
   },
   "source": [
    "## Dataset3 Preprocessing"
   ]
  },
  {
   "cell_type": "code",
   "execution_count": 16,
   "metadata": {
    "id": "mhVnzDNiMgO3",
    "tags": []
   },
   "outputs": [
    {
     "data": {
      "text/plain": [
       "Index(['Flow ID', ' Source IP', ' Source Port', ' Destination IP',\n",
       "       ' Destination Port', ' Protocol', ' Timestamp', ' Flow Duration',\n",
       "       ' Total Fwd Packets', ' Total Backward Packets',\n",
       "       'Total Length of Fwd Packets', ' Total Length of Bwd Packets',\n",
       "       ' Fwd Packet Length Max', ' Fwd Packet Length Min',\n",
       "       ' Fwd Packet Length Mean', ' Fwd Packet Length Std',\n",
       "       'Bwd Packet Length Max', ' Bwd Packet Length Min',\n",
       "       ' Bwd Packet Length Mean', ' Bwd Packet Length Std', 'Flow Bytes/s',\n",
       "       ' Flow Packets/s', ' Flow IAT Mean', ' Flow IAT Std', ' Flow IAT Max',\n",
       "       ' Flow IAT Min', 'Fwd IAT Total', ' Fwd IAT Mean', ' Fwd IAT Std',\n",
       "       ' Fwd IAT Max', ' Fwd IAT Min', 'Bwd IAT Total', ' Bwd IAT Mean',\n",
       "       ' Bwd IAT Std', ' Bwd IAT Max', ' Bwd IAT Min', 'Fwd PSH Flags',\n",
       "       ' Bwd PSH Flags', ' Fwd URG Flags', ' Bwd URG Flags',\n",
       "       ' Fwd Header Length', ' Bwd Header Length', 'Fwd Packets/s',\n",
       "       ' Bwd Packets/s', ' Min Packet Length', ' Max Packet Length',\n",
       "       ' Packet Length Mean', ' Packet Length Std', ' Packet Length Variance',\n",
       "       'FIN Flag Count', ' SYN Flag Count', ' RST Flag Count',\n",
       "       ' PSH Flag Count', ' ACK Flag Count', ' URG Flag Count',\n",
       "       ' CWE Flag Count', ' ECE Flag Count', ' Down/Up Ratio',\n",
       "       ' Average Packet Size', ' Avg Fwd Segment Size',\n",
       "       ' Avg Bwd Segment Size', ' Fwd Header Length.1', 'Fwd Avg Bytes/Bulk',\n",
       "       ' Fwd Avg Packets/Bulk', ' Fwd Avg Bulk Rate', ' Bwd Avg Bytes/Bulk',\n",
       "       ' Bwd Avg Packets/Bulk', 'Bwd Avg Bulk Rate', 'Subflow Fwd Packets',\n",
       "       ' Subflow Fwd Bytes', ' Subflow Bwd Packets', ' Subflow Bwd Bytes',\n",
       "       'Init_Win_bytes_forward', ' Init_Win_bytes_backward',\n",
       "       ' act_data_pkt_fwd', ' min_seg_size_forward', 'Active Mean',\n",
       "       ' Active Std', ' Active Max', ' Active Min', 'Idle Mean', ' Idle Std',\n",
       "       ' Idle Max', ' Idle Min', ' Label'],\n",
       "      dtype='object')"
      ]
     },
     "execution_count": 16,
     "metadata": {},
     "output_type": "execute_result"
    }
   ],
   "source": [
    "data_3.columns"
   ]
  },
  {
   "cell_type": "code",
   "execution_count": 17,
   "metadata": {
    "id": "Ny_qGk3iP2nF"
   },
   "outputs": [
    {
     "data": {
      "text/html": [
       "<div>\n",
       "<style scoped>\n",
       "    .dataframe tbody tr th:only-of-type {\n",
       "        vertical-align: middle;\n",
       "    }\n",
       "\n",
       "    .dataframe tbody tr th {\n",
       "        vertical-align: top;\n",
       "    }\n",
       "\n",
       "    .dataframe thead th {\n",
       "        text-align: right;\n",
       "    }\n",
       "</style>\n",
       "<table border=\"1\" class=\"dataframe\">\n",
       "  <thead>\n",
       "    <tr style=\"text-align: right;\">\n",
       "      <th></th>\n",
       "      <th>Source IP</th>\n",
       "      <th>Source Port</th>\n",
       "      <th>Destination IP</th>\n",
       "      <th>Destination Port</th>\n",
       "      <th>Flow Duration</th>\n",
       "      <th>Total Fwd Packets</th>\n",
       "      <th>Total Backward Packets</th>\n",
       "      <th>Total Length of Fwd Packets</th>\n",
       "      <th>Total Length of Bwd Packets</th>\n",
       "      <th>Label</th>\n",
       "    </tr>\n",
       "  </thead>\n",
       "  <tbody>\n",
       "    <tr>\n",
       "      <th>0</th>\n",
       "      <td>104.16.207.165</td>\n",
       "      <td>443</td>\n",
       "      <td>192.168.10.5</td>\n",
       "      <td>54865</td>\n",
       "      <td>3</td>\n",
       "      <td>2</td>\n",
       "      <td>0</td>\n",
       "      <td>12</td>\n",
       "      <td>0</td>\n",
       "      <td>BENIGN</td>\n",
       "    </tr>\n",
       "    <tr>\n",
       "      <th>1</th>\n",
       "      <td>104.16.28.216</td>\n",
       "      <td>80</td>\n",
       "      <td>192.168.10.5</td>\n",
       "      <td>55054</td>\n",
       "      <td>109</td>\n",
       "      <td>1</td>\n",
       "      <td>1</td>\n",
       "      <td>6</td>\n",
       "      <td>6</td>\n",
       "      <td>BENIGN</td>\n",
       "    </tr>\n",
       "    <tr>\n",
       "      <th>2</th>\n",
       "      <td>104.16.28.216</td>\n",
       "      <td>80</td>\n",
       "      <td>192.168.10.5</td>\n",
       "      <td>55055</td>\n",
       "      <td>52</td>\n",
       "      <td>1</td>\n",
       "      <td>1</td>\n",
       "      <td>6</td>\n",
       "      <td>6</td>\n",
       "      <td>BENIGN</td>\n",
       "    </tr>\n",
       "    <tr>\n",
       "      <th>3</th>\n",
       "      <td>104.17.241.25</td>\n",
       "      <td>443</td>\n",
       "      <td>192.168.10.16</td>\n",
       "      <td>46236</td>\n",
       "      <td>34</td>\n",
       "      <td>1</td>\n",
       "      <td>1</td>\n",
       "      <td>6</td>\n",
       "      <td>6</td>\n",
       "      <td>BENIGN</td>\n",
       "    </tr>\n",
       "    <tr>\n",
       "      <th>4</th>\n",
       "      <td>104.19.196.102</td>\n",
       "      <td>443</td>\n",
       "      <td>192.168.10.5</td>\n",
       "      <td>54863</td>\n",
       "      <td>3</td>\n",
       "      <td>2</td>\n",
       "      <td>0</td>\n",
       "      <td>12</td>\n",
       "      <td>0</td>\n",
       "      <td>BENIGN</td>\n",
       "    </tr>\n",
       "    <tr>\n",
       "      <th>...</th>\n",
       "      <td>...</td>\n",
       "      <td>...</td>\n",
       "      <td>...</td>\n",
       "      <td>...</td>\n",
       "      <td>...</td>\n",
       "      <td>...</td>\n",
       "      <td>...</td>\n",
       "      <td>...</td>\n",
       "      <td>...</td>\n",
       "      <td>...</td>\n",
       "    </tr>\n",
       "    <tr>\n",
       "      <th>225740</th>\n",
       "      <td>72.21.91.29</td>\n",
       "      <td>80</td>\n",
       "      <td>192.168.10.15</td>\n",
       "      <td>61374</td>\n",
       "      <td>61</td>\n",
       "      <td>1</td>\n",
       "      <td>1</td>\n",
       "      <td>6</td>\n",
       "      <td>6</td>\n",
       "      <td>BENIGN</td>\n",
       "    </tr>\n",
       "    <tr>\n",
       "      <th>225741</th>\n",
       "      <td>72.21.91.29</td>\n",
       "      <td>80</td>\n",
       "      <td>192.168.10.15</td>\n",
       "      <td>61378</td>\n",
       "      <td>72</td>\n",
       "      <td>1</td>\n",
       "      <td>1</td>\n",
       "      <td>6</td>\n",
       "      <td>6</td>\n",
       "      <td>BENIGN</td>\n",
       "    </tr>\n",
       "    <tr>\n",
       "      <th>225742</th>\n",
       "      <td>72.21.91.29</td>\n",
       "      <td>80</td>\n",
       "      <td>192.168.10.15</td>\n",
       "      <td>61375</td>\n",
       "      <td>75</td>\n",
       "      <td>1</td>\n",
       "      <td>1</td>\n",
       "      <td>6</td>\n",
       "      <td>6</td>\n",
       "      <td>BENIGN</td>\n",
       "    </tr>\n",
       "    <tr>\n",
       "      <th>225743</th>\n",
       "      <td>8.41.222.187</td>\n",
       "      <td>80</td>\n",
       "      <td>192.168.10.15</td>\n",
       "      <td>61323</td>\n",
       "      <td>48</td>\n",
       "      <td>2</td>\n",
       "      <td>0</td>\n",
       "      <td>12</td>\n",
       "      <td>0</td>\n",
       "      <td>BENIGN</td>\n",
       "    </tr>\n",
       "    <tr>\n",
       "      <th>225744</th>\n",
       "      <td>8.43.72.21</td>\n",
       "      <td>80</td>\n",
       "      <td>192.168.10.15</td>\n",
       "      <td>61326</td>\n",
       "      <td>68</td>\n",
       "      <td>1</td>\n",
       "      <td>1</td>\n",
       "      <td>6</td>\n",
       "      <td>6</td>\n",
       "      <td>BENIGN</td>\n",
       "    </tr>\n",
       "  </tbody>\n",
       "</table>\n",
       "<p>225745 rows × 10 columns</p>\n",
       "</div>"
      ],
      "text/plain": [
       "             Source IP   Source Port  Destination IP   Destination Port  \\\n",
       "0       104.16.207.165           443    192.168.10.5              54865   \n",
       "1        104.16.28.216            80    192.168.10.5              55054   \n",
       "2        104.16.28.216            80    192.168.10.5              55055   \n",
       "3        104.17.241.25           443   192.168.10.16              46236   \n",
       "4       104.19.196.102           443    192.168.10.5              54863   \n",
       "...                ...           ...             ...                ...   \n",
       "225740     72.21.91.29            80   192.168.10.15              61374   \n",
       "225741     72.21.91.29            80   192.168.10.15              61378   \n",
       "225742     72.21.91.29            80   192.168.10.15              61375   \n",
       "225743    8.41.222.187            80   192.168.10.15              61323   \n",
       "225744      8.43.72.21            80   192.168.10.15              61326   \n",
       "\n",
       "         Flow Duration   Total Fwd Packets   Total Backward Packets  \\\n",
       "0                    3                   2                        0   \n",
       "1                  109                   1                        1   \n",
       "2                   52                   1                        1   \n",
       "3                   34                   1                        1   \n",
       "4                    3                   2                        0   \n",
       "...                ...                 ...                      ...   \n",
       "225740              61                   1                        1   \n",
       "225741              72                   1                        1   \n",
       "225742              75                   1                        1   \n",
       "225743              48                   2                        0   \n",
       "225744              68                   1                        1   \n",
       "\n",
       "        Total Length of Fwd Packets   Total Length of Bwd Packets   Label  \n",
       "0                                12                             0  BENIGN  \n",
       "1                                 6                             6  BENIGN  \n",
       "2                                 6                             6  BENIGN  \n",
       "3                                 6                             6  BENIGN  \n",
       "4                                12                             0  BENIGN  \n",
       "...                             ...                           ...     ...  \n",
       "225740                            6                             6  BENIGN  \n",
       "225741                            6                             6  BENIGN  \n",
       "225742                            6                             6  BENIGN  \n",
       "225743                           12                             0  BENIGN  \n",
       "225744                            6                             6  BENIGN  \n",
       "\n",
       "[225745 rows x 10 columns]"
      ]
     },
     "execution_count": 17,
     "metadata": {},
     "output_type": "execute_result"
    }
   ],
   "source": [
    "data_3 = data_3[[' Source IP', ' Source Port', ' Destination IP',\n",
    "       ' Destination Port',' Flow Duration',\n",
    "       ' Total Fwd Packets', ' Total Backward Packets',\n",
    "       'Total Length of Fwd Packets', ' Total Length of Bwd Packets',' Label']]\n",
    "\n",
    "data_3"
   ]
  },
  {
   "cell_type": "code",
   "execution_count": 18,
   "metadata": {
    "id": "gt5Y5TPAQuKg"
   },
   "outputs": [
    {
     "name": "stdout",
     "output_type": "stream",
     "text": [
      "{'DDoS', 'BENIGN'}\n"
     ]
    },
    {
     "data": {
      "text/plain": [
       "0         0\n",
       "1         0\n",
       "2         0\n",
       "3         0\n",
       "4         0\n",
       "         ..\n",
       "225740    0\n",
       "225741    0\n",
       "225742    0\n",
       "225743    0\n",
       "225744    0\n",
       "Name:  Label, Length: 225745, dtype: int64"
      ]
     },
     "execution_count": 18,
     "metadata": {},
     "output_type": "execute_result"
    }
   ],
   "source": [
    "print(set(data_3[' Label']))\n",
    "\n",
    "data_3[' Label'].value_counts()\n",
    "# Map labels in data_1 to binary\n",
    "data_3[' Label'] = data_3[' Label'].map({\n",
    "    'BENIGN': 0,\n",
    "    'DDoS': 1})\n",
    "\n",
    "data_3[' Label']"
   ]
  },
  {
   "cell_type": "code",
   "execution_count": 19,
   "metadata": {
    "id": "Xgu8cObb51PX"
   },
   "outputs": [
    {
     "data": {
      "text/plain": [
       "1    128027\n",
       "0     97718\n",
       "Name:  Label, dtype: int64"
      ]
     },
     "execution_count": 19,
     "metadata": {},
     "output_type": "execute_result"
    }
   ],
   "source": [
    "data_3[' Label'].value_counts()"
   ]
  },
  {
   "cell_type": "code",
   "execution_count": 20,
   "metadata": {
    "id": "AdcxcB6yifiO"
   },
   "outputs": [
    {
     "name": "stdout",
     "output_type": "stream",
     "text": [
      "Number of unique labels in the balanced data: 2\n",
      "Frequency of each unique label in the balanced data:\n",
      "1    15000\n",
      "0    15000\n",
      "Name:  Label, dtype: int64\n",
      "Frequency of each unique label in the original data:\n",
      "1    128027\n",
      "0     97718\n",
      "Name:  Label, dtype: int64\n"
     ]
    }
   ],
   "source": [
    "import pandas as pd\n",
    "from sklearn.utils import resample\n",
    "\n",
    "# Set the desired number of majority class samples\n",
    "num_majority_samples = 15000  # Adjust this number as needed\n",
    "\n",
    "# Get the minority class label\n",
    "minority_class = data_3[' Label'].value_counts().idxmin()\n",
    "\n",
    "# Separate majority and minority class samples\n",
    "majority_samples = data_3[data_3[' Label'] != minority_class]\n",
    "minority_samples = data_3[data_3[' Label'] == minority_class]\n",
    "\n",
    "# Sample the majority class samples\n",
    "majority_samples_sampled = majority_samples.sample(num_majority_samples, random_state=42)\n",
    "\n",
    "# Upsample the minority class samples\n",
    "minority_samples_upsampled = resample(\n",
    "    minority_samples,\n",
    "    replace=True,  # Sample with replacement\n",
    "    n_samples=num_majority_samples,  # Match the number of majority samples\n",
    "    random_state=42  # Reproducible results\n",
    ")\n",
    "\n",
    "# Combine the sampled majority class samples and upsampled minority class samples\n",
    "balanced_data_3 = pd.concat([majority_samples_sampled, minority_samples_upsampled], axis=0)\n",
    "\n",
    "# Shuffle the balanced dataset\n",
    "balanced_data_3 = balanced_data_3.sample(frac=1, random_state=42).reset_index(drop=True)\n",
    "\n",
    "# Print some information about the balanced dataset\n",
    "balanced_data.head()\n",
    "num_unique_labels = balanced_data_3[' Label'].nunique()\n",
    "print(\"Number of unique labels in the balanced data:\", num_unique_labels)\n",
    "label_frequency = balanced_data_3[' Label'].value_counts()\n",
    "print(\"Frequency of each unique label in the balanced data:\")\n",
    "print(label_frequency)\n",
    "label_frequency_data = data_3[' Label'].value_counts()\n",
    "print(\"Frequency of each unique label in the original data:\")\n",
    "print(label_frequency_data)"
   ]
  },
  {
   "cell_type": "code",
   "execution_count": 21,
   "metadata": {
    "id": "s4TpOjXpj5xd"
   },
   "outputs": [],
   "source": [
    "data_3 = balanced_data_3.copy()"
   ]
  },
  {
   "cell_type": "markdown",
   "metadata": {
    "id": "SNnplKV5MmZi",
    "tags": []
   },
   "source": [
    "## Standardizing Columns"
   ]
  },
  {
   "cell_type": "code",
   "execution_count": 22,
   "metadata": {
    "id": "cxDhrs85RIch"
   },
   "outputs": [
    {
     "data": {
      "text/plain": [
       "(Index([' Source IP', ' Source Port', ' Destination IP', ' Destination Port',\n",
       "        ' Flow Duration', ' Total Fwd Packets', ' Total Backward Packets',\n",
       "        'Total Length of Fwd Packets', ' Total Length of Bwd Packets',\n",
       "        ' Label'],\n",
       "       dtype='object'),\n",
       " Index(['srcip', 'sport', 'dstip', 'dsport', 'dur', 'Spkts', 'Dpkts', 'sbytes',\n",
       "        'dbytes', 'Label'],\n",
       "       dtype='object'),\n",
       " Index([' Source IP', ' Source Port', ' Destination IP', ' Destination Port',\n",
       "        ' Flow Duration', ' Total Fwd Packets', ' Total Backward Packets',\n",
       "        'Total Length of Fwd Packets', ' Total Length of Bwd Packets',\n",
       "        ' Label'],\n",
       "       dtype='object'))"
      ]
     },
     "execution_count": 22,
     "metadata": {},
     "output_type": "execute_result"
    }
   ],
   "source": [
    "data.columns,data_2.columns,data_3.columns,"
   ]
  },
  {
   "cell_type": "code",
   "execution_count": 23,
   "metadata": {
    "id": "wIyTViFfTWtZ"
   },
   "outputs": [],
   "source": [
    "# Standardize column names\n",
    "rename_dict = {\n",
    "    ' Source IP': 'src_ip', ' Source Port': 'src_port', ' Destination IP': 'dst_ip', ' Destination Port': 'dst_port',\n",
    "    ' Protocol': 'protocol', ' Flow Duration': 'flow_duration', ' Total Fwd Packets': 'total_fwd_packets',\n",
    "    ' Total Backward Packets': 'total_bwd_packets', 'Total Length of Fwd Packets': 'total_len_fwd_packets',\n",
    "    ' Total Length of Bwd Packets': 'total_len_bwd_packets', ' Label': 'label',\n",
    "\n",
    "    'srcip': 'src_ip', 'sport': 'src_port', 'dstip': 'dst_ip', 'dsport': 'dst_port',\n",
    "    'proto': 'protocol', 'dur': 'flow_duration', 'Spkts': 'total_fwd_packets', 'Dpkts': 'total_bwd_packets',\n",
    "    'sbytes': 'total_len_fwd_packets', 'dbytes': 'total_len_bwd_packets', 'Label': 'label'\n",
    "}\n",
    "\n",
    "data.rename(columns=rename_dict, inplace=True)\n",
    "data_2.rename(columns=rename_dict, inplace=True)\n",
    "data_3.rename(columns=rename_dict, inplace=True)"
   ]
  },
  {
   "cell_type": "code",
   "execution_count": 24,
   "metadata": {
    "id": "cA_6Oi0HTfiR"
   },
   "outputs": [
    {
     "data": {
      "text/plain": [
       "(Index(['src_ip', 'src_port', 'dst_ip', 'dst_port', 'flow_duration',\n",
       "        'total_fwd_packets', 'total_bwd_packets', 'total_len_fwd_packets',\n",
       "        'total_len_bwd_packets', 'label'],\n",
       "       dtype='object'),\n",
       " Index(['src_ip', 'src_port', 'dst_ip', 'dst_port', 'flow_duration',\n",
       "        'total_fwd_packets', 'total_bwd_packets', 'total_len_fwd_packets',\n",
       "        'total_len_bwd_packets', 'label'],\n",
       "       dtype='object'),\n",
       " Index(['src_ip', 'src_port', 'dst_ip', 'dst_port', 'flow_duration',\n",
       "        'total_fwd_packets', 'total_bwd_packets', 'total_len_fwd_packets',\n",
       "        'total_len_bwd_packets', 'label'],\n",
       "       dtype='object'))"
      ]
     },
     "execution_count": 24,
     "metadata": {},
     "output_type": "execute_result"
    }
   ],
   "source": [
    "data.columns,data_2.columns,data_3.columns,"
   ]
  },
  {
   "cell_type": "markdown",
   "metadata": {
    "id": "y_MGSeFEM38Z",
    "tags": []
   },
   "source": [
    "## Preparing Data for Training"
   ]
  },
  {
   "cell_type": "code",
   "execution_count": 25,
   "metadata": {
    "id": "ErMV4UYTYvGj"
   },
   "outputs": [
    {
     "data": {
      "text/html": [
       "<div>\n",
       "<style scoped>\n",
       "    .dataframe tbody tr th:only-of-type {\n",
       "        vertical-align: middle;\n",
       "    }\n",
       "\n",
       "    .dataframe tbody tr th {\n",
       "        vertical-align: top;\n",
       "    }\n",
       "\n",
       "    .dataframe thead th {\n",
       "        text-align: right;\n",
       "    }\n",
       "</style>\n",
       "<table border=\"1\" class=\"dataframe\">\n",
       "  <thead>\n",
       "    <tr style=\"text-align: right;\">\n",
       "      <th></th>\n",
       "      <th>src_ip</th>\n",
       "      <th>src_port</th>\n",
       "      <th>dst_ip</th>\n",
       "      <th>dst_port</th>\n",
       "      <th>flow_duration</th>\n",
       "      <th>total_fwd_packets</th>\n",
       "      <th>total_bwd_packets</th>\n",
       "      <th>total_len_fwd_packets</th>\n",
       "      <th>total_len_bwd_packets</th>\n",
       "      <th>label</th>\n",
       "    </tr>\n",
       "  </thead>\n",
       "  <tbody>\n",
       "    <tr>\n",
       "      <th>0</th>\n",
       "      <td>172.16.0.5</td>\n",
       "      <td>904</td>\n",
       "      <td>192.168.50.4</td>\n",
       "      <td>58454</td>\n",
       "      <td>2.0</td>\n",
       "      <td>2</td>\n",
       "      <td>0</td>\n",
       "      <td>458.0</td>\n",
       "      <td>0.0</td>\n",
       "      <td>1</td>\n",
       "    </tr>\n",
       "    <tr>\n",
       "      <th>1</th>\n",
       "      <td>172.16.0.5</td>\n",
       "      <td>655</td>\n",
       "      <td>192.168.50.4</td>\n",
       "      <td>51264</td>\n",
       "      <td>1.0</td>\n",
       "      <td>2</td>\n",
       "      <td>0</td>\n",
       "      <td>494.0</td>\n",
       "      <td>0.0</td>\n",
       "      <td>1</td>\n",
       "    </tr>\n",
       "    <tr>\n",
       "      <th>2</th>\n",
       "      <td>172.16.0.5</td>\n",
       "      <td>649</td>\n",
       "      <td>192.168.50.4</td>\n",
       "      <td>7363</td>\n",
       "      <td>1.0</td>\n",
       "      <td>2</td>\n",
       "      <td>0</td>\n",
       "      <td>422.0</td>\n",
       "      <td>0.0</td>\n",
       "      <td>1</td>\n",
       "    </tr>\n",
       "    <tr>\n",
       "      <th>3</th>\n",
       "      <td>192.168.50.9</td>\n",
       "      <td>39600</td>\n",
       "      <td>72.167.239.239</td>\n",
       "      <td>80</td>\n",
       "      <td>68147.0</td>\n",
       "      <td>6</td>\n",
       "      <td>7</td>\n",
       "      <td>862.0</td>\n",
       "      <td>3715.0</td>\n",
       "      <td>0</td>\n",
       "    </tr>\n",
       "    <tr>\n",
       "      <th>4</th>\n",
       "      <td>216.58.219.226</td>\n",
       "      <td>443</td>\n",
       "      <td>192.168.50.8</td>\n",
       "      <td>59838</td>\n",
       "      <td>172.0</td>\n",
       "      <td>1</td>\n",
       "      <td>2</td>\n",
       "      <td>6.0</td>\n",
       "      <td>12.0</td>\n",
       "      <td>0</td>\n",
       "    </tr>\n",
       "    <tr>\n",
       "      <th>...</th>\n",
       "      <td>...</td>\n",
       "      <td>...</td>\n",
       "      <td>...</td>\n",
       "      <td>...</td>\n",
       "      <td>...</td>\n",
       "      <td>...</td>\n",
       "      <td>...</td>\n",
       "      <td>...</td>\n",
       "      <td>...</td>\n",
       "      <td>...</td>\n",
       "    </tr>\n",
       "    <tr>\n",
       "      <th>359995</th>\n",
       "      <td>192.168.10.14</td>\n",
       "      <td>57704</td>\n",
       "      <td>152.195.12.73</td>\n",
       "      <td>443</td>\n",
       "      <td>62465310.0</td>\n",
       "      <td>4</td>\n",
       "      <td>5</td>\n",
       "      <td>104.0</td>\n",
       "      <td>193.0</td>\n",
       "      <td>0</td>\n",
       "    </tr>\n",
       "    <tr>\n",
       "      <th>359996</th>\n",
       "      <td>172.16.0.1</td>\n",
       "      <td>40765</td>\n",
       "      <td>192.168.10.50</td>\n",
       "      <td>80</td>\n",
       "      <td>731478.0</td>\n",
       "      <td>3</td>\n",
       "      <td>5</td>\n",
       "      <td>26.0</td>\n",
       "      <td>11601.0</td>\n",
       "      <td>1</td>\n",
       "    </tr>\n",
       "    <tr>\n",
       "      <th>359997</th>\n",
       "      <td>172.16.0.1</td>\n",
       "      <td>51227</td>\n",
       "      <td>192.168.10.50</td>\n",
       "      <td>80</td>\n",
       "      <td>7680856.0</td>\n",
       "      <td>5</td>\n",
       "      <td>0</td>\n",
       "      <td>30.0</td>\n",
       "      <td>0.0</td>\n",
       "      <td>1</td>\n",
       "    </tr>\n",
       "    <tr>\n",
       "      <th>359998</th>\n",
       "      <td>192.168.10.14</td>\n",
       "      <td>54210</td>\n",
       "      <td>192.168.10.3</td>\n",
       "      <td>53</td>\n",
       "      <td>143915.0</td>\n",
       "      <td>4</td>\n",
       "      <td>2</td>\n",
       "      <td>124.0</td>\n",
       "      <td>222.0</td>\n",
       "      <td>0</td>\n",
       "    </tr>\n",
       "    <tr>\n",
       "      <th>359999</th>\n",
       "      <td>192.168.10.50</td>\n",
       "      <td>80</td>\n",
       "      <td>172.16.0.1</td>\n",
       "      <td>40326</td>\n",
       "      <td>1243119.0</td>\n",
       "      <td>1</td>\n",
       "      <td>6</td>\n",
       "      <td>6.0</td>\n",
       "      <td>36.0</td>\n",
       "      <td>0</td>\n",
       "    </tr>\n",
       "  </tbody>\n",
       "</table>\n",
       "<p>360000 rows × 10 columns</p>\n",
       "</div>"
      ],
      "text/plain": [
       "                src_ip  src_port          dst_ip dst_port  flow_duration  \\\n",
       "0           172.16.0.5       904    192.168.50.4    58454            2.0   \n",
       "1           172.16.0.5       655    192.168.50.4    51264            1.0   \n",
       "2           172.16.0.5       649    192.168.50.4     7363            1.0   \n",
       "3         192.168.50.9     39600  72.167.239.239       80        68147.0   \n",
       "4       216.58.219.226       443    192.168.50.8    59838          172.0   \n",
       "...                ...       ...             ...      ...            ...   \n",
       "359995   192.168.10.14     57704   152.195.12.73      443     62465310.0   \n",
       "359996      172.16.0.1     40765   192.168.10.50       80       731478.0   \n",
       "359997      172.16.0.1     51227   192.168.10.50       80      7680856.0   \n",
       "359998   192.168.10.14     54210    192.168.10.3       53       143915.0   \n",
       "359999   192.168.10.50        80      172.16.0.1    40326      1243119.0   \n",
       "\n",
       "        total_fwd_packets  total_bwd_packets  total_len_fwd_packets  \\\n",
       "0                       2                  0                  458.0   \n",
       "1                       2                  0                  494.0   \n",
       "2                       2                  0                  422.0   \n",
       "3                       6                  7                  862.0   \n",
       "4                       1                  2                    6.0   \n",
       "...                   ...                ...                    ...   \n",
       "359995                  4                  5                  104.0   \n",
       "359996                  3                  5                   26.0   \n",
       "359997                  5                  0                   30.0   \n",
       "359998                  4                  2                  124.0   \n",
       "359999                  1                  6                    6.0   \n",
       "\n",
       "        total_len_bwd_packets  label  \n",
       "0                         0.0      1  \n",
       "1                         0.0      1  \n",
       "2                         0.0      1  \n",
       "3                      3715.0      0  \n",
       "4                        12.0      0  \n",
       "...                       ...    ...  \n",
       "359995                  193.0      0  \n",
       "359996                11601.0      1  \n",
       "359997                    0.0      1  \n",
       "359998                  222.0      0  \n",
       "359999                   36.0      0  \n",
       "\n",
       "[360000 rows x 10 columns]"
      ]
     },
     "execution_count": 25,
     "metadata": {},
     "output_type": "execute_result"
    }
   ],
   "source": [
    "# Handle missing values\n",
    "data.fillna(0, inplace=True)\n",
    "data_2.fillna(0, inplace=True)\n",
    "data_3.fillna(0, inplace=True)\n",
    "\n",
    "# Combine the datasets vertically\n",
    "combined_data = pd.concat([data,data_2, data_3], ignore_index=True)\n",
    "combined_data"
   ]
  },
  {
   "cell_type": "code",
   "execution_count": 26,
   "metadata": {
    "id": "bUo4LpLQZDjk"
   },
   "outputs": [
    {
     "data": {
      "text/plain": [
       "1    180000\n",
       "0    180000\n",
       "Name: label, dtype: int64"
      ]
     },
     "execution_count": 26,
     "metadata": {},
     "output_type": "execute_result"
    }
   ],
   "source": [
    "combined_data['label'].value_counts()"
   ]
  },
  {
   "cell_type": "code",
   "execution_count": 27,
   "metadata": {
    "id": "A9fPtaTYX_Iq"
   },
   "outputs": [
    {
     "data": {
      "text/plain": [
       "Index(['src_ip', 'src_port', 'dst_ip', 'dst_port', 'flow_duration',\n",
       "       'total_fwd_packets', 'total_bwd_packets', 'total_len_fwd_packets',\n",
       "       'total_len_bwd_packets', 'label'],\n",
       "      dtype='object')"
      ]
     },
     "execution_count": 27,
     "metadata": {},
     "output_type": "execute_result"
    }
   ],
   "source": [
    "combined_data.columns"
   ]
  },
  {
   "cell_type": "code",
   "execution_count": 28,
   "metadata": {
    "id": "_SMk4Y1kjcge"
   },
   "outputs": [
    {
     "name": "stdout",
     "output_type": "stream",
     "text": [
      "Encoders saved successfully!\n"
     ]
    },
    {
     "data": {
      "text/html": [
       "<div>\n",
       "<style scoped>\n",
       "    .dataframe tbody tr th:only-of-type {\n",
       "        vertical-align: middle;\n",
       "    }\n",
       "\n",
       "    .dataframe tbody tr th {\n",
       "        vertical-align: top;\n",
       "    }\n",
       "\n",
       "    .dataframe thead th {\n",
       "        text-align: right;\n",
       "    }\n",
       "</style>\n",
       "<table border=\"1\" class=\"dataframe\">\n",
       "  <thead>\n",
       "    <tr style=\"text-align: right;\">\n",
       "      <th></th>\n",
       "      <th>src_ip</th>\n",
       "      <th>src_port</th>\n",
       "      <th>dst_ip</th>\n",
       "      <th>dst_port</th>\n",
       "      <th>flow_duration</th>\n",
       "      <th>total_fwd_packets</th>\n",
       "      <th>total_bwd_packets</th>\n",
       "      <th>total_len_fwd_packets</th>\n",
       "      <th>total_len_bwd_packets</th>\n",
       "      <th>label</th>\n",
       "    </tr>\n",
       "  </thead>\n",
       "  <tbody>\n",
       "    <tr>\n",
       "      <th>0</th>\n",
       "      <td>192</td>\n",
       "      <td>410</td>\n",
       "      <td>560</td>\n",
       "      <td>48299</td>\n",
       "      <td>2.0</td>\n",
       "      <td>2</td>\n",
       "      <td>0</td>\n",
       "      <td>458.0</td>\n",
       "      <td>0.0</td>\n",
       "      <td>1</td>\n",
       "    </tr>\n",
       "    <tr>\n",
       "      <th>1</th>\n",
       "      <td>192</td>\n",
       "      <td>161</td>\n",
       "      <td>560</td>\n",
       "      <td>41040</td>\n",
       "      <td>1.0</td>\n",
       "      <td>2</td>\n",
       "      <td>0</td>\n",
       "      <td>494.0</td>\n",
       "      <td>0.0</td>\n",
       "      <td>1</td>\n",
       "    </tr>\n",
       "    <tr>\n",
       "      <th>2</th>\n",
       "      <td>192</td>\n",
       "      <td>155</td>\n",
       "      <td>560</td>\n",
       "      <td>56311</td>\n",
       "      <td>1.0</td>\n",
       "      <td>2</td>\n",
       "      <td>0</td>\n",
       "      <td>422.0</td>\n",
       "      <td>0.0</td>\n",
       "      <td>1</td>\n",
       "    </tr>\n",
       "    <tr>\n",
       "      <th>3</th>\n",
       "      <td>376</td>\n",
       "      <td>12845</td>\n",
       "      <td>1315</td>\n",
       "      <td>56945</td>\n",
       "      <td>68147.0</td>\n",
       "      <td>6</td>\n",
       "      <td>7</td>\n",
       "      <td>862.0</td>\n",
       "      <td>3715.0</td>\n",
       "      <td>0</td>\n",
       "    </tr>\n",
       "    <tr>\n",
       "      <th>4</th>\n",
       "      <td>459</td>\n",
       "      <td>14</td>\n",
       "      <td>563</td>\n",
       "      <td>49732</td>\n",
       "      <td>172.0</td>\n",
       "      <td>1</td>\n",
       "      <td>2</td>\n",
       "      <td>6.0</td>\n",
       "      <td>12.0</td>\n",
       "      <td>0</td>\n",
       "    </tr>\n",
       "  </tbody>\n",
       "</table>\n",
       "</div>"
      ],
      "text/plain": [
       "   src_ip  src_port  dst_ip  dst_port  flow_duration  total_fwd_packets  \\\n",
       "0     192       410     560     48299            2.0                  2   \n",
       "1     192       161     560     41040            1.0                  2   \n",
       "2     192       155     560     56311            1.0                  2   \n",
       "3     376     12845    1315     56945        68147.0                  6   \n",
       "4     459        14     563     49732          172.0                  1   \n",
       "\n",
       "   total_bwd_packets  total_len_fwd_packets  total_len_bwd_packets  label  \n",
       "0                  0                  458.0                    0.0      1  \n",
       "1                  0                  494.0                    0.0      1  \n",
       "2                  0                  422.0                    0.0      1  \n",
       "3                  7                  862.0                 3715.0      0  \n",
       "4                  2                    6.0                   12.0      0  "
      ]
     },
     "execution_count": 28,
     "metadata": {},
     "output_type": "execute_result"
    }
   ],
   "source": [
    "import pandas as pd\n",
    "from sklearn.preprocessing import LabelEncoder\n",
    "import pickle\n",
    "\n",
    "# Create separate LabelEncoders for each categorical feature\n",
    "encoder_src_ip = LabelEncoder()\n",
    "encoder_dst_ip = LabelEncoder()\n",
    "encoder_src_port = LabelEncoder()\n",
    "encoder_dst_port = LabelEncoder()\n",
    "\n",
    "encoder_label = LabelEncoder()\n",
    "\n",
    "# Fit and transform the categorical features\n",
    "combined_data['src_ip'] = encoder_src_ip.fit_transform(combined_data['src_ip'])\n",
    "combined_data['dst_ip'] = encoder_dst_ip.fit_transform(combined_data['dst_ip'])\n",
    "combined_data['src_port'] = encoder_src_port.fit_transform(combined_data['src_port'])\n",
    "combined_data['dst_port'] = encoder_dst_port.fit_transform(combined_data['dst_port'].astype(str))\n",
    "\n",
    "combined_data['label'] = encoder_label.fit_transform(combined_data['label'])\n",
    "\n",
    "# Save the encoders\n",
    "with open('encoder_src_ip.pkl', 'wb') as f:\n",
    "    pickle.dump(encoder_src_ip, f)\n",
    "\n",
    "with open('encoder_dst_ip.pkl', 'wb') as f:\n",
    "    pickle.dump(encoder_dst_ip, f)\n",
    "# Save the encoders\n",
    "with open('encoder_src_port.pkl', 'wb') as f:\n",
    "    pickle.dump(encoder_src_port, f)\n",
    "\n",
    "with open('encoder_dst_port.pkl', 'wb') as f:\n",
    "    pickle.dump(encoder_dst_port, f)\n",
    "\n",
    "with open('encoder_label.pkl', 'wb') as f:\n",
    "    pickle.dump(encoder_label, f)\n",
    "\n",
    "print(\"Encoders saved successfully!\")\n",
    "combined_data.head()"
   ]
  },
  {
   "cell_type": "code",
   "execution_count": 29,
   "metadata": {
    "id": "s26T5AoCs-FD"
   },
   "outputs": [
    {
     "name": "stdout",
     "output_type": "stream",
     "text": [
      "<class 'pandas.core.frame.DataFrame'>\n",
      "RangeIndex: 360000 entries, 0 to 359999\n",
      "Data columns (total 10 columns):\n",
      " #   Column                 Non-Null Count   Dtype  \n",
      "---  ------                 --------------   -----  \n",
      " 0   src_ip                 360000 non-null  int64  \n",
      " 1   src_port               360000 non-null  int64  \n",
      " 2   dst_ip                 360000 non-null  int64  \n",
      " 3   dst_port               360000 non-null  int64  \n",
      " 4   flow_duration          360000 non-null  float64\n",
      " 5   total_fwd_packets      360000 non-null  int64  \n",
      " 6   total_bwd_packets      360000 non-null  int64  \n",
      " 7   total_len_fwd_packets  360000 non-null  float64\n",
      " 8   total_len_bwd_packets  360000 non-null  float64\n",
      " 9   label                  360000 non-null  int64  \n",
      "dtypes: float64(3), int64(7)\n",
      "memory usage: 27.5 MB\n"
     ]
    }
   ],
   "source": [
    "combined_data.info()"
   ]
  },
  {
   "cell_type": "code",
   "execution_count": 30,
   "metadata": {
    "id": "DKXfXqVKm83F"
   },
   "outputs": [
    {
     "data": {
      "text/plain": [
       "1    180000\n",
       "0    180000\n",
       "Name: label, dtype: int64"
      ]
     },
     "execution_count": 30,
     "metadata": {},
     "output_type": "execute_result"
    }
   ],
   "source": [
    "combined_data['label'].value_counts()"
   ]
  },
  {
   "cell_type": "code",
   "execution_count": 31,
   "metadata": {
    "id": "hly-X2lxty9k"
   },
   "outputs": [],
   "source": [
    "# Split the data into train and test sets\n",
    "\n",
    "X = combined_data.drop('label', axis=1)\n",
    "y = combined_data['label']\n",
    "\n",
    "X_train, X_test, y_train, y_test = train_test_split(X, y, test_size=0.2,stratify = y, random_state=42)"
   ]
  },
  {
   "cell_type": "code",
   "execution_count": 32,
   "metadata": {
    "id": "khLWdYqZ78lu"
   },
   "outputs": [
    {
     "data": {
      "text/plain": [
       "Index(['src_ip', 'src_port', 'dst_ip', 'dst_port', 'flow_duration',\n",
       "       'total_fwd_packets', 'total_bwd_packets', 'total_len_fwd_packets',\n",
       "       'total_len_bwd_packets'],\n",
       "      dtype='object')"
      ]
     },
     "execution_count": 32,
     "metadata": {},
     "output_type": "execute_result"
    }
   ],
   "source": [
    "X_train.columns"
   ]
  },
  {
   "cell_type": "code",
   "execution_count": 33,
   "metadata": {
    "id": "X9Ssmjv1t5_E"
   },
   "outputs": [
    {
     "data": {
      "text/plain": [
       "0"
      ]
     },
     "execution_count": 33,
     "metadata": {},
     "output_type": "execute_result"
    }
   ],
   "source": [
    "X_train.isnull().sum().sum()"
   ]
  },
  {
   "cell_type": "code",
   "execution_count": 34,
   "metadata": {
    "id": "7DarY50-t9TA"
   },
   "outputs": [],
   "source": [
    "import numpy as np\n",
    "\n",
    "# Function to check for data issues\n",
    "def check_data_issues(data):\n",
    "    if data.isnull().values.any():\n",
    "        print(\"There are NaN values in the dataset.\")\n",
    "    else:\n",
    "        print(\"No NaN values found in the dataset.\")\n",
    "\n",
    "    if np.isinf(data).values.any():\n",
    "        print(\"There are infinite values in the dataset.\")\n",
    "    else:\n",
    "        print(\"No infinite values found in the dataset.\")\n",
    "\n",
    "    max_value = data.max().max()\n",
    "    if max_value > np.finfo(np.float64).max:\n",
    "        print(f\"There are values too large for dtype('float64') in the dataset. Max value: {max_value}\")\n",
    "    else:\n",
    "        print(\"No values too large for dtype('float64') found in the dataset.\")\n",
    "\n",
    "    min_value = data.min().min()\n",
    "    if min_value < np.finfo(np.float64).min:\n",
    "        print(f\"There are values too small for dtype('float64') in the dataset. Min value: {min_value}\")\n",
    "    else:\n",
    "        print(\"No values too small for dtype('float64') found in the dataset.\")"
   ]
  },
  {
   "cell_type": "code",
   "execution_count": 35,
   "metadata": {
    "id": "siqmSmeV615R"
   },
   "outputs": [],
   "source": [
    "# Separate numeric and categorical columns\n",
    "numeric_columns = X_train.select_dtypes(include=[np.number]).columns\n",
    "categorical_columns = X_train.select_dtypes(exclude=[np.number]).columns"
   ]
  },
  {
   "cell_type": "code",
   "execution_count": 36,
   "metadata": {
    "id": "WvnfqNTI63x0"
   },
   "outputs": [
    {
     "data": {
      "text/plain": [
       "(Index(['src_ip', 'src_port', 'dst_ip', 'dst_port', 'flow_duration',\n",
       "        'total_fwd_packets', 'total_bwd_packets', 'total_len_fwd_packets',\n",
       "        'total_len_bwd_packets'],\n",
       "       dtype='object'),\n",
       " Index([], dtype='object'))"
      ]
     },
     "execution_count": 36,
     "metadata": {},
     "output_type": "execute_result"
    }
   ],
   "source": [
    "# Separate numeric and categorical columns\n",
    "numeric_columns,categorical_columns"
   ]
  },
  {
   "cell_type": "code",
   "execution_count": 37,
   "metadata": {
    "id": "VXKEKw8guSJj"
   },
   "outputs": [],
   "source": [
    "# Replace infinity values with NaN\n",
    "X_train.replace([np.inf, -np.inf], np.nan, inplace=True)\n",
    "X_test.replace([np.inf, -np.inf], np.nan, inplace=True)\n",
    "\n",
    "# Impute NaN values with the mean of the corresponding column\n",
    "from sklearn.impute import SimpleImputer\n",
    "\n",
    "imputer = SimpleImputer(missing_values=np.nan, strategy='mean')\n",
    "X_train = imputer.fit_transform(X_train)\n",
    "X_test = imputer.transform(X_test)\n",
    "\n",
    "# Now, standardize the data\n",
    "scaler = StandardScaler()\n",
    "X_train = scaler.fit_transform(X_train)\n",
    "X_test = scaler.transform(X_test)"
   ]
  },
  {
   "cell_type": "code",
   "execution_count": 38,
   "metadata": {
    "id": "PfnrV4BCt9nH"
   },
   "outputs": [
    {
     "name": "stdout",
     "output_type": "stream",
     "text": [
      "Checking X_train:\n",
      "No NaN values found in the dataset.\n",
      "No infinite values found in the dataset.\n",
      "No values too large for dtype('float64') found in the dataset.\n",
      "No values too small for dtype('float64') found in the dataset.\n",
      "\n",
      "Checking X_test:\n",
      "No NaN values found in the dataset.\n",
      "No infinite values found in the dataset.\n",
      "No values too large for dtype('float64') found in the dataset.\n",
      "No values too small for dtype('float64') found in the dataset.\n"
     ]
    }
   ],
   "source": [
    "X_train = pd.DataFrame(X_train, columns=X.columns)\n",
    "X_test = pd.DataFrame(X_test, columns=X.columns)\n",
    "\n",
    "\n",
    "# Check the training and testing datasets for issues\n",
    "print(\"Checking X_train:\")\n",
    "check_data_issues(X_train)\n",
    "print(\"\\nChecking X_test:\")\n",
    "check_data_issues(X_test)"
   ]
  },
  {
   "cell_type": "code",
   "execution_count": 39,
   "metadata": {
    "id": "rW2E-Hyy6RhG"
   },
   "outputs": [
    {
     "data": {
      "text/plain": [
       "Index(['src_ip', 'src_port', 'dst_ip', 'dst_port', 'flow_duration',\n",
       "       'total_fwd_packets', 'total_bwd_packets', 'total_len_fwd_packets',\n",
       "       'total_len_bwd_packets'],\n",
       "      dtype='object')"
      ]
     },
     "execution_count": 39,
     "metadata": {},
     "output_type": "execute_result"
    }
   ],
   "source": [
    "X_train.columns\n",
    "column_names =X_train.columns\n",
    "column_names"
   ]
  },
  {
   "cell_type": "code",
   "execution_count": 40,
   "metadata": {
    "id": "zlpIcXMOvUX6"
   },
   "outputs": [
    {
     "data": {
      "text/plain": [
       "(288000, 9)"
      ]
     },
     "execution_count": 40,
     "metadata": {},
     "output_type": "execute_result"
    }
   ],
   "source": [
    "X_train.shape"
   ]
  },
  {
   "cell_type": "code",
   "execution_count": 41,
   "metadata": {
    "id": "XTWVrQXmgA2r"
   },
   "outputs": [
    {
     "name": "stdout",
     "output_type": "stream",
     "text": [
      "X shape (288000, 9)\n",
      "Logistic Regression:\n",
      "Accuracy: 0.9666527777777778\n",
      "F1 score: 0.9666357408375786\n",
      "              precision    recall  f1-score   support\n",
      "\n",
      "           0       0.99      0.94      0.97     36000\n",
      "           1       0.95      0.99      0.97     36000\n",
      "\n",
      "    accuracy                           0.97     72000\n",
      "   macro avg       0.97      0.97      0.97     72000\n",
      "weighted avg       0.97      0.97      0.97     72000\n",
      "\n",
      "Model saved as: Logistic Regression_model.joblib\n",
      "\n",
      "\n",
      "Random Forest:\n",
      "Accuracy: 0.9999861111111111\n",
      "F1 score: 0.9999861111111085\n",
      "              precision    recall  f1-score   support\n",
      "\n",
      "           0       1.00      1.00      1.00     36000\n",
      "           1       1.00      1.00      1.00     36000\n",
      "\n",
      "    accuracy                           1.00     72000\n",
      "   macro avg       1.00      1.00      1.00     72000\n",
      "weighted avg       1.00      1.00      1.00     72000\n",
      "\n",
      "Model saved as: Random Forest_model.joblib\n",
      "\n",
      "\n",
      "Support Vector Machine:\n",
      "Accuracy: 0.9897638888888889\n",
      "F1 score: 0.9897631803662961\n",
      "              precision    recall  f1-score   support\n",
      "\n",
      "           0       1.00      0.98      0.99     36000\n",
      "           1       0.98      1.00      0.99     36000\n",
      "\n",
      "    accuracy                           0.99     72000\n",
      "   macro avg       0.99      0.99      0.99     72000\n",
      "weighted avg       0.99      0.99      0.99     72000\n",
      "\n",
      "Model saved as: Support Vector Machine_model.joblib\n",
      "\n",
      "\n"
     ]
    },
    {
     "data": {
      "text/html": [
       "<div>\n",
       "<style scoped>\n",
       "    .dataframe tbody tr th:only-of-type {\n",
       "        vertical-align: middle;\n",
       "    }\n",
       "\n",
       "    .dataframe tbody tr th {\n",
       "        vertical-align: top;\n",
       "    }\n",
       "\n",
       "    .dataframe thead th {\n",
       "        text-align: right;\n",
       "    }\n",
       "</style>\n",
       "<table border=\"1\" class=\"dataframe\">\n",
       "  <thead>\n",
       "    <tr style=\"text-align: right;\">\n",
       "      <th></th>\n",
       "      <th>Model</th>\n",
       "      <th>Accuracy</th>\n",
       "      <th>F1 Score</th>\n",
       "    </tr>\n",
       "  </thead>\n",
       "  <tbody>\n",
       "    <tr>\n",
       "      <th>0</th>\n",
       "      <td>Logistic Regression</td>\n",
       "      <td>0.966653</td>\n",
       "      <td>0.966636</td>\n",
       "    </tr>\n",
       "    <tr>\n",
       "      <th>1</th>\n",
       "      <td>Random Forest</td>\n",
       "      <td>0.999986</td>\n",
       "      <td>0.999986</td>\n",
       "    </tr>\n",
       "    <tr>\n",
       "      <th>2</th>\n",
       "      <td>Support Vector Machine</td>\n",
       "      <td>0.989764</td>\n",
       "      <td>0.989763</td>\n",
       "    </tr>\n",
       "  </tbody>\n",
       "</table>\n",
       "</div>"
      ],
      "text/plain": [
       "                    Model  Accuracy  F1 Score\n",
       "0     Logistic Regression  0.966653  0.966636\n",
       "1           Random Forest  0.999986  0.999986\n",
       "2  Support Vector Machine  0.989764  0.989763"
      ]
     },
     "metadata": {},
     "output_type": "display_data"
    }
   ],
   "source": [
    "import pandas as pd\n",
    "from sklearn.metrics import accuracy_score, f1_score, classification_report\n",
    "from sklearn.linear_model import LogisticRegression\n",
    "from sklearn.ensemble import RandomForestClassifier\n",
    "from sklearn.svm import SVC\n",
    "from joblib import dump\n",
    "\n",
    "# Create an empty DataFrame with the desired columns\n",
    "model_comparison = pd.DataFrame(columns=[\"Model\", \"Accuracy\", \"F1 Score\"])\n",
    "saved_models = {}  # Dictionary to store saved models\n",
    "\n",
    "\n",
    "# Train and evaluate machine learning models\n",
    "models = {\n",
    "    \"Logistic Regression\": LogisticRegression(max_iter=1000),\n",
    "    \"Random Forest\": RandomForestClassifier(),\n",
    "    \"Support Vector Machine\": SVC()\n",
    "}\n",
    "print(\"X shape\",X_train.shape)\n",
    "for name, model in models.items():\n",
    "    model.fit(X_train, y_train)\n",
    "    y_pred = model.predict(X_test)\n",
    "\n",
    "    # Calculate metrics\n",
    "    accuracy = accuracy_score(y_test, y_pred)\n",
    "    f1 = f1_score(y_test, y_pred, average='weighted')\n",
    "\n",
    "    # Append the metrics to the DataFrame\n",
    "    model_comparison = model_comparison._append({\"Model\": name, \"Accuracy\": accuracy, \"F1 Score\": f1}, ignore_index=True)\n",
    "\n",
    "    # Save the trained model weight\n",
    "    filename = f\"{name}_model.joblib\"\n",
    "    dump(model, filename)\n",
    "    saved_models[name] = filename  # Store the filename for later use in the tested DataSets\n",
    "\n",
    "    print(f\"{name}:\")\n",
    "    print(f\"Accuracy: {accuracy}\")\n",
    "    print(f\"F1 score: {f1}\")\n",
    "    print(classification_report(y_test, y_pred))\n",
    "    print(f\"Model saved as: {filename}\")\n",
    "    print(\"\\n\")\n",
    "\n",
    "display(model_comparison)"
   ]
  },
  {
   "cell_type": "code",
   "execution_count": 42,
   "metadata": {
    "id": "Wtvq0IxFsRSJ",
    "tags": []
   },
   "outputs": [
    {
     "name": "stderr",
     "output_type": "stream",
     "text": [
      "Matplotlib is building the font cache; this may take a moment.\n"
     ]
    },
    {
     "name": "stdout",
     "output_type": "stream",
     "text": [
      "Logistic Regression:\n",
      "Accuracy: 0.9666527777777778\n",
      "F1 score: 0.9666357408375786\n",
      "Classification Report:\n",
      "              precision    recall  f1-score   support\n",
      "\n",
      "           0       0.99      0.94      0.97     36000\n",
      "           1       0.95      0.99      0.97     36000\n",
      "\n",
      "    accuracy                           0.97     72000\n",
      "   macro avg       0.97      0.97      0.97     72000\n",
      "weighted avg       0.97      0.97      0.97     72000\n",
      "\n",
      "\n",
      "\n",
      "Random Forest:\n",
      "Accuracy: 0.9999861111111111\n",
      "F1 score: 0.9999861111111085\n",
      "Classification Report:\n",
      "              precision    recall  f1-score   support\n",
      "\n",
      "           0       1.00      1.00      1.00     36000\n",
      "           1       1.00      1.00      1.00     36000\n",
      "\n",
      "    accuracy                           1.00     72000\n",
      "   macro avg       1.00      1.00      1.00     72000\n",
      "weighted avg       1.00      1.00      1.00     72000\n",
      "\n",
      "\n",
      "\n",
      "Support Vector Machine:\n",
      "Accuracy: 0.9897638888888889\n",
      "F1 score: 0.9897631803662961\n",
      "Classification Report:\n",
      "              precision    recall  f1-score   support\n",
      "\n",
      "           0       1.00      0.98      0.99     36000\n",
      "           1       0.98      1.00      0.99     36000\n",
      "\n",
      "    accuracy                           0.99     72000\n",
      "   macro avg       0.99      0.99      0.99     72000\n",
      "weighted avg       0.99      0.99      0.99     72000\n",
      "\n",
      "\n",
      "\n"
     ]
    },
    {
     "data": {
      "image/png": "[encoded data removed]",
      "text/plain": [
       "<Figure size 800x400 with 1 Axes>"
      ]
     },
     "metadata": {},
     "output_type": "display_data"
    },
    {
     "data": {
      "image/png": "[encoded data removed]",
      "text/plain": [
       "<Figure size 600x300 with 1 Axes>"
      ]
     },
     "metadata": {},
     "output_type": "display_data"
    },
    {
     "name": "stdout",
     "output_type": "stream",
     "text": [
      "Model Comparison:\n",
      "                    Model  Accuracy  F1 Score\n",
      "0     Logistic Regression  0.966653  0.966636\n",
      "1           Random Forest  0.999986  0.999986\n",
      "2  Support Vector Machine  0.989764  0.989763\n"
     ]
    },
    {
     "data": {
      "image/png": "[encoded data removed]",
      "text/plain": [
       "<Figure size 600x300 with 2 Axes>"
      ]
     },
     "metadata": {},
     "output_type": "display_data"
    },
    {
     "data": {
      "image/png": "[encoded data removed]",
      "text/plain": [
       "<Figure size 600x300 with 2 Axes>"
      ]
     },
     "metadata": {},
     "output_type": "display_data"
    },
    {
     "data": {
      "image/png": "[encoded data removed]",
      "text/plain": [
       "<Figure size 600x300 with 2 Axes>"
      ]
     },
     "metadata": {},
     "output_type": "display_data"
    }
   ],
   "source": [
    "import pandas as pd\n",
    "import matplotlib.pyplot as plt\n",
    "import seaborn as sns\n",
    "from sklearn.metrics import accuracy_score, f1_score, classification_report, confusion_matrix\n",
    "\n",
    "# Initialize the DataFrame to store model comparison\n",
    "model_comparison = pd.DataFrame(columns=[\"Model\", \"Accuracy\", \"F1 Score\"])\n",
    "\n",
    "# Initialize dictionary to store confusion matrices\n",
    "confusion_matrices = {}\n",
    "\n",
    "# Initialize lists to store accuracy and F1 score for each model\n",
    "accuracy_scores = []\n",
    "f1_scores = []\n",
    "\n",
    "# Iterate over each loaded model\n",
    "for name, model in models.items():\n",
    "    # Make predictions on test data\n",
    "    y_pred = model.predict(X_test)\n",
    "\n",
    "    # Calculate evaluation metrics\n",
    "    accuracy = accuracy_score(y_test, y_pred)\n",
    "    f1 = f1_score(y_test, y_pred, average='weighted')\n",
    "\n",
    "    # Calculate confusion matrix\n",
    "    cm = confusion_matrix(y_test, y_pred)\n",
    "    confusion_matrices[name] = cm\n",
    "\n",
    "    # Append results to model comparison DataFrame\n",
    "    model_comparison = model_comparison._append({\"Model\": name, \"Accuracy\": accuracy, \"F1 Score\": f1}, ignore_index=True)\n",
    "\n",
    "    # Append accuracy and F1 score to lists\n",
    "    accuracy_scores.append(accuracy)\n",
    "    f1_scores.append(f1)\n",
    "\n",
    "    # Print model evaluation metrics and confusion matrix\n",
    "    print(f\"{name}:\")\n",
    "    print(f\"Accuracy: {accuracy}\")\n",
    "    print(f\"F1 score: {f1}\")\n",
    "    print(\"Classification Report:\")\n",
    "    print(classification_report(y_test, y_pred))\n",
    "    print(\"\\n\")\n",
    "\n",
    "# Plotting accuracy scores\n",
    "plt.figure(figsize=(8, 4))\n",
    "plt.bar(model_comparison['Model'], accuracy_scores, color='skyblue')\n",
    "plt.title('Accuracy Comparison')\n",
    "plt.xlabel('Model')\n",
    "plt.ylabel('Accuracy')\n",
    "plt.xticks(rotation=45)\n",
    "plt.show()\n",
    "\n",
    "# Plotting F1 scores\n",
    "plt.figure(figsize=(6, 3))\n",
    "plt.bar(model_comparison['Model'], f1_scores, color='orange')\n",
    "plt.title('F1 Score Comparison')\n",
    "plt.xlabel('Model')\n",
    "plt.ylabel('F1 Score')\n",
    "plt.xticks(rotation=45)\n",
    "plt.show()\n",
    "\n",
    "# Displaying the model comparison DataFrame\n",
    "print(\"Model Comparison:\")\n",
    "print(model_comparison)\n",
    "\n",
    "# Plot confusion matrices for each model using Seaborn\n",
    "for name, cm in confusion_matrices.items():\n",
    "    plt.figure(figsize=(6, 3))\n",
    "    sns.heatmap(cm, annot=True, fmt='d', cmap='Blues', xticklabels=True, yticklabels=True)\n",
    "    plt.title(f\"Confusion Matrix for {name}\")\n",
    "    plt.xlabel(\"Predicted Labels\")\n",
    "    plt.ylabel(\"True Labels\")\n",
    "    plt.show()"
   ]
  },
  {
   "cell_type": "markdown",
   "metadata": {
    "id": "gZP--5ZNSlLw",
    "tags": []
   },
   "source": [
    "# Loading Saved model weights"
   ]
  },
  {
   "cell_type": "code",
   "execution_count": 43,
   "metadata": {
    "id": "5FryA8a9igzO"
   },
   "outputs": [],
   "source": [
    "#Load the saved model\n",
    "from joblib import load\n",
    "\n",
    "# Load each model individually\n",
    "# Give path of each model here\n",
    "logistic_regression_model = load(\"Logistic Regression_model.joblib\")\n",
    "random_forest_model = load(\"Random Forest_model.joblib\")\n",
    "svm_model = load(\"Support Vector Machine_model.joblib\")\n",
    "\n",
    "# Store the loaded models in a dictionary\n",
    "loaded_models = {\n",
    "    \"Logistic Regression\": logistic_regression_model,\n",
    "    \"Random Forest\": random_forest_model,\n",
    "    \"Support Vector Machine\": svm_model\n",
    "}"
   ]
  },
  {
   "cell_type": "code",
   "execution_count": 44,
   "metadata": {
    "colab": {
     "base_uri": "https://localhost:8080/"
    },
    "id": "ZrKkHH-11HZK",
    "outputId": "e2c7bf3f-f6e1-48e3-c265-5cfb61d6a11f"
   },
   "outputs": [
    {
     "data": {
      "text/plain": [
       "dict_items([('Logistic Regression', LogisticRegression(max_iter=1000)), ('Random Forest', RandomForestClassifier()), ('Support Vector Machine', SVC())])"
      ]
     },
     "execution_count": 44,
     "metadata": {},
     "output_type": "execute_result"
    }
   ],
   "source": [
    "loaded_models.items()"
   ]
  },
  {
   "cell_type": "code",
   "execution_count": 45,
   "metadata": {
    "colab": {
     "base_uri": "https://localhost:8080/",
     "height": 211
    },
    "id": "yn6NKiPgkjol",
    "outputId": "13dd7107-e312-4cef-c1a1-d07a92335b58"
   },
   "outputs": [
    {
     "name": "stdout",
     "output_type": "stream",
     "text": [
      "Encoders loaded successfully!\n"
     ]
    }
   ],
   "source": [
    "# Load the encoders\n",
    "with open('encoder_src_ip.pkl', 'rb') as f:\n",
    "    loaded_encoder_src_ip = pickle.load(f)\n",
    "\n",
    "with open('encoder_dst_ip.pkl', 'rb') as f:\n",
    "    loaded_encoder_dst_ip = pickle.load(f)\n",
    "\n",
    "with open('encoder_label.pkl', 'rb') as f:\n",
    "    loaded_encoder_label = pickle.load(f)\n",
    "\n",
    "print(\"Encoders loaded successfully!\")"
   ]
  },
  {
   "cell_type": "markdown",
   "metadata": {
    "id": "nitxogSZ1yzg"
   },
   "source": [
    "##Preprocessing For Testing DATA Change Title"
   ]
  },
  {
   "cell_type": "code",
   "execution_count": 46,
   "metadata": {
    "colab": {
     "base_uri": "https://localhost:8080/",
     "height": 159
    },
    "id": "tGNzsOc3ujsD",
    "outputId": "0b7bcfd3-0bfe-4f48-d9da-0fa1c89861e0"
   },
   "outputs": [
    {
     "data": {
      "text/plain": [
       "Index(['src_ip', 'src_port', 'dst_ip', 'dst_port', 'flow_duration',\n",
       "       'total_fwd_packets', 'total_bwd_packets', 'total_len_fwd_packets',\n",
       "       'total_len_bwd_packets'],\n",
       "      dtype='object')"
      ]
     },
     "execution_count": 46,
     "metadata": {},
     "output_type": "execute_result"
    }
   ],
   "source": [
    "feature_columns = X_train.columns\n",
    "feature_columns"
   ]
  },
  {
   "cell_type": "code",
   "execution_count": 47,
   "metadata": {
    "id": "ENgTyePU2MDI"
   },
   "outputs": [],
   "source": [
    "column_mapping = {'Flow ID': 'Flow ID',\n",
    " 'Src IP': ' Source IP',\n",
    " 'Src Port': ' Source Port',\n",
    " 'Dst IP': ' Destination IP',\n",
    " 'Dst Port': ' Destination Port',\n",
    " 'Protocol': ' Protocol',\n",
    " 'Timestamp': ' Timestamp',\n",
    " 'Flow Duration': ' Flow Duration',\n",
    " 'Tot Fwd Pkts': ' Total Fwd Packets',\n",
    " 'Tot Bwd Pkts': ' Total Backward Packets',\n",
    " 'TotLen Fwd Pkts': 'Total Length of Fwd Packets',\n",
    " 'TotLen Bwd Pkts': ' Total Length of Bwd Packets',\n",
    " 'Fwd Pkt Len Max': ' Fwd Packet Length Max',\n",
    " 'Fwd Pkt Len Min': ' Fwd Packet Length Min',\n",
    " 'Fwd Pkt Len Mean': ' Fwd Packet Length Mean',\n",
    " 'Fwd Pkt Len Std': ' Fwd Packet Length Std',\n",
    " 'Bwd Pkt Len Max': 'Bwd Packet Length Max',\n",
    " 'Bwd Pkt Len Min': ' Bwd Packet Length Min',\n",
    " 'Bwd Pkt Len Mean': ' Bwd Packet Length Mean',\n",
    " 'Bwd Pkt Len Std': ' Bwd Packet Length Std',\n",
    " 'Flow Byts/s': 'Flow Bytes/s',\n",
    " 'Flow Pkts/s': ' Flow Packets/s',\n",
    " 'Flow IAT Mean': ' Flow IAT Mean',\n",
    " 'Flow IAT Std': ' Flow IAT Std',\n",
    " 'Flow IAT Max': ' Flow IAT Max',\n",
    " 'Flow IAT Min': ' Flow IAT Min',\n",
    " 'Fwd IAT Tot': 'Fwd IAT Total',\n",
    " 'Fwd IAT Mean': ' Fwd IAT Mean',\n",
    " 'Fwd IAT Std': ' Fwd IAT Std',\n",
    " 'Fwd IAT Max': ' Fwd IAT Max',\n",
    " 'Fwd IAT Min': ' Fwd IAT Min',\n",
    " 'Bwd IAT Tot': 'Bwd IAT Total',\n",
    " 'Bwd IAT Mean': ' Bwd IAT Mean',\n",
    " 'Bwd IAT Std': ' Bwd IAT Std',\n",
    " 'Bwd IAT Max': ' Bwd IAT Max',\n",
    " 'Bwd IAT Min': ' Bwd IAT Min',\n",
    " 'Fwd PSH Flags': 'Fwd PSH Flags',\n",
    " 'Bwd PSH Flags': ' Bwd PSH Flags',\n",
    " 'Fwd URG Flags': ' Fwd URG Flags',\n",
    " 'Bwd URG Flags': ' Bwd URG Flags',\n",
    " 'Fwd Header Len': ' Fwd Header Length',\n",
    " 'Bwd Header Len': ' Bwd Header Length',\n",
    " 'Fwd Pkts/s': 'Fwd Packets/s',\n",
    " 'Bwd Pkts/s': ' Bwd Packets/s',\n",
    " 'Pkt Len Min': ' Min Packet Length',\n",
    " 'Pkt Len Max': ' Max Packet Length',\n",
    " 'Pkt Len Mean': ' Packet Length Mean',\n",
    " 'Pkt Len Std': ' Packet Length Std',\n",
    " 'Pkt Len Var': ' Packet Length Variance',\n",
    " 'FIN Flag Cnt': 'FIN Flag Count',\n",
    " 'SYN Flag Cnt': ' SYN Flag Count',\n",
    " 'RST Flag Cnt': ' RST Flag Count',\n",
    " 'PSH Flag Cnt': ' PSH Flag Count',\n",
    " 'ACK Flag Cnt': ' ACK Flag Count',\n",
    " 'URG Flag Cnt': ' URG Flag Count',\n",
    " 'CWE Flag Count': ' CWE Flag Count',\n",
    " 'ECE Flag Cnt': ' ECE Flag Count',\n",
    " 'Down/Up Ratio': ' Down/Up Ratio',\n",
    " 'Pkt Size Avg': ' Average Packet Size',\n",
    " 'Fwd Seg Size Avg': ' Avg Fwd Segment Size',\n",
    " 'Bwd Seg Size Avg': ' Avg Bwd Segment Size',\n",
    " 'Fwd Byts/b Avg': 'Fwd Avg Bytes/Bulk',\n",
    " 'Fwd Pkts/b Avg': ' Fwd Avg Packets/Bulk',\n",
    " 'Fwd Blk Rate Avg': ' Fwd Avg Bulk Rate',\n",
    " 'Bwd Byts/b Avg': ' Bwd Avg Bytes/Bulk',\n",
    " 'Bwd Pkts/b Avg': ' Bwd Avg Packets/Bulk',\n",
    " 'Bwd Blk Rate Avg': 'Bwd Avg Bulk Rate',\n",
    " 'Subflow Fwd Pkts': 'Subflow Fwd Packets',\n",
    " 'Subflow Fwd Byts': ' Subflow Fwd Bytes',\n",
    " 'Subflow Bwd Pkts': ' Subflow Bwd Packets',\n",
    " 'Subflow Bwd Byts': ' Subflow Bwd Bytes',\n",
    " 'Init Fwd Win Byts': 'Init_Win_bytes_forward',\n",
    " 'Init Bwd Win Byts': ' Init_Win_bytes_backward',\n",
    " 'Fwd Act Data Pkts': ' act_data_pkt_fwd',\n",
    " 'Fwd Seg Size Min': ' min_seg_size_forward',\n",
    " 'Active Mean': 'Active Mean',\n",
    " 'Active Std': ' Active Std',\n",
    " 'Active Max': ' Active Max',\n",
    " 'Active Min': ' Active Min',\n",
    " 'Idle Mean': 'Idle Mean',\n",
    " 'Idle Std': ' Idle Std',\n",
    " 'Idle Max': ' Idle Max',\n",
    " 'Idle Min': ' Idle Min',\n",
    " 'Label': 'Label'}\n",
    "\n",
    " # Function to standardize column names\n",
    "def standardize_columns(df, column_mapping):\n",
    "    # df = df.rename(columns=column_mapping)\n",
    "    if ' Label' in df.columns:\n",
    "        df = df.rename(columns={' Label': 'Label'})\n",
    "    return df"
   ]
  },
  {
   "cell_type": "code",
   "execution_count": 48,
   "metadata": {
    "id": "S-qMOEq4Ed-J"
   },
   "outputs": [],
   "source": [
    "specific_columns = [' Source IP', ' Source Port',' Destination IP', ' Destination Port',\n",
    "       ' Flow Duration', ' Total Fwd Packets', ' Total Backward Packets',\n",
    "       'Total Length of Fwd Packets', ' Total Length of Bwd Packets','Label']\n",
    "\n",
    "# Standardize column names\n",
    "rename_dict = {\n",
    "    ' Source IP': 'src_ip', ' Source Port': 'src_port', ' Destination IP': 'dst_ip', ' Destination Port': 'dst_port',\n",
    "    ' Protocol': 'protocol', ' Flow Duration': 'flow_duration', ' Total Fwd Packets': 'total_fwd_packets',\n",
    "    ' Total Backward Packets': 'total_bwd_packets', 'Total Length of Fwd Packets': 'total_len_fwd_packets',\n",
    "    ' Total Length of Bwd Packets': 'total_len_bwd_packets', ' Label': 'label',\n",
    "\n",
    "    'srcip': 'src_ip', 'sport': 'src_port', 'dstip': 'dst_ip', 'dsport': 'dst_port',\n",
    "    'proto': 'protocol', 'dur': 'flow_duration', 'Spkts': 'total_fwd_packets', 'Dpkts': 'total_bwd_packets',\n",
    "    'sbytes': 'total_len_fwd_packets', 'dbytes': 'total_len_bwd_packets', 'Label': 'label'\n",
    "}"
   ]
  },
  {
   "cell_type": "markdown",
   "metadata": {
    "id": "-D7xkdrRRujD",
    "tags": []
   },
   "source": [
    "# Loading target dataset to test"
   ]
  },
  {
   "cell_type": "code",
   "execution_count": 49,
   "metadata": {
    "colab": {
     "base_uri": "https://localhost:8080/"
    },
    "id": "w8rGrRtwi0uM",
    "outputId": "9ccf315b-1cd0-46ee-f5c3-c3d4ec5e850f"
   },
   "outputs": [
    {
     "name": "stderr",
     "output_type": "stream",
     "text": [
      "/tmp/ipykernel_9291/3943615188.py:25: DtypeWarning: Columns (85) have mixed types. Specify dtype option on import or set low_memory=False.\n",
      "  new_data = pd.read_csv(url16)\n"
     ]
    }
   ],
   "source": [
    "import pandas as pd\n",
    "from sklearn.preprocessing import LabelEncoder\n",
    "from sklearn.impute import SimpleImputer\n",
    "from sklearn.preprocessing import StandardScaler\n",
    "\n",
    "# Load the new dataset we going to test the model on:\n",
    "url = \"https://ddosciu.s3.us-east-2.amazonaws.com/PCAPs/Test.csv\"\n",
    "#Test1\n",
    "url1 = \"https://ddosciu.s3.us-east-2.amazonaws.com/CSV's/HTTP_Ddos.pcap_Flow.csv\"\n",
    "url2 = \"https://ddosciu.s3.us-east-2.amazonaws.com/CSV's/amp.TCP.syn.optionallyACK.optionallysamePort.pcapng_Flow.csv\"\n",
    "url3 = \"https://ddosciu.s3.us-east-2.amazonaws.com/CSV's/amp.TCP.reflection.SYNACK.pcap_Flow.csv\"\n",
    "url4 = \"https://ddosciu.s3.us-east-2.amazonaws.com/CSV's/amp.UDP.bacnet.IOT.37810.pcapng_Flow.csv\"\n",
    "url5 = \"https://ddosciu.s3.us-east-2.amazonaws.com/CSV's/1.pcap_Flow.csv\"\n",
    "url6 =\"https://ddosciu.s3.us-east-2.amazonaws.com/CSV's/amp.dns.RRSIG.fragmented.pcap_Flow.csv\"\n",
    "url7 = \"https://ddosciu.s3.us-east-2.amazonaws.com/CSV's/amp.UDP.isakmp.pcap_Flow.csv\"\n",
    "url8 = \"https://ddosciu.s3.us-east-2.amazonaws.com/CSV's/pkt.ICMP.largeempty.pcap_Flow.csv\"\n",
    "url9 = \"https://ddosciu.s3.us-east-2.amazonaws.com/CSV's/pkt.TCP.DOMINATE.syn.ecn.cwr.pcapng_Flow.csv\"\n",
    "url10 = \"/content/NormalTraffic2.pcap_Flow.csv\"\n",
    "url11= \"https://ddosciu.s3.us-east-2.amazonaws.com/IC_Taraf.root.1.pcap_Flow.csv\"\n",
    "url12 = \"/content/drive/MyDrive/online_tasks/Portmap.csv\"\n",
    "url13 = \"https://ddosciu.s3.us-east-2.amazonaws.com/CSV's/Train.csv\"\n",
    "url14 = \"/content/drive/MyDrive/online_tasks/UNSW-NB15_4.csv\"\n",
    "url15 = \"/content/drive/MyDrive/online_tasks/Friday-WorkingHours-Afternoon-DDos.pcap_ISCX.csv\"\n",
    "url16 = \"https://ddosciu.s3.us-east-2.amazonaws.com/Portmap.csv\"\n",
    "new_data = pd.read_csv(url16)\n",
    "\n",
    "# Apply the column mapping to the testing data\n",
    "new_data = standardize_columns(new_data, column_mapping)\n",
    "\n",
    "new_data = new_data.rename(columns=column_mapping)"
   ]
  },
  {
   "cell_type": "code",
   "execution_count": 50,
   "metadata": {
    "colab": {
     "base_uri": "https://localhost:8080/",
     "height": 141
    },
    "id": "T6TR_h2Zp-4I",
    "outputId": "583cb591-6453-46b5-af85-bdec3d8e1e57"
   },
   "outputs": [
    {
     "data": {
      "text/html": [
       "<div>\n",
       "<style scoped>\n",
       "    .dataframe tbody tr th:only-of-type {\n",
       "        vertical-align: middle;\n",
       "    }\n",
       "\n",
       "    .dataframe tbody tr th {\n",
       "        vertical-align: top;\n",
       "    }\n",
       "\n",
       "    .dataframe thead th {\n",
       "        text-align: right;\n",
       "    }\n",
       "</style>\n",
       "<table border=\"1\" class=\"dataframe\">\n",
       "  <thead>\n",
       "    <tr style=\"text-align: right;\">\n",
       "      <th></th>\n",
       "      <th>Unnamed: 0</th>\n",
       "      <th>Flow ID</th>\n",
       "      <th>Source IP</th>\n",
       "      <th>Source Port</th>\n",
       "      <th>Destination IP</th>\n",
       "      <th>Destination Port</th>\n",
       "      <th>Protocol</th>\n",
       "      <th>Timestamp</th>\n",
       "      <th>Flow Duration</th>\n",
       "      <th>Total Fwd Packets</th>\n",
       "      <th>...</th>\n",
       "      <th>Active Std</th>\n",
       "      <th>Active Max</th>\n",
       "      <th>Active Min</th>\n",
       "      <th>Idle Mean</th>\n",
       "      <th>Idle Std</th>\n",
       "      <th>Idle Max</th>\n",
       "      <th>Idle Min</th>\n",
       "      <th>SimillarHTTP</th>\n",
       "      <th>Inbound</th>\n",
       "      <th>Label</th>\n",
       "    </tr>\n",
       "  </thead>\n",
       "  <tbody>\n",
       "    <tr>\n",
       "      <th>0</th>\n",
       "      <td>24</td>\n",
       "      <td>192.168.50.254-224.0.0.5-0-0-0</td>\n",
       "      <td>192.168.50.254</td>\n",
       "      <td>0</td>\n",
       "      <td>224.0.0.5</td>\n",
       "      <td>0</td>\n",
       "      <td>0</td>\n",
       "      <td>2018-11-03 09:18:16.964447</td>\n",
       "      <td>114456999</td>\n",
       "      <td>45</td>\n",
       "      <td>...</td>\n",
       "      <td>28337.112288</td>\n",
       "      <td>98168.0</td>\n",
       "      <td>3.0</td>\n",
       "      <td>9529897.25</td>\n",
       "      <td>351582.631269</td>\n",
       "      <td>10001143.0</td>\n",
       "      <td>9048097.0</td>\n",
       "      <td>0</td>\n",
       "      <td>0</td>\n",
       "      <td>BENIGN</td>\n",
       "    </tr>\n",
       "    <tr>\n",
       "      <th>1</th>\n",
       "      <td>26</td>\n",
       "      <td>192.168.50.253-224.0.0.5-0-0-0</td>\n",
       "      <td>192.168.50.253</td>\n",
       "      <td>0</td>\n",
       "      <td>224.0.0.5</td>\n",
       "      <td>0</td>\n",
       "      <td>0</td>\n",
       "      <td>2018-11-03 09:18:18.506537</td>\n",
       "      <td>114347504</td>\n",
       "      <td>56</td>\n",
       "      <td>...</td>\n",
       "      <td>121314.911865</td>\n",
       "      <td>420255.0</td>\n",
       "      <td>4.0</td>\n",
       "      <td>9493929.75</td>\n",
       "      <td>351541.079539</td>\n",
       "      <td>9978130.0</td>\n",
       "      <td>8820294.0</td>\n",
       "      <td>0</td>\n",
       "      <td>0</td>\n",
       "      <td>BENIGN</td>\n",
       "    </tr>\n",
       "    <tr>\n",
       "      <th>2</th>\n",
       "      <td>176563</td>\n",
       "      <td>172.217.10.98-192.168.50.6-443-54799-6</td>\n",
       "      <td>192.168.50.6</td>\n",
       "      <td>54799</td>\n",
       "      <td>172.217.10.98</td>\n",
       "      <td>443</td>\n",
       "      <td>6</td>\n",
       "      <td>2018-11-03 09:18:18.610576</td>\n",
       "      <td>36435473</td>\n",
       "      <td>6</td>\n",
       "      <td>...</td>\n",
       "      <td>0.000000</td>\n",
       "      <td>62416.0</td>\n",
       "      <td>62416.0</td>\n",
       "      <td>36373056.00</td>\n",
       "      <td>0.000000</td>\n",
       "      <td>36373056.0</td>\n",
       "      <td>36373056.0</td>\n",
       "      <td>0</td>\n",
       "      <td>0</td>\n",
       "      <td>BENIGN</td>\n",
       "    </tr>\n",
       "    <tr>\n",
       "      <th>3</th>\n",
       "      <td>50762</td>\n",
       "      <td>172.217.7.2-192.168.50.6-443-54800-6</td>\n",
       "      <td>192.168.50.6</td>\n",
       "      <td>54800</td>\n",
       "      <td>172.217.7.2</td>\n",
       "      <td>443</td>\n",
       "      <td>6</td>\n",
       "      <td>2018-11-03 09:18:18.610579</td>\n",
       "      <td>36434705</td>\n",
       "      <td>6</td>\n",
       "      <td>...</td>\n",
       "      <td>0.000000</td>\n",
       "      <td>62413.0</td>\n",
       "      <td>62413.0</td>\n",
       "      <td>36372291.00</td>\n",
       "      <td>0.000000</td>\n",
       "      <td>36372291.0</td>\n",
       "      <td>36372291.0</td>\n",
       "      <td>0</td>\n",
       "      <td>0</td>\n",
       "      <td>BENIGN</td>\n",
       "    </tr>\n",
       "    <tr>\n",
       "      <th>4</th>\n",
       "      <td>87149</td>\n",
       "      <td>172.217.10.98-192.168.50.6-443-54801-6</td>\n",
       "      <td>192.168.50.6</td>\n",
       "      <td>54801</td>\n",
       "      <td>172.217.10.98</td>\n",
       "      <td>443</td>\n",
       "      <td>6</td>\n",
       "      <td>2018-11-03 09:18:18.610581</td>\n",
       "      <td>36434626</td>\n",
       "      <td>6</td>\n",
       "      <td>...</td>\n",
       "      <td>0.000000</td>\n",
       "      <td>62409.0</td>\n",
       "      <td>62409.0</td>\n",
       "      <td>36372216.00</td>\n",
       "      <td>0.000000</td>\n",
       "      <td>36372216.0</td>\n",
       "      <td>36372216.0</td>\n",
       "      <td>0</td>\n",
       "      <td>0</td>\n",
       "      <td>BENIGN</td>\n",
       "    </tr>\n",
       "    <tr>\n",
       "      <th>...</th>\n",
       "      <td>...</td>\n",
       "      <td>...</td>\n",
       "      <td>...</td>\n",
       "      <td>...</td>\n",
       "      <td>...</td>\n",
       "      <td>...</td>\n",
       "      <td>...</td>\n",
       "      <td>...</td>\n",
       "      <td>...</td>\n",
       "      <td>...</td>\n",
       "      <td>...</td>\n",
       "      <td>...</td>\n",
       "      <td>...</td>\n",
       "      <td>...</td>\n",
       "      <td>...</td>\n",
       "      <td>...</td>\n",
       "      <td>...</td>\n",
       "      <td>...</td>\n",
       "      <td>...</td>\n",
       "      <td>...</td>\n",
       "      <td>...</td>\n",
       "    </tr>\n",
       "    <tr>\n",
       "      <th>191689</th>\n",
       "      <td>141421</td>\n",
       "      <td>172.16.0.5-192.168.50.4-855-47131-17</td>\n",
       "      <td>172.16.0.5</td>\n",
       "      <td>855</td>\n",
       "      <td>192.168.50.4</td>\n",
       "      <td>47131</td>\n",
       "      <td>17</td>\n",
       "      <td>2018-11-03 10:01:48.919833</td>\n",
       "      <td>1</td>\n",
       "      <td>2</td>\n",
       "      <td>...</td>\n",
       "      <td>0.000000</td>\n",
       "      <td>0.0</td>\n",
       "      <td>0.0</td>\n",
       "      <td>0.00</td>\n",
       "      <td>0.000000</td>\n",
       "      <td>0.0</td>\n",
       "      <td>0.0</td>\n",
       "      <td>0</td>\n",
       "      <td>1</td>\n",
       "      <td>Portmap</td>\n",
       "    </tr>\n",
       "    <tr>\n",
       "      <th>191690</th>\n",
       "      <td>189763</td>\n",
       "      <td>172.16.0.5-192.168.50.4-856-53617-17</td>\n",
       "      <td>172.16.0.5</td>\n",
       "      <td>856</td>\n",
       "      <td>192.168.50.4</td>\n",
       "      <td>53617</td>\n",
       "      <td>17</td>\n",
       "      <td>2018-11-03 10:01:48.920175</td>\n",
       "      <td>1</td>\n",
       "      <td>2</td>\n",
       "      <td>...</td>\n",
       "      <td>0.000000</td>\n",
       "      <td>0.0</td>\n",
       "      <td>0.0</td>\n",
       "      <td>0.00</td>\n",
       "      <td>0.000000</td>\n",
       "      <td>0.0</td>\n",
       "      <td>0.0</td>\n",
       "      <td>0</td>\n",
       "      <td>1</td>\n",
       "      <td>Portmap</td>\n",
       "    </tr>\n",
       "    <tr>\n",
       "      <th>191691</th>\n",
       "      <td>52484</td>\n",
       "      <td>172.16.0.5-192.168.50.4-857-9612-17</td>\n",
       "      <td>172.16.0.5</td>\n",
       "      <td>857</td>\n",
       "      <td>192.168.50.4</td>\n",
       "      <td>9612</td>\n",
       "      <td>17</td>\n",
       "      <td>2018-11-03 10:01:48.920464</td>\n",
       "      <td>1</td>\n",
       "      <td>2</td>\n",
       "      <td>...</td>\n",
       "      <td>0.000000</td>\n",
       "      <td>0.0</td>\n",
       "      <td>0.0</td>\n",
       "      <td>0.00</td>\n",
       "      <td>0.000000</td>\n",
       "      <td>0.0</td>\n",
       "      <td>0.0</td>\n",
       "      <td>0</td>\n",
       "      <td>1</td>\n",
       "      <td>Portmap</td>\n",
       "    </tr>\n",
       "    <tr>\n",
       "      <th>191692</th>\n",
       "      <td>176631</td>\n",
       "      <td>172.16.0.5-192.168.50.4-858-23408-17</td>\n",
       "      <td>172.16.0.5</td>\n",
       "      <td>858</td>\n",
       "      <td>192.168.50.4</td>\n",
       "      <td>23408</td>\n",
       "      <td>17</td>\n",
       "      <td>2018-11-03 10:01:48.920466</td>\n",
       "      <td>49</td>\n",
       "      <td>2</td>\n",
       "      <td>...</td>\n",
       "      <td>0.000000</td>\n",
       "      <td>0.0</td>\n",
       "      <td>0.0</td>\n",
       "      <td>0.00</td>\n",
       "      <td>0.000000</td>\n",
       "      <td>0.0</td>\n",
       "      <td>0.0</td>\n",
       "      <td>0</td>\n",
       "      <td>1</td>\n",
       "      <td>Portmap</td>\n",
       "    </tr>\n",
       "    <tr>\n",
       "      <th>191693</th>\n",
       "      <td>169688</td>\n",
       "      <td>172.16.0.5-192.168.50.4-859-50418-17</td>\n",
       "      <td>172.16.0.5</td>\n",
       "      <td>859</td>\n",
       "      <td>192.168.50.4</td>\n",
       "      <td>50418</td>\n",
       "      <td>17</td>\n",
       "      <td>2018-11-03 10:01:48.920515</td>\n",
       "      <td>1</td>\n",
       "      <td>2</td>\n",
       "      <td>...</td>\n",
       "      <td>0.000000</td>\n",
       "      <td>0.0</td>\n",
       "      <td>0.0</td>\n",
       "      <td>0.00</td>\n",
       "      <td>0.000000</td>\n",
       "      <td>0.0</td>\n",
       "      <td>0.0</td>\n",
       "      <td>0</td>\n",
       "      <td>1</td>\n",
       "      <td>Portmap</td>\n",
       "    </tr>\n",
       "  </tbody>\n",
       "</table>\n",
       "<p>191694 rows × 88 columns</p>\n",
       "</div>"
      ],
      "text/plain": [
       "        Unnamed: 0                                 Flow ID       Source IP  \\\n",
       "0               24          192.168.50.254-224.0.0.5-0-0-0  192.168.50.254   \n",
       "1               26          192.168.50.253-224.0.0.5-0-0-0  192.168.50.253   \n",
       "2           176563  172.217.10.98-192.168.50.6-443-54799-6    192.168.50.6   \n",
       "3            50762    172.217.7.2-192.168.50.6-443-54800-6    192.168.50.6   \n",
       "4            87149  172.217.10.98-192.168.50.6-443-54801-6    192.168.50.6   \n",
       "...            ...                                     ...             ...   \n",
       "191689      141421    172.16.0.5-192.168.50.4-855-47131-17      172.16.0.5   \n",
       "191690      189763    172.16.0.5-192.168.50.4-856-53617-17      172.16.0.5   \n",
       "191691       52484     172.16.0.5-192.168.50.4-857-9612-17      172.16.0.5   \n",
       "191692      176631    172.16.0.5-192.168.50.4-858-23408-17      172.16.0.5   \n",
       "191693      169688    172.16.0.5-192.168.50.4-859-50418-17      172.16.0.5   \n",
       "\n",
       "         Source Port  Destination IP   Destination Port   Protocol  \\\n",
       "0                  0       224.0.0.5                  0          0   \n",
       "1                  0       224.0.0.5                  0          0   \n",
       "2              54799   172.217.10.98                443          6   \n",
       "3              54800     172.217.7.2                443          6   \n",
       "4              54801   172.217.10.98                443          6   \n",
       "...              ...             ...                ...        ...   \n",
       "191689           855    192.168.50.4              47131         17   \n",
       "191690           856    192.168.50.4              53617         17   \n",
       "191691           857    192.168.50.4               9612         17   \n",
       "191692           858    192.168.50.4              23408         17   \n",
       "191693           859    192.168.50.4              50418         17   \n",
       "\n",
       "                         Timestamp   Flow Duration   Total Fwd Packets  ...  \\\n",
       "0       2018-11-03 09:18:16.964447       114456999                  45  ...   \n",
       "1       2018-11-03 09:18:18.506537       114347504                  56  ...   \n",
       "2       2018-11-03 09:18:18.610576        36435473                   6  ...   \n",
       "3       2018-11-03 09:18:18.610579        36434705                   6  ...   \n",
       "4       2018-11-03 09:18:18.610581        36434626                   6  ...   \n",
       "...                            ...             ...                 ...  ...   \n",
       "191689  2018-11-03 10:01:48.919833               1                   2  ...   \n",
       "191690  2018-11-03 10:01:48.920175               1                   2  ...   \n",
       "191691  2018-11-03 10:01:48.920464               1                   2  ...   \n",
       "191692  2018-11-03 10:01:48.920466              49                   2  ...   \n",
       "191693  2018-11-03 10:01:48.920515               1                   2  ...   \n",
       "\n",
       "           Active Std   Active Max   Active Min    Idle Mean       Idle Std  \\\n",
       "0        28337.112288      98168.0          3.0   9529897.25  351582.631269   \n",
       "1       121314.911865     420255.0          4.0   9493929.75  351541.079539   \n",
       "2            0.000000      62416.0      62416.0  36373056.00       0.000000   \n",
       "3            0.000000      62413.0      62413.0  36372291.00       0.000000   \n",
       "4            0.000000      62409.0      62409.0  36372216.00       0.000000   \n",
       "...               ...          ...          ...          ...            ...   \n",
       "191689       0.000000          0.0          0.0         0.00       0.000000   \n",
       "191690       0.000000          0.0          0.0         0.00       0.000000   \n",
       "191691       0.000000          0.0          0.0         0.00       0.000000   \n",
       "191692       0.000000          0.0          0.0         0.00       0.000000   \n",
       "191693       0.000000          0.0          0.0         0.00       0.000000   \n",
       "\n",
       "          Idle Max    Idle Min  SimillarHTTP   Inbound    Label  \n",
       "0       10001143.0   9048097.0             0         0   BENIGN  \n",
       "1        9978130.0   8820294.0             0         0   BENIGN  \n",
       "2       36373056.0  36373056.0             0         0   BENIGN  \n",
       "3       36372291.0  36372291.0             0         0   BENIGN  \n",
       "4       36372216.0  36372216.0             0         0   BENIGN  \n",
       "...            ...         ...           ...       ...      ...  \n",
       "191689         0.0         0.0             0         1  Portmap  \n",
       "191690         0.0         0.0             0         1  Portmap  \n",
       "191691         0.0         0.0             0         1  Portmap  \n",
       "191692         0.0         0.0             0         1  Portmap  \n",
       "191693         0.0         0.0             0         1  Portmap  \n",
       "\n",
       "[191694 rows x 88 columns]"
      ]
     },
     "execution_count": 50,
     "metadata": {},
     "output_type": "execute_result"
    }
   ],
   "source": [
    "new_data"
   ]
  },
  {
   "cell_type": "code",
   "execution_count": 51,
   "metadata": {
    "colab": {
     "base_uri": "https://localhost:8080/"
    },
    "id": "cW1WNCBjE8zh",
    "outputId": "2aaa28b2-ea4d-4f70-b5d9-93162ecee649"
   },
   "outputs": [
    {
     "name": "stderr",
     "output_type": "stream",
     "text": [
      "/tmp/ipykernel_9291/2947527355.py:2: SettingWithCopyWarning: \n",
      "A value is trying to be set on a copy of a slice from a DataFrame\n",
      "\n",
      "See the caveats in the documentation: https://pandas.pydata.org/pandas-docs/stable/user_guide/indexing.html#returning-a-view-versus-a-copy\n",
      "  new_data.rename(columns=rename_dict, inplace=True)\n"
     ]
    }
   ],
   "source": [
    "new_data = new_data[specific_columns]\n",
    "new_data.rename(columns=rename_dict, inplace=True)"
   ]
  },
  {
   "cell_type": "code",
   "execution_count": 52,
   "metadata": {
    "colab": {
     "base_uri": "https://localhost:8080/"
    },
    "id": "iqceS9yXcfUA",
    "outputId": "ec870eb7-3db3-481e-b4ec-108e46e0eb7e"
   },
   "outputs": [
    {
     "name": "stdout",
     "output_type": "stream",
     "text": [
      "<class 'pandas.core.frame.DataFrame'>\n",
      "RangeIndex: 191694 entries, 0 to 191693\n",
      "Data columns (total 10 columns):\n",
      " #   Column                 Non-Null Count   Dtype  \n",
      "---  ------                 --------------   -----  \n",
      " 0   src_ip                 191694 non-null  object \n",
      " 1   src_port               191694 non-null  int64  \n",
      " 2   dst_ip                 191694 non-null  object \n",
      " 3   dst_port               191694 non-null  int64  \n",
      " 4   flow_duration          191694 non-null  int64  \n",
      " 5   total_fwd_packets      191694 non-null  int64  \n",
      " 6   total_bwd_packets      191694 non-null  int64  \n",
      " 7   total_len_fwd_packets  191694 non-null  float64\n",
      " 8   total_len_bwd_packets  191694 non-null  float64\n",
      " 9   label                  191694 non-null  object \n",
      "dtypes: float64(2), int64(5), object(3)\n",
      "memory usage: 14.6+ MB\n"
     ]
    }
   ],
   "source": [
    "new_data.info()"
   ]
  },
  {
   "cell_type": "code",
   "execution_count": 53,
   "metadata": {
    "colab": {
     "base_uri": "https://localhost:8080/"
    },
    "id": "osEj0ittA4Ts",
    "outputId": "24468477-e723-4490-dfb7-395581c50394"
   },
   "outputs": [
    {
     "name": "stdout",
     "output_type": "stream",
     "text": [
      "Columns missing in new_data: set()\n",
      "Columns extra in new_data: {'label'}\n"
     ]
    }
   ],
   "source": [
    "len(X.columns),len(new_data.columns)\n",
    "# Check for missing columns in new_data compared to train data X\n",
    "missing_columns = set(X.columns) - set(new_data.columns)\n",
    "\n",
    "# Check for missing columns in train data X compared to new_data\n",
    "extra_columns = set(new_data.columns) - set(X.columns)\n",
    "\n",
    "print(\"Columns missing in new_data:\", missing_columns)\n",
    "print(\"Columns extra in new_data:\", extra_columns)"
   ]
  },
  {
   "cell_type": "code",
   "execution_count": 54,
   "metadata": {
    "colab": {
     "base_uri": "https://localhost:8080/",
     "height": 226
    },
    "id": "6S-vpcNyCqcl",
    "outputId": "5abb58ff-afa3-4a73-db94-427fbae2b5f4"
   },
   "outputs": [
    {
     "data": {
      "text/html": [
       "<div>\n",
       "<style scoped>\n",
       "    .dataframe tbody tr th:only-of-type {\n",
       "        vertical-align: middle;\n",
       "    }\n",
       "\n",
       "    .dataframe tbody tr th {\n",
       "        vertical-align: top;\n",
       "    }\n",
       "\n",
       "    .dataframe thead th {\n",
       "        text-align: right;\n",
       "    }\n",
       "</style>\n",
       "<table border=\"1\" class=\"dataframe\">\n",
       "  <thead>\n",
       "    <tr style=\"text-align: right;\">\n",
       "      <th></th>\n",
       "      <th>src_ip</th>\n",
       "      <th>src_port</th>\n",
       "      <th>dst_ip</th>\n",
       "      <th>dst_port</th>\n",
       "      <th>flow_duration</th>\n",
       "      <th>total_fwd_packets</th>\n",
       "      <th>total_bwd_packets</th>\n",
       "      <th>total_len_fwd_packets</th>\n",
       "      <th>total_len_bwd_packets</th>\n",
       "      <th>label</th>\n",
       "    </tr>\n",
       "  </thead>\n",
       "  <tbody>\n",
       "    <tr>\n",
       "      <th>0</th>\n",
       "      <td>192.168.50.254</td>\n",
       "      <td>0</td>\n",
       "      <td>224.0.0.5</td>\n",
       "      <td>0</td>\n",
       "      <td>114456999</td>\n",
       "      <td>45</td>\n",
       "      <td>0</td>\n",
       "      <td>0.0</td>\n",
       "      <td>0.0</td>\n",
       "      <td>BENIGN</td>\n",
       "    </tr>\n",
       "    <tr>\n",
       "      <th>1</th>\n",
       "      <td>192.168.50.253</td>\n",
       "      <td>0</td>\n",
       "      <td>224.0.0.5</td>\n",
       "      <td>0</td>\n",
       "      <td>114347504</td>\n",
       "      <td>56</td>\n",
       "      <td>0</td>\n",
       "      <td>0.0</td>\n",
       "      <td>0.0</td>\n",
       "      <td>BENIGN</td>\n",
       "    </tr>\n",
       "    <tr>\n",
       "      <th>2</th>\n",
       "      <td>192.168.50.6</td>\n",
       "      <td>54799</td>\n",
       "      <td>172.217.10.98</td>\n",
       "      <td>443</td>\n",
       "      <td>36435473</td>\n",
       "      <td>6</td>\n",
       "      <td>2</td>\n",
       "      <td>116.0</td>\n",
       "      <td>92.0</td>\n",
       "      <td>BENIGN</td>\n",
       "    </tr>\n",
       "    <tr>\n",
       "      <th>3</th>\n",
       "      <td>192.168.50.6</td>\n",
       "      <td>54800</td>\n",
       "      <td>172.217.7.2</td>\n",
       "      <td>443</td>\n",
       "      <td>36434705</td>\n",
       "      <td>6</td>\n",
       "      <td>2</td>\n",
       "      <td>116.0</td>\n",
       "      <td>92.0</td>\n",
       "      <td>BENIGN</td>\n",
       "    </tr>\n",
       "    <tr>\n",
       "      <th>4</th>\n",
       "      <td>192.168.50.6</td>\n",
       "      <td>54801</td>\n",
       "      <td>172.217.10.98</td>\n",
       "      <td>443</td>\n",
       "      <td>36434626</td>\n",
       "      <td>6</td>\n",
       "      <td>2</td>\n",
       "      <td>116.0</td>\n",
       "      <td>92.0</td>\n",
       "      <td>BENIGN</td>\n",
       "    </tr>\n",
       "  </tbody>\n",
       "</table>\n",
       "</div>"
      ],
      "text/plain": [
       "           src_ip  src_port         dst_ip  dst_port  flow_duration  \\\n",
       "0  192.168.50.254         0      224.0.0.5         0      114456999   \n",
       "1  192.168.50.253         0      224.0.0.5         0      114347504   \n",
       "2    192.168.50.6     54799  172.217.10.98       443       36435473   \n",
       "3    192.168.50.6     54800    172.217.7.2       443       36434705   \n",
       "4    192.168.50.6     54801  172.217.10.98       443       36434626   \n",
       "\n",
       "   total_fwd_packets  total_bwd_packets  total_len_fwd_packets  \\\n",
       "0                 45                  0                    0.0   \n",
       "1                 56                  0                    0.0   \n",
       "2                  6                  2                  116.0   \n",
       "3                  6                  2                  116.0   \n",
       "4                  6                  2                  116.0   \n",
       "\n",
       "   total_len_bwd_packets   label  \n",
       "0                    0.0  BENIGN  \n",
       "1                    0.0  BENIGN  \n",
       "2                   92.0  BENIGN  \n",
       "3                   92.0  BENIGN  \n",
       "4                   92.0  BENIGN  "
      ]
     },
     "execution_count": 54,
     "metadata": {},
     "output_type": "execute_result"
    }
   ],
   "source": [
    "new_data.head(5)"
   ]
  },
  {
   "cell_type": "code",
   "execution_count": 55,
   "metadata": {
    "colab": {
     "base_uri": "https://localhost:8080/",
     "height": 747
    },
    "id": "nFH_Hg9zmDY3",
    "outputId": "020b9cc6-042b-4a57-8665-70b6ed8db052"
   },
   "outputs": [
    {
     "name": "stderr",
     "output_type": "stream",
     "text": [
      "/tmp/ipykernel_9291/2559430284.py:10: SettingWithCopyWarning: \n",
      "A value is trying to be set on a copy of a slice from a DataFrame.\n",
      "Try using .loc[row_indexer,col_indexer] = value instead\n",
      "\n",
      "See the caveats in the documentation: https://pandas.pydata.org/pandas-docs/stable/user_guide/indexing.html#returning-a-view-versus-a-copy\n",
      "  new_data['src_ip'] = encoder_src_ip.fit_transform(new_data['src_ip'])\n",
      "/tmp/ipykernel_9291/2559430284.py:11: SettingWithCopyWarning: \n",
      "A value is trying to be set on a copy of a slice from a DataFrame.\n",
      "Try using .loc[row_indexer,col_indexer] = value instead\n",
      "\n",
      "See the caveats in the documentation: https://pandas.pydata.org/pandas-docs/stable/user_guide/indexing.html#returning-a-view-versus-a-copy\n",
      "  new_data['dst_ip'] = encoder_dst_ip.fit_transform(new_data['dst_ip'])\n",
      "/tmp/ipykernel_9291/2559430284.py:12: SettingWithCopyWarning: \n",
      "A value is trying to be set on a copy of a slice from a DataFrame.\n",
      "Try using .loc[row_indexer,col_indexer] = value instead\n",
      "\n",
      "See the caveats in the documentation: https://pandas.pydata.org/pandas-docs/stable/user_guide/indexing.html#returning-a-view-versus-a-copy\n",
      "  new_data['src_port'] = encoder_src_port.fit_transform(new_data['src_port'])\n",
      "/tmp/ipykernel_9291/2559430284.py:13: SettingWithCopyWarning: \n",
      "A value is trying to be set on a copy of a slice from a DataFrame.\n",
      "Try using .loc[row_indexer,col_indexer] = value instead\n",
      "\n",
      "See the caveats in the documentation: https://pandas.pydata.org/pandas-docs/stable/user_guide/indexing.html#returning-a-view-versus-a-copy\n",
      "  new_data['dst_port'] = encoder_dst_port.fit_transform(new_data['dst_port'].astype(str))\n",
      "/tmp/ipykernel_9291/2559430284.py:15: SettingWithCopyWarning: \n",
      "A value is trying to be set on a copy of a slice from a DataFrame.\n",
      "Try using .loc[row_indexer,col_indexer] = value instead\n",
      "\n",
      "See the caveats in the documentation: https://pandas.pydata.org/pandas-docs/stable/user_guide/indexing.html#returning-a-view-versus-a-copy\n",
      "  new_data['label'] = encoder_label.fit_transform(new_data['label'])\n"
     ]
    },
    {
     "data": {
      "text/html": [
       "<div>\n",
       "<style scoped>\n",
       "    .dataframe tbody tr th:only-of-type {\n",
       "        vertical-align: middle;\n",
       "    }\n",
       "\n",
       "    .dataframe tbody tr th {\n",
       "        vertical-align: top;\n",
       "    }\n",
       "\n",
       "    .dataframe thead th {\n",
       "        text-align: right;\n",
       "    }\n",
       "</style>\n",
       "<table border=\"1\" class=\"dataframe\">\n",
       "  <thead>\n",
       "    <tr style=\"text-align: right;\">\n",
       "      <th></th>\n",
       "      <th>src_ip</th>\n",
       "      <th>src_port</th>\n",
       "      <th>dst_ip</th>\n",
       "      <th>dst_port</th>\n",
       "      <th>flow_duration</th>\n",
       "      <th>total_fwd_packets</th>\n",
       "      <th>total_bwd_packets</th>\n",
       "      <th>total_len_fwd_packets</th>\n",
       "      <th>total_len_bwd_packets</th>\n",
       "      <th>label</th>\n",
       "    </tr>\n",
       "  </thead>\n",
       "  <tbody>\n",
       "    <tr>\n",
       "      <th>0</th>\n",
       "      <td>90</td>\n",
       "      <td>0</td>\n",
       "      <td>124</td>\n",
       "      <td>0</td>\n",
       "      <td>114456999</td>\n",
       "      <td>45</td>\n",
       "      <td>0</td>\n",
       "      <td>0.0</td>\n",
       "      <td>0.0</td>\n",
       "      <td>0</td>\n",
       "    </tr>\n",
       "    <tr>\n",
       "      <th>1</th>\n",
       "      <td>89</td>\n",
       "      <td>0</td>\n",
       "      <td>124</td>\n",
       "      <td>0</td>\n",
       "      <td>114347504</td>\n",
       "      <td>56</td>\n",
       "      <td>0</td>\n",
       "      <td>0.0</td>\n",
       "      <td>0.0</td>\n",
       "      <td>0</td>\n",
       "    </tr>\n",
       "    <tr>\n",
       "      <th>2</th>\n",
       "      <td>92</td>\n",
       "      <td>1461</td>\n",
       "      <td>33</td>\n",
       "      <td>35314</td>\n",
       "      <td>36435473</td>\n",
       "      <td>6</td>\n",
       "      <td>2</td>\n",
       "      <td>116.0</td>\n",
       "      <td>92.0</td>\n",
       "      <td>0</td>\n",
       "    </tr>\n",
       "    <tr>\n",
       "      <th>3</th>\n",
       "      <td>92</td>\n",
       "      <td>1462</td>\n",
       "      <td>76</td>\n",
       "      <td>35314</td>\n",
       "      <td>36434705</td>\n",
       "      <td>6</td>\n",
       "      <td>2</td>\n",
       "      <td>116.0</td>\n",
       "      <td>92.0</td>\n",
       "      <td>0</td>\n",
       "    </tr>\n",
       "    <tr>\n",
       "      <th>4</th>\n",
       "      <td>92</td>\n",
       "      <td>1463</td>\n",
       "      <td>33</td>\n",
       "      <td>35314</td>\n",
       "      <td>36434626</td>\n",
       "      <td>6</td>\n",
       "      <td>2</td>\n",
       "      <td>116.0</td>\n",
       "      <td>92.0</td>\n",
       "      <td>0</td>\n",
       "    </tr>\n",
       "  </tbody>\n",
       "</table>\n",
       "</div>"
      ],
      "text/plain": [
       "   src_ip  src_port  dst_ip  dst_port  flow_duration  total_fwd_packets  \\\n",
       "0      90         0     124         0      114456999                 45   \n",
       "1      89         0     124         0      114347504                 56   \n",
       "2      92      1461      33     35314       36435473                  6   \n",
       "3      92      1462      76     35314       36434705                  6   \n",
       "4      92      1463      33     35314       36434626                  6   \n",
       "\n",
       "   total_bwd_packets  total_len_fwd_packets  total_len_bwd_packets  label  \n",
       "0                  0                    0.0                    0.0      0  \n",
       "1                  0                    0.0                    0.0      0  \n",
       "2                  2                  116.0                   92.0      0  \n",
       "3                  2                  116.0                   92.0      0  \n",
       "4                  2                  116.0                   92.0      0  "
      ]
     },
     "execution_count": 55,
     "metadata": {},
     "output_type": "execute_result"
    }
   ],
   "source": [
    "# Create separate LabelEncoders for each categorical feature\n",
    "encoder_src_ip = LabelEncoder()\n",
    "encoder_dst_ip = LabelEncoder()\n",
    "encoder_src_port = LabelEncoder()\n",
    "encoder_dst_port = LabelEncoder()\n",
    "\n",
    "encoder_label = LabelEncoder()\n",
    "\n",
    "# Fit and transform the categorical features\n",
    "new_data['src_ip'] = encoder_src_ip.fit_transform(new_data['src_ip'])\n",
    "new_data['dst_ip'] = encoder_dst_ip.fit_transform(new_data['dst_ip'])\n",
    "new_data['src_port'] = encoder_src_port.fit_transform(new_data['src_port'])\n",
    "new_data['dst_port'] = encoder_dst_port.fit_transform(new_data['dst_port'].astype(str))\n",
    "\n",
    "new_data['label'] = encoder_label.fit_transform(new_data['label'])\n",
    "new_data.head()"
   ]
  },
  {
   "cell_type": "code",
   "execution_count": 56,
   "metadata": {
    "colab": {
     "base_uri": "https://localhost:8080/"
    },
    "id": "7xpQU2yfiNcb",
    "outputId": "2d3f5dba-66cc-46dd-e50f-b6b8da6837be"
   },
   "outputs": [
    {
     "data": {
      "text/plain": [
       "{0, 1}"
      ]
     },
     "execution_count": 56,
     "metadata": {},
     "output_type": "execute_result"
    }
   ],
   "source": [
    "set(new_data['label'])"
   ]
  },
  {
   "cell_type": "code",
   "execution_count": 57,
   "metadata": {
    "colab": {
     "base_uri": "https://localhost:8080/"
    },
    "id": "GAUlYXvvtw9O",
    "outputId": "c3ee8de5-822f-45ca-9088-5bacabb79181"
   },
   "outputs": [
    {
     "name": "stdout",
     "output_type": "stream",
     "text": [
      "Mapping between original labels and encoded numbers:\n",
      "BENIGN: 0\n",
      "Portmap: 1\n"
     ]
    }
   ],
   "source": [
    "# Inspect the mapping between original labels and encoded numbers\n",
    "print(\"Mapping between original labels and encoded numbers:\")\n",
    "for label, encoded_label in zip(encoder_label.classes_, encoder_label.transform(encoder_label.classes_)):\n",
    "    print(f\"{label}: {encoded_label}\")"
   ]
  },
  {
   "cell_type": "code",
   "execution_count": 58,
   "metadata": {
    "id": "Hsdj1VWT_gtK"
   },
   "outputs": [],
   "source": [
    "X_new = new_data.drop('label', axis=1)"
   ]
  },
  {
   "cell_type": "code",
   "execution_count": 59,
   "metadata": {
    "id": "3w3vyogQb8iE"
   },
   "outputs": [],
   "source": [
    "X_new.replace([np.inf, -np.inf], np.nan, inplace=True)\n",
    "imputer = SimpleImputer(missing_values=np.nan, strategy='mean')\n",
    "X_new = imputer.fit_transform(X_new)\n",
    "scaler = StandardScaler()\n",
    "X_new = scaler.fit_transform(X_new)\n",
    "\n",
    "#Labels for comparison (They are not always available for some datasets)\n",
    "y_new = new_data['label']"
   ]
  },
  {
   "cell_type": "code",
   "execution_count": 60,
   "metadata": {
    "colab": {
     "base_uri": "https://localhost:8080/"
    },
    "id": "hc83C6eK_XjD",
    "outputId": "f87b8a18-261a-41ce-ad41-a331c9b262dc"
   },
   "outputs": [
    {
     "data": {
      "text/plain": [
       "1    186960\n",
       "0      4734\n",
       "Name: label, dtype: int64"
      ]
     },
     "execution_count": 60,
     "metadata": {},
     "output_type": "execute_result"
    }
   ],
   "source": [
    "y_new.value_counts()"
   ]
  },
  {
   "cell_type": "markdown",
   "metadata": {
    "id": "yz2fc-oDBfw_",
    "tags": []
   },
   "source": [
    "### Prediction"
   ]
  },
  {
   "cell_type": "code",
   "execution_count": 61,
   "metadata": {
    "colab": {
     "base_uri": "https://localhost:8080/"
    },
    "id": "SuYSrD_DranY",
    "outputId": "b31af589-4dd8-4d52-e128-c6c494e7e4a0"
   },
   "outputs": [
    {
     "name": "stderr",
     "output_type": "stream",
     "text": [
      "/home/ec2-user/anaconda3/envs/tensorflow2_p310/lib/python3.10/site-packages/sklearn/base.py:493: UserWarning: X does not have valid feature names, but LogisticRegression was fitted with feature names\n",
      "  warnings.warn(\n",
      "/home/ec2-user/anaconda3/envs/tensorflow2_p310/lib/python3.10/site-packages/sklearn/base.py:493: UserWarning: X does not have valid feature names, but RandomForestClassifier was fitted with feature names\n",
      "  warnings.warn(\n",
      "/home/ec2-user/anaconda3/envs/tensorflow2_p310/lib/python3.10/site-packages/sklearn/base.py:493: UserWarning: X does not have valid feature names, but SVC was fitted with feature names\n",
      "  warnings.warn(\n"
     ]
    },
    {
     "name": "stdout",
     "output_type": "stream",
     "text": [
      "       Logistic Regression                     Random Forest  \\\n",
      "           Predicted_Label Mapped_Prediction Predicted_Label   \n",
      "0                        0         No Attack               0   \n",
      "1                        0         No Attack               0   \n",
      "2                        0         No Attack               0   \n",
      "3                        0         No Attack               0   \n",
      "4                        0         No Attack               0   \n",
      "...                    ...               ...             ...   \n",
      "191689                   0         No Attack               0   \n",
      "191690                   0         No Attack               0   \n",
      "191691                   0         No Attack               0   \n",
      "191692                   0         No Attack               0   \n",
      "191693                   0         No Attack               0   \n",
      "\n",
      "                         Support Vector Machine                    \n",
      "       Mapped_Prediction        Predicted_Label Mapped_Prediction  \n",
      "0              No Attack                      0         No Attack  \n",
      "1              No Attack                      0         No Attack  \n",
      "2              No Attack                      0         No Attack  \n",
      "3              No Attack                      0         No Attack  \n",
      "4              No Attack                      0         No Attack  \n",
      "...                  ...                    ...               ...  \n",
      "191689         No Attack                      0         No Attack  \n",
      "191690         No Attack                      0         No Attack  \n",
      "191691         No Attack                      0         No Attack  \n",
      "191692         No Attack                      1            Attack  \n",
      "191693         No Attack                      0         No Attack  \n",
      "\n",
      "[191694 rows x 6 columns]\n",
      "                    Model  Accuracy\n",
      "0     Logistic Regression  0.171622\n",
      "1           Random Forest  0.024696\n",
      "2  Support Vector Machine  0.144355\n"
     ]
    }
   ],
   "source": [
    "import pandas as pd\n",
    "from sklearn.metrics import accuracy_score\n",
    "\n",
    "# Assuming X_new and y_new are already defined\n",
    "# Example:\n",
    "# X_new = ...\n",
    "# y_new = ...\n",
    "\n",
    "# Initialize an empty DataFrame for predictions\n",
    "all_predictions_df = pd.DataFrame()\n",
    "\n",
    "# Initialize a list to store model names and accuracies\n",
    "model_names = []\n",
    "accuracies = []\n",
    "\n",
    "# Iterate over each loaded model\n",
    "for name, model in loaded_models.items():\n",
    "    # Make predictions on test data\n",
    "    y_pred = model.predict(X_new)\n",
    "\n",
    "    # Calculate accuracy\n",
    "    accuracy = accuracy_score(y_new, y_pred)\n",
    "    accuracies.append(accuracy)\n",
    "\n",
    "    # Map the predicted labels\n",
    "    mapped_predictions = ['No Attack' if label == 0 else 'Attack' for label in y_pred]\n",
    "\n",
    "    # Add the model name to the list\n",
    "    model_names.append(name)\n",
    "\n",
    "    # Create a DataFrame for predicted labels\n",
    "    predicted_labels_df = pd.DataFrame({'Predicted_Label': y_pred, 'Mapped_Prediction': mapped_predictions})\n",
    "\n",
    "    # Add the DataFrame to the overall DataFrame\n",
    "    all_predictions_df = pd.concat([all_predictions_df, predicted_labels_df], axis=1)\n",
    "\n",
    "# Set the column names for the first row\n",
    "all_predictions_df.columns = pd.MultiIndex.from_product([model_names, ['Predicted_Label', 'Mapped_Prediction']])\n",
    "\n",
    "# Create a DataFrame for accuracies\n",
    "accuracy_df = pd.DataFrame({'Model': model_names, 'Accuracy': accuracies})\n",
    "\n",
    "# Print the predictions DataFrame\n",
    "print(all_predictions_df)\n",
    "\n",
    "# Print the accuracies DataFrame\n",
    "print(accuracy_df)"
   ]
  },
  {
   "cell_type": "code",
   "execution_count": 62,
   "metadata": {
    "colab": {
     "base_uri": "https://localhost:8080/",
     "height": 1000
    },
    "id": "FQ5vngRkrYUk",
    "outputId": "3e0cfef4-5655-4da6-b657-93a76b91bf3c",
    "tags": []
   },
   "outputs": [
    {
     "name": "stdout",
     "output_type": "stream",
     "text": [
      "Logistic Regression:\n",
      "Accuracy: 0.1716224816634845\n",
      "F1 score: 0.256963294136749\n",
      "Classification Report:\n"
     ]
    },
    {
     "name": "stderr",
     "output_type": "stream",
     "text": [
      "/home/ec2-user/anaconda3/envs/tensorflow2_p310/lib/python3.10/site-packages/sklearn/base.py:493: UserWarning: X does not have valid feature names, but LogisticRegression was fitted with feature names\n",
      "  warnings.warn(\n"
     ]
    },
    {
     "name": "stdout",
     "output_type": "stream",
     "text": [
      "              precision    recall  f1-score   support\n",
      "\n",
      "           0       0.03      0.99      0.06      4734\n",
      "           1       1.00      0.15      0.26    186960\n",
      "\n",
      "    accuracy                           0.17    191694\n",
      "   macro avg       0.51      0.57      0.16    191694\n",
      "weighted avg       0.97      0.17      0.26    191694\n",
      "\n",
      "\n",
      "\n"
     ]
    },
    {
     "name": "stderr",
     "output_type": "stream",
     "text": [
      "/home/ec2-user/anaconda3/envs/tensorflow2_p310/lib/python3.10/site-packages/sklearn/base.py:493: UserWarning: X does not have valid feature names, but RandomForestClassifier was fitted with feature names\n",
      "  warnings.warn(\n"
     ]
    },
    {
     "name": "stdout",
     "output_type": "stream",
     "text": [
      "Random Forest:\n",
      "Accuracy: 0.024695608626248082\n",
      "F1 score: 0.0011903497590634575\n",
      "Classification Report:\n",
      "              precision    recall  f1-score   support\n",
      "\n",
      "           0       0.02      1.00      0.05      4734\n",
      "           1       0.00      0.00      0.00    186960\n",
      "\n",
      "    accuracy                           0.02    191694\n",
      "   macro avg       0.01      0.50      0.02    191694\n",
      "weighted avg       0.00      0.02      0.00    191694\n",
      "\n",
      "\n",
      "\n"
     ]
    },
    {
     "name": "stderr",
     "output_type": "stream",
     "text": [
      "/home/ec2-user/anaconda3/envs/tensorflow2_p310/lib/python3.10/site-packages/sklearn/metrics/_classification.py:1517: UndefinedMetricWarning: Precision is ill-defined and being set to 0.0 in labels with no predicted samples. Use `zero_division` parameter to control this behavior.\n",
      "  _warn_prf(average, modifier, f\"{metric.capitalize()} is\", len(result))\n",
      "/home/ec2-user/anaconda3/envs/tensorflow2_p310/lib/python3.10/site-packages/sklearn/metrics/_classification.py:1517: UndefinedMetricWarning: Precision is ill-defined and being set to 0.0 in labels with no predicted samples. Use `zero_division` parameter to control this behavior.\n",
      "  _warn_prf(average, modifier, f\"{metric.capitalize()} is\", len(result))\n",
      "/home/ec2-user/anaconda3/envs/tensorflow2_p310/lib/python3.10/site-packages/sklearn/metrics/_classification.py:1517: UndefinedMetricWarning: Precision is ill-defined and being set to 0.0 in labels with no predicted samples. Use `zero_division` parameter to control this behavior.\n",
      "  _warn_prf(average, modifier, f\"{metric.capitalize()} is\", len(result))\n",
      "/home/ec2-user/anaconda3/envs/tensorflow2_p310/lib/python3.10/site-packages/sklearn/base.py:493: UserWarning: X does not have valid feature names, but SVC was fitted with feature names\n",
      "  warnings.warn(\n"
     ]
    },
    {
     "name": "stdout",
     "output_type": "stream",
     "text": [
      "Support Vector Machine:\n",
      "Accuracy: 0.1443550658862562\n",
      "F1 score: 0.21454145057617724\n",
      "Classification Report:\n",
      "              precision    recall  f1-score   support\n",
      "\n",
      "           0       0.03      1.00      0.05      4734\n",
      "           1       1.00      0.12      0.22    186960\n",
      "\n",
      "    accuracy                           0.14    191694\n",
      "   macro avg       0.51      0.56      0.14    191694\n",
      "weighted avg       0.98      0.14      0.21    191694\n",
      "\n",
      "\n",
      "\n"
     ]
    },
    {
     "data": {
      "image/png": "[encoded data removed]",
      "text/plain": [
       "<Figure size 800x400 with 1 Axes>"
      ]
     },
     "metadata": {},
     "output_type": "display_data"
    },
    {
     "data": {
      "image/png": "[encoded data removed]",
      "text/plain": [
       "<Figure size 600x300 with 1 Axes>"
      ]
     },
     "metadata": {},
     "output_type": "display_data"
    },
    {
     "name": "stdout",
     "output_type": "stream",
     "text": [
      "Model Comparison:\n",
      "                    Model  Accuracy  F1 Score\n",
      "0     Logistic Regression  0.171622  0.256963\n",
      "1           Random Forest  0.024696  0.001190\n",
      "2  Support Vector Machine  0.144355  0.214541\n"
     ]
    },
    {
     "data": {
      "image/png": "[encoded data removed]",
      "text/plain": [
       "<Figure size 600x300 with 2 Axes>"
      ]
     },
     "metadata": {},
     "output_type": "display_data"
    },
    {
     "data": {
      "image/png": "[encoded data removed]",
      "text/plain": [
       "<Figure size 600x300 with 2 Axes>"
      ]
     },
     "metadata": {},
     "output_type": "display_data"
    },
    {
     "data": {
      "image/png": "[encoded data removed]",
      "text/plain": [
       "<Figure size 600x300 with 2 Axes>"
      ]
     },
     "metadata": {},
     "output_type": "display_data"
    }
   ],
   "source": [
    "import pandas as pd\n",
    "import matplotlib.pyplot as plt\n",
    "import seaborn as sns\n",
    "from sklearn.metrics import accuracy_score, f1_score, classification_report, confusion_matrix\n",
    "\n",
    "# Initialize the DataFrame to store model comparison\n",
    "model_comparison = pd.DataFrame(columns=[\"Model\", \"Accuracy\", \"F1 Score\"])\n",
    "\n",
    "# Initialize dictionary to store confusion matrices\n",
    "confusion_matrices = {}\n",
    "\n",
    "# Initialize lists to store accuracy and F1 score for each model\n",
    "accuracy_scores = []\n",
    "f1_scores = []\n",
    "\n",
    "# Iterate over each loaded model\n",
    "for name, model in loaded_models.items():\n",
    "    # Make predictions on test data\n",
    "    y_pred = model.predict(X_new)\n",
    "\n",
    "    # Calculate evaluation metrics\n",
    "    accuracy = accuracy_score(y_new, y_pred)\n",
    "    f1 = f1_score(y_new, y_pred, average='weighted')\n",
    "\n",
    "    # Calculate confusion matrix\n",
    "    cm = confusion_matrix(y_new, y_pred)\n",
    "    confusion_matrices[name] = cm\n",
    "\n",
    "    # Append results to model comparison DataFrame\n",
    "    model_comparison = model_comparison._append({\"Model\": name, \"Accuracy\": accuracy, \"F1 Score\": f1}, ignore_index=True)\n",
    "\n",
    "    # Append accuracy and F1 score to lists\n",
    "    accuracy_scores.append(accuracy)\n",
    "    f1_scores.append(f1)\n",
    "\n",
    "    # Print model evaluation metrics and confusion matrix\n",
    "    print(f\"{name}:\")\n",
    "    print(f\"Accuracy: {accuracy}\")\n",
    "    print(f\"F1 score: {f1}\")\n",
    "    print(\"Classification Report:\")\n",
    "    print(classification_report(y_new, y_pred))\n",
    "    print(\"\\n\")\n",
    "\n",
    "# Plotting accuracy scores\n",
    "plt.figure(figsize=(8, 4))\n",
    "plt.bar(model_comparison['Model'], accuracy_scores, color='skyblue')\n",
    "plt.title('Accuracy Comparison')\n",
    "plt.xlabel('Model')\n",
    "plt.ylabel('Accuracy')\n",
    "plt.xticks(rotation=45)\n",
    "plt.show()\n",
    "\n",
    "# Plotting F1 scores\n",
    "plt.figure(figsize=(6, 3))\n",
    "plt.bar(model_comparison['Model'], f1_scores, color='orange')\n",
    "plt.title('F1 Score Comparison')\n",
    "plt.xlabel('Model')\n",
    "plt.ylabel('F1 Score')\n",
    "plt.xticks(rotation=45)\n",
    "plt.show()\n",
    "\n",
    "# Displaying the model comparison DataFrame\n",
    "print(\"Model Comparison:\")\n",
    "print(model_comparison)\n",
    "\n",
    "# Plot confusion matrices for each model using Seaborn\n",
    "for name, cm in confusion_matrices.items():\n",
    "    plt.figure(figsize=(6, 3))\n",
    "    sns.heatmap(cm, annot=True, fmt='d', cmap='Blues', xticklabels=True, yticklabels=True)\n",
    "    plt.title(f\"Confusion Matrix for {name}\")\n",
    "    plt.xlabel(\"Predicted Labels\")\n",
    "    plt.ylabel(\"True Labels\")\n",
    "    plt.show()"
   ]
  }
 ],
 "metadata": {
  "accelerator": "GPU",
  "colab": {
   "gpuType": "T4",
   "provenance": []
  },
  "kernelspec": {
   "display_name": "conda_tensorflow2_p310",
   "language": "python",
   "name": "conda_tensorflow2_p310"
  },
  "language_info": {
   "codemirror_mode": {
    "name": "ipython",
    "version": 3
   },
   "file_extension": ".py",
   "mimetype": "text/x-python",
   "name": "python",
   "nbconvert_exporter": "python",
   "pygments_lexer": "ipython3",
   "version": "3.10.14"
  }
 },
 "nbformat": 4,
 "nbformat_minor": 4
}
